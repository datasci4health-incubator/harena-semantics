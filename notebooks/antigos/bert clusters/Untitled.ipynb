{
 "cells": [
  {
   "cell_type": "code",
   "execution_count": 5,
   "id": "entire-syria",
   "metadata": {},
   "outputs": [
    {
     "name": "stdout",
     "output_type": "stream",
     "text": [
      "Requirement already satisfied: pysolr in /opt/conda/lib/python3.8/site-packages (3.9.0)\n",
      "Requirement already satisfied: requests>=2.9.1 in /opt/conda/lib/python3.8/site-packages (from pysolr) (2.25.1)\n",
      "Requirement already satisfied: urllib3<1.27,>=1.21.1 in /opt/conda/lib/python3.8/site-packages (from requests>=2.9.1->pysolr) (1.26.2)\n",
      "Requirement already satisfied: chardet<5,>=3.0.2 in /opt/conda/lib/python3.8/site-packages (from requests>=2.9.1->pysolr) (4.0.0)\n",
      "Requirement already satisfied: certifi>=2017.4.17 in /opt/conda/lib/python3.8/site-packages (from requests>=2.9.1->pysolr) (2020.12.5)\n",
      "Requirement already satisfied: idna<3,>=2.5 in /opt/conda/lib/python3.8/site-packages (from requests>=2.9.1->pysolr) (2.10)\n"
     ]
    },
    {
     "data": {
      "text/plain": [
       "'{\\n  \"responseHeader\":{\\n    \"zkConnected\":null,\\n    \"status\":0,\\n    \"QTime\":0,\\n    \"params\":{\\n      \"q\":\"{!lucene}*:*\",\\n      \"distrib\":\"false\",\\n      \"df\":\"_text_\",\\n      \"rows\":\"10\",\\n      \"echoParams\":\"all\"}},\\n  \"status\":\"OK\"}\\n'"
      ]
     },
     "execution_count": 5,
     "metadata": {},
     "output_type": "execute_result"
    }
   ],
   "source": [
    "!pip install pysolr\n",
    "\n",
    "import pysolr, os\n",
    "\n",
    "SOLR_URL = 'http://' + os.environ['SOLR_HOST'] + ':8983/solr/bert-clusters'\n",
    "\n",
    "solr = pysolr.Solr(SOLR_URL, always_commit=False, results_cls=dict)\n",
    "\n",
    "# Do a health check.\n",
    "solr.ping()"
   ]
  },
  {
   "cell_type": "code",
   "execution_count": 20,
   "id": "sophisticated-occasions",
   "metadata": {},
   "outputs": [
    {
     "data": {
      "text/plain": [
       "array([\"['Grove', 'Edgar', 'Herman', 'Adolf', 'Andre', 'Marcel', 'Clement', 'Turin', '##anza', 'Oswald', 'Ramon', 'Tomas', 'Moran', 'Kris', 'Emilia', 'Ramón', 'Tao', 'Lombard']\"],\n",
       "      dtype=object)"
      ]
     },
     "execution_count": 20,
     "metadata": {},
     "output_type": "execute_result"
    }
   ],
   "source": [
    "import pandas as pd\n",
    "\n",
    "df=pd.read_csv('clustering-results/biobert-base/6000clusters.tsv', sep='\\t',header=None)\n",
    "\n",
    "original_clusters_tokens = df.to_numpy()\n",
    "clusters_tokens = original_clusters_tokens[:,:1]\n",
    "clusters_tokens[0]"
   ]
  },
  {
   "cell_type": "code",
   "execution_count": 21,
   "id": "three-effectiveness",
   "metadata": {},
   "outputs": [
    {
     "data": {
      "text/plain": [
       "\"['Grove', 'Edgar', 'Herman', 'Adolf', 'Andre', 'Marcel', 'Clement', 'Turin', '##anza', 'Oswald', 'Ramon', 'Tomas', 'Moran', 'Kris', 'Emilia', 'Ramón', 'Tao', 'Lombard']\""
      ]
     },
     "execution_count": 21,
     "metadata": {},
     "output_type": "execute_result"
    }
   ],
   "source": [
    "clusters_tokens[0][0]"
   ]
  },
  {
   "cell_type": "code",
   "execution_count": 24,
   "id": "approximate-federal",
   "metadata": {},
   "outputs": [
    {
     "data": {
      "text/plain": [
       "'<?xml version=\"1.0\" encoding=\"UTF-8\"?>\\n<response>\\n\\n<lst name=\"responseHeader\">\\n  <int name=\"status\">0</int>\\n  <int name=\"QTime\">208</int>\\n</lst>\\n</response>\\n'"
      ]
     },
     "execution_count": 24,
     "metadata": {},
     "output_type": "execute_result"
    }
   ],
   "source": [
    "clusters = []\n",
    "\n",
    "for i in clusters_tokens:\n",
    "    cluster = dict()\n",
    "    cluster.update({'tokens': i[0]})\n",
    "    clusters.append(cluster)\n",
    "\n",
    "# cluster = dict()\n",
    "\n",
    "# tokens = ['¬', 'À', 'ě', 'ʀ', 'Ф', '∂', 'Deputy', 'Disney', 'franchise', 'deputy', 'Trophy', 'Julian', 'Freyja', 'locomotives', '°F', 'Confederate', 'Knights', 'freight', 'Herald', 'Rovers', 'Travis', 'Gage', 'Tracy', 'wagon', 'Madame', 'Jessie', 'Chronicle', 'trophy', 'Shirley', 'knight', 'Percy', 'rookie', 'reconnaissance', 'Tribune', 'Gazette', 'Agnes', 'Rifle', 'Buddy', 'shrine', 'Floyd', 'Telegraph', 'Constantine', 'Romeo', 'parody', 'Irene', 'Albion', 'Mister', 'Alexis', 'Harley', 'Juliet', 'Allies', 'Rodney', 'Rookie', 'Circus', 'Pius', 'Rally', 'Renault', 'Clive', 'knights', 'Idol', 'Gerry', 'wagons', 'Merry', 'Constable', 'reissued', 'Norse', 'gentlemen', 'Hilton', 'Leinster', 'Smithsonian', 'buddy', 'Rover', 'Carnival', 'Cyril', 'Clint', 'Antony', 'Patriarch', 'Salon', 'McKay', 'Dominion', 'idol', 'Conan', 'cowboy', 'Cromwell', 'Mafia', 'propped', 'Russo', 'Reconnaissance', 'Tory', 'Petty', 'Guinness', 'feudal', 'Cornelius', 'Sgt', 'satirical', 'Bahn', 'Panzer', 'Rolls', 'Stratford', 'Babylon', 'pardon', 'Yankee', 'Cheyenne', 'Byrd', 'Bourbon', 'Rifles', 'troupe', 'Expeditionary', 'Matilda', 'carriages', 'Lucian', 'Godfrey', 'reissue', 'Gregg', 'Versailles', 'Privy', 'Wichita', 'Ajax', '##bourg', '¹⁄₂', 'Titus', 'Quaker', 'Alley', 'Anthology', 'Langley', 'satire', 'Elton', 'masonry', 'bumped', 'Blanche', 'Bunny', 'Gentlemen', 'pagan', 'makeshift', 'Cowboy', 'scarf', 'carnival', 'gubernatorial', 'Buster', 'Syed', 'Wesleyan', 'Assyrian', 'heavens', 'Sylvester', 'Sherlock', 'Bonus', 'Gareth', 'Amtrak', 'Fiat', 'Commandant', 'Guggenheim', 'Cadillac', 'Charley', 'Conor', 'trams', 'Hendrix', 'solemn', 'Salvation', 'Patriot', 'Cummings', 'Melvin', 'Sanford', 'southbound', 'Sweeney', 'northbound', 'Covenant', 'Christy', '##lamour', 'pawn', 'Hilda', 'Hadley', 'Akira', 'alma', 'Graeme', 'Juniors', 'Whig', 'Anya', 'Carthage', 'Cleopatra', 'Putin', 'tramway', 'dazed', 'Keynes', 'Schumacher', 'Maharaja', 'alumnus', 'Jameson', 'Rockies', 'Kiran', 'Endowment', 'Sufi', 'Goddard', 'Amnesty', 'Hooker', 'Gettysburg', 'Terence', 'Zeppelin', 'Leroy', 'Parramatta', 'franchises', 'Monsieur', 'Gentleman', 'Judah', 'Fargo', 'elves', 'Layton', 'Darrell', 'Donaldson', 'Texans', 'Highlanders', 'gearbox', 'Chevalier', 'Historia', 'Cheung', 'barony', 'trophies', 'Barclay', 'Hobbs', 'townland', 'bared', 'Eugène', 'Telangana', 'shrines', 'Fleetwood', 'Denton', 'heavenly', 'Ives', 'Hopper', 'Saddam', 'Orléans', 'Saigon', 'Eastwood', 'Hannibal', 'Rooney', 'demonic', 'Tavi', 'Chartered', 'Dustin', 'Ashland', 'Pendleton', '##nacht', 'Jayne', 'Sahib', 'Myrtle', 'Clancy', 'Revue', 'picturesque', 'Harrisburg', 'Jimmie', 'Iain', 'Founding', 'Britannia', 'indictment', 'Fielding', '##¼', '##¾', '##ŵ', '##Τ', '##Я', '##ъ']\n",
    "# cluster.update({'tokens': tokens})\n",
    "\n",
    "solr.add(clusters)\n",
    "solr.commit()"
   ]
  },
  {
   "cell_type": "code",
   "execution_count": 29,
   "id": "stylish-malpractice",
   "metadata": {},
   "outputs": [
    {
     "data": {
      "text/plain": [
       "{'responseHeader': {'status': 0,\n",
       "  'QTime': 0,\n",
       "  'params': {'q': 'tokens:Overall OR however', 'wt': 'json'}},\n",
       " 'response': {'numFound': 1,\n",
       "  'start': 0,\n",
       "  'numFoundExact': True,\n",
       "  'docs': [{'tokens': [\"['total', 'overall', 'Overall', 'Total']\"],\n",
       "    'id': '5adefe66-72c7-4330-bfa8-7a32c5b1f569',\n",
       "    '_version_': 1689102068496728067}]}}"
      ]
     },
     "execution_count": 29,
     "metadata": {},
     "output_type": "execute_result"
    }
   ],
   "source": [
    "search_query = 'Overall OR however'\n",
    "query = 'tokens:' + search_query\n",
    "solr.search(q=query)"
   ]
  },
  {
   "cell_type": "code",
   "execution_count": null,
   "id": "above-collins",
   "metadata": {},
   "outputs": [],
   "source": []
  }
 ],
 "metadata": {
  "kernelspec": {
   "display_name": "Python 3",
   "language": "python",
   "name": "python3"
  },
  "language_info": {
   "codemirror_mode": {
    "name": "ipython",
    "version": 3
   },
   "file_extension": ".py",
   "mimetype": "text/x-python",
   "name": "python",
   "nbconvert_exporter": "python",
   "pygments_lexer": "ipython3",
   "version": "3.8.8"
  }
 },
 "nbformat": 4,
 "nbformat_minor": 5
}
