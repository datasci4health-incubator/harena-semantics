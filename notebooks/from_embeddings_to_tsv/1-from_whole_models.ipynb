{
 "cells": [
  {
   "cell_type": "code",
   "execution_count": 1,
   "metadata": {},
   "outputs": [],
   "source": [
    "import torch"
   ]
  },
  {
   "cell_type": "code",
   "execution_count": 2,
   "metadata": {},
   "outputs": [],
   "source": [
    "import os, pdb\n",
    "\n",
    "MODEL_PATH = 'NLI'\n",
    "# MODEL_PATH = 'fagner/envoy' \n",
    "\n",
    "TSV_PATH = 'output/' + MODEL_PATH + '/'\n",
    "\n",
    "if not os.path.exists(TSV_PATH):\n",
    "    os.makedirs(TSV_PATH)\n",
    "\n",
    "MODEL_PATH =  '../../models/' + MODEL_PATH \n",
    "\n",
    "\n",
    "\n",
    "md = torch.load(MODEL_PATH + '/pytorch_model.bin', map_location='cpu')\n",
    "# md = torch.load('../models/clinical_bert/pytorch_model.bin',map_location='cpu')\n",
    "\n",
    "# embeds = []\n",
    "# print(type(md))\n",
    "for k in md:\n",
    "#     print(k)\n",
    "# modelos finetunados tão vindo sem o prefixo bert.\n",
    "    if (k == 'bert.embeddings.word_embeddings.weight' or k == 'embeddings.word_embeddings.weight'):\n",
    "#         print('ddddddddddddd')\n",
    "        embeds = md[k]\n",
    "\n",
    "vectors = []\n",
    "\n",
    "for l in range(len(embeds)):\n",
    "    vector = embeds[l]\n",
    "    tsv_row = ''\n",
    "    for m in range(len(vector)):\n",
    "        tsv_row += str(vector[m].tolist()) + '\\t'\n",
    "\n",
    "    vectors.append(tsv_row)\n",
    "\n",
    "with open(TSV_PATH + 'word_embeddings.tsv', \"w\") as f:\n",
    "    for e in vectors:\n",
    "        print (e, file=f)   "
   ]
  },
  {
   "cell_type": "code",
   "execution_count": 3,
   "metadata": {},
   "outputs": [],
   "source": [
    "labels = []\n",
    "with open(MODEL_PATH + '/vocab.txt', \"r\") as f:\n",
    "    labels = f.readlines()\n",
    "\n",
    "with open(TSV_PATH + 'labels.tsv', \"w\") as labels_file:\n",
    "    for label in labels:\n",
    "        print(label.replace(\"\\n\", \"\"), file=labels_file)\n"
   ]
  },
  {
   "cell_type": "code",
   "execution_count": null,
   "metadata": {},
   "outputs": [],
   "source": []
  }
 ],
 "metadata": {
  "kernelspec": {
   "display_name": "Python 3 (ipykernel)",
   "language": "python",
   "name": "python3"
  },
  "language_info": {
   "codemirror_mode": {
    "name": "ipython",
    "version": 3
   },
   "file_extension": ".py",
   "mimetype": "text/x-python",
   "name": "python",
   "nbconvert_exporter": "python",
   "pygments_lexer": "ipython3",
   "version": "3.9.5"
  }
 },
 "nbformat": 4,
 "nbformat_minor": 4
}
