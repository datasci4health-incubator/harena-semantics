{
 "cells": [
  {
   "cell_type": "code",
   "execution_count": 2,
   "metadata": {},
   "outputs": [],
   "source": [
    "documents = []\n",
    "with open('../artigos-anotados-pelo-marco/epidemiologia (preprocessed).txt') as f:\n",
    "    documents = f.readlines()"
   ]
  },
  {
   "cell_type": "code",
   "execution_count": null,
   "metadata": {},
   "outputs": [],
   "source": []
  },
  {
   "cell_type": "code",
   "execution_count": 7,
   "metadata": {},
   "outputs": [
    {
     "data": {
      "text/plain": [
       "78"
      ]
     },
     "execution_count": 7,
     "metadata": {},
     "output_type": "execute_result"
    }
   ],
   "source": [
    "clusters_input = []\n",
    "with open('../ajitrajasekharan_testes/bert_vector_clustering/results/clinicalbert/76_clusters/clusters.txt') as f:\n",
    "    clusters_input = f.readlines()\n",
    "\n",
    "clusters = []\n",
    "for c in clusters_input:\n",
    "#     clusters.append(c)\n",
    "    clusters.append(c.split('[')[1].replace('[', '').replace(']\\n', '').replace('\\'', ''))\n",
    "\n",
    "len(clusters)"
   ]
  },
  {
   "cell_type": "code",
   "execution_count": 31,
   "metadata": {},
   "outputs": [],
   "source": [
    "from sklearn.feature_extraction.text import TfidfVectorizer\n",
    "\n",
    "vectorizer = TfidfVectorizer(stop_words='english', max_df=0.1)\n",
    "X = vectorizer.fit_transform(clusters)\n",
    "queryIdf = vectorizer.transform([documents[4]])"
   ]
  },
  {
   "cell_type": "code",
   "execution_count": 32,
   "metadata": {},
   "outputs": [],
   "source": [
    "from sklearn.metrics.pairwise import cosine_similarity\n",
    "\n",
    "sim_matrix = cosine_similarity(X, queryIdf)"
   ]
  },
  {
   "cell_type": "code",
   "execution_count": 33,
   "metadata": {},
   "outputs": [
    {
     "name": "stdout",
     "output_type": "stream",
     "text": [
      "Document:  Septic shock occurs in more than 230 000 US patients each year, with more than 40 000 US deaths annually. A recent Burden of Diseases article found that primary risk factors for septic shock (ie, infection) is the fifth leading cause of years of productive life lost due to premature mortality.\n",
      "\n",
      "Nearest Clusters:\n",
      "                                                      TF-IDF\n",
      "damage, damages, damaged, injury, damaging, inj...  0.111078\n",
      "there, There, they, existence, here, therein, t...  0.101839\n",
      "prior, Prior, previous, before, priors, Previou...  0.090571\n",
      "acid, Acid, acids, acidic, Acids, alkaline, alk...  0.083907\n",
      "min, minutes, minute, Min, max, seconds, hour, ...  0.079161\n",
      "transformation, transformations, Transformation...  0.075898\n",
      "plasma, Plasma, serum, Serum, blood, circulatin...  0.069627\n",
      "form, forms, Form, formed, forming, type, struc...  0.069452\n",
      "need, needs, require, needed, necessity, Need, ...  0.060147\n",
      "including, include, includes, included, excludi...  0.055908\n",
      "main, Main, major, primary, key, principal, mai...  0.052575\n",
      "been, été, become, undergone, were, was, being,...  0.048401\n",
      "care, Care, caring, healthcare, services, nursi...  0.045514\n",
      "operating, Operating, operate, operates, operat...  0.038334\n",
      "show, shows, showed, showing, demonstrate, show...  0.037502\n",
      "Int, int, International, INT, Eur, Intern, Ext,...  0.035739\n",
      "year, month, years, Year, week, months, decade,...  0.033305\n",
      "detection, Detection, detecting, detect, detect...  0.033214\n",
      "joint, Joint, joints, jointly, combined, articu...  0.031916\n",
      "USA, Germany, Canada, America, Japan, Australia...  0.030010\n",
      "prov, Prov, aggrav, Prev, demonstr, Chall, disp...  0.027664\n",
      "again, Again, finally, altogether, additionally...  0.025137\n",
      "rates, rate, Rates, Rate, speeds, probabilities...  0.020507\n",
      "differ, differed, differs, vary, differing, Dif...  0.013061\n",
      "mod, modulo, Mod, manip, primes, molec, sched, ...  0.010592\n",
      "his, her, him, His, himself, its, their, seiner...  0.000000\n",
      "valid, validity, invalid, validated, validate, ...  0.000000\n",
      "right, Right, left, Left, wrong, rights, correc...  0.000000\n",
      "context, contexts, Context, contextual, setting...  0.000000\n",
      "binding, Binding, bind, binds, bound, adsorptio...  0.000000\n",
      "                                                    0.000000\n",
      "involved, involve, involvement, involves, impli...  0.000000\n",
      "genetic, Genetic, genetics, genetically, Geneti...  0.000000\n",
      "technique, techniques, Technique, method, Techn...  0.000000\n",
      "take, takes, taking, took, taken, Taking, Take,...  0.000000\n",
      "code, codes, Code, coded, coding, program, Codi...  0.000000\n",
      "III, VII, VIII, iii, Ill, 111, 133, 153, Three,...  0.000000\n",
      "distributed, Distributed, distribute, distribut...  0.000000\n",
      "selective, Selective, selectively, selectivity,...  0.000000\n",
      "upon, Upon, after, onto, amongst, during, auf, ...  0.000000\n",
      "half, Half, quarter, twice, portion, portions, ...  0.000000\n",
      "green, Green, yellow, blue, orange, brown, red,...  0.000000\n",
      "host, hosts, Host, recipient, parent, client, g...  0.000000\n",
      "organization, organisation, organizations, Orga...  0.000000\n",
      "motor, Motor, motors, actuator, movements, moti...  0.000000\n",
      "the, The, and, this, that, for, with, these, al...  0.000000\n",
      "species, Species, taxa, genus, speciation, gene...  0.000000\n",
      "likely, probably, unlikely, probable, presumabl...  0.000000\n",
      "character, Character, characters, characterize,...  0.000000\n",
      "200, 300, 400, 150, 500, 250, 600, 100, 199, 12...  0.000000\n"
     ]
    }
   ],
   "source": [
    "import pandas as pd\n",
    "\n",
    "print('Document: ',documents[4])\n",
    "df = pd.DataFrame(sim_matrix, index=clusters, columns=[\"TF-IDF\"])\n",
    "df = df.sort_values('TF-IDF', ascending=False)\n",
    "print('Nearest Clusters:')\n",
    "print (df.head(50))"
   ]
  },
  {
   "cell_type": "code",
   "execution_count": null,
   "metadata": {},
   "outputs": [],
   "source": []
  }
 ],
 "metadata": {
  "kernelspec": {
   "display_name": "Python 3",
   "language": "python",
   "name": "python3"
  },
  "language_info": {
   "codemirror_mode": {
    "name": "ipython",
    "version": 3
   },
   "file_extension": ".py",
   "mimetype": "text/x-python",
   "name": "python",
   "nbconvert_exporter": "python",
   "pygments_lexer": "ipython3",
   "version": "3.8.8"
  }
 },
 "nbformat": 4,
 "nbformat_minor": 4
}
