{
 "cells": [
  {
   "cell_type": "markdown",
   "metadata": {},
   "source": [
    "# k-means no word2vec"
   ]
  },
  {
   "cell_type": "code",
   "execution_count": 2,
   "metadata": {},
   "outputs": [
    {
     "name": "stdout",
     "output_type": "stream",
     "text": [
      "Requirement already satisfied: gensim in /opt/conda/lib/python3.7/site-packages (3.8.3)\n",
      "Requirement already satisfied: scipy>=0.18.1 in /opt/conda/lib/python3.7/site-packages (from gensim) (1.4.1)\n",
      "Requirement already satisfied: numpy>=1.11.3 in /opt/conda/lib/python3.7/site-packages (from gensim) (1.19.2)\n",
      "Requirement already satisfied: smart-open>=1.8.1 in /opt/conda/lib/python3.7/site-packages (from gensim) (4.1.0)\n",
      "Requirement already satisfied: six>=1.5.0 in /opt/conda/lib/python3.7/site-packages (from gensim) (1.15.0)\n",
      "Note: you may need to restart the kernel to use updated packages.\n"
     ]
    }
   ],
   "source": [
    "pip install gensim"
   ]
  },
  {
   "cell_type": "code",
   "execution_count": 3,
   "metadata": {},
   "outputs": [],
   "source": [
    "from gensim.models import Word2Vec\n",
    "\n",
    "sentences = [['this', 'is', 'the', 'good', 'machine', 'learning', 'book'],\n",
    "            ['this', 'is',  'another', 'book'],\n",
    "            ['one', 'more', 'book'],\n",
    "            ['this', 'is', 'the', 'new', 'post'],\n",
    "            ['this', 'is', 'about', 'machine', 'learning', 'post'],  \n",
    "            ['and', 'this', 'is', 'the', 'last', 'post']]\n",
    "model = Word2Vec(sentences, min_count=1)"
   ]
  },
  {
   "cell_type": "code",
   "execution_count": 4,
   "metadata": {},
   "outputs": [
    {
     "name": "stderr",
     "output_type": "stream",
     "text": [
      "/opt/conda/lib/python3.7/site-packages/ipykernel_launcher.py:1: DeprecationWarning: Call to deprecated `__getitem__` (Method will be removed in 4.0.0, use self.wv.__getitem__() instead).\n",
      "  \"\"\"Entry point for launching an IPython kernel.\n"
     ]
    }
   ],
   "source": [
    "X = model[model.wv.vocab]"
   ]
  },
  {
   "cell_type": "code",
   "execution_count": 5,
   "metadata": {},
   "outputs": [
    {
     "data": {
      "text/plain": [
       "{'this': <gensim.models.keyedvectors.Vocab at 0x7fcfd469e4d0>,\n",
       " 'is': <gensim.models.keyedvectors.Vocab at 0x7fcfd469e510>,\n",
       " 'the': <gensim.models.keyedvectors.Vocab at 0x7fcfd469e610>,\n",
       " 'good': <gensim.models.keyedvectors.Vocab at 0x7fcfd469e810>,\n",
       " 'machine': <gensim.models.keyedvectors.Vocab at 0x7fcf8f82d3d0>,\n",
       " 'learning': <gensim.models.keyedvectors.Vocab at 0x7fcf8e7b6350>,\n",
       " 'book': <gensim.models.keyedvectors.Vocab at 0x7fcf8e7bb510>,\n",
       " 'another': <gensim.models.keyedvectors.Vocab at 0x7fcf8e75cd10>,\n",
       " 'one': <gensim.models.keyedvectors.Vocab at 0x7fcfd46960d0>,\n",
       " 'more': <gensim.models.keyedvectors.Vocab at 0x7fcf8f82d450>,\n",
       " 'new': <gensim.models.keyedvectors.Vocab at 0x7fcf8e75ccd0>,\n",
       " 'post': <gensim.models.keyedvectors.Vocab at 0x7fcf8e75cd50>,\n",
       " 'about': <gensim.models.keyedvectors.Vocab at 0x7fcf8e75cd90>,\n",
       " 'and': <gensim.models.keyedvectors.Vocab at 0x7fcf8e75cdd0>,\n",
       " 'last': <gensim.models.keyedvectors.Vocab at 0x7fcf8e75ce10>}"
      ]
     },
     "execution_count": 5,
     "metadata": {},
     "output_type": "execute_result"
    }
   ],
   "source": [
    "model.wv.vocab"
   ]
  },
  {
   "cell_type": "code",
   "execution_count": 11,
   "metadata": {},
   "outputs": [
    {
     "data": {
      "text/plain": [
       "numpy.ndarray"
      ]
     },
     "execution_count": 11,
     "metadata": {},
     "output_type": "execute_result"
    }
   ],
   "source": [
    "type(X)"
   ]
  },
  {
   "cell_type": "code",
   "execution_count": 31,
   "metadata": {},
   "outputs": [
    {
     "name": "stdout",
     "output_type": "stream",
     "text": [
      "[2, 0, 0, 2, 2, 1, 0, 2, 0, 1, 1, 0, 1, 2, 1]\n"
     ]
    }
   ],
   "source": [
    "from nltk.cluster import KMeansClusterer\n",
    "import nltk\n",
    "\n",
    "NUM_CLUSTERS=3\n",
    "\n",
    "kclusterer = KMeansClusterer(NUM_CLUSTERS, distance=nltk.cluster.util.cosine_distance, repeats=25)\n",
    "assigned_clusters = kclusterer.cluster(X, assign_clusters=True)\n",
    "\n",
    "print (assigned_clusters)"
   ]
  },
  {
   "cell_type": "code",
   "execution_count": 29,
   "metadata": {},
   "outputs": [
    {
     "name": "stdout",
     "output_type": "stream",
     "text": [
      "this:1\n",
      "is:0\n",
      "the:0\n",
      "good:1\n",
      "machine:2\n",
      "learning:0\n",
      "book:0\n",
      "another:0\n",
      "one:2\n",
      "more:0\n",
      "new:1\n",
      "post:2\n",
      "about:1\n",
      "and:1\n",
      "last:2\n"
     ]
    }
   ],
   "source": [
    "words = list(model.wv.vocab)\n",
    "for i, word in enumerate(words):  \n",
    "    print (word + \":\" + str(assigned_clusters[i]))"
   ]
  },
  {
   "cell_type": "code",
   "execution_count": 36,
   "metadata": {},
   "outputs": [
    {
     "name": "stdout",
     "output_type": "stream",
     "text": [
      "Cluster id labels for inputted data\n",
      "[0 1 1 0 2 1 2 2 2 1 1 2 2 0 2]\n",
      "Centroids data\n",
      "[[ 8.82445020e-05  2.59137247e-03 -5.38094086e-04  1.47504197e-03\n",
      "   1.06910244e-04  2.00903416e-03  1.52551569e-03 -6.76568830e-04\n",
      "   3.49335279e-03 -2.98723159e-03 -4.08659282e-04  2.52926326e-03\n",
      "  -7.21133430e-04 -1.37665519e-03 -9.38542420e-04 -4.49876214e-04\n",
      "   6.79076998e-04  9.00967862e-04 -2.03420967e-03  2.81113113e-04\n",
      "   1.19996280e-03 -6.86016050e-04  1.93380436e-03 -1.75791967e-03\n",
      "   1.98145001e-03  8.13958177e-04 -7.32777349e-04 -1.62557606e-03\n",
      "  -2.22074171e-03  6.58091740e-04  1.05133187e-03 -2.13808450e-03\n",
      "   1.02288648e-03 -1.27016730e-03  2.08160980e-03  3.12779890e-03\n",
      "   1.85601774e-03 -2.10907543e-04  4.44790232e-04  3.18451459e-03\n",
      "   9.24626947e-04 -7.82641757e-04  2.94889091e-03 -1.31957722e-03\n",
      "   1.83663727e-03  2.42662849e-03  8.87303031e-04  4.67199972e-03\n",
      "  -2.02819007e-03 -2.13318481e-03  1.64274895e-03  2.63730122e-04\n",
      "   1.12686714e-03  5.11575956e-04  1.66029576e-03  3.28141870e-03\n",
      "  -3.87291657e-03 -1.71459990e-03 -2.38198874e-04 -4.34958376e-03\n",
      "   5.15829772e-04  3.25323199e-04 -3.34040262e-04  1.68302527e-03\n",
      "  -3.91880458e-05  7.23629724e-04  2.30946415e-03 -2.08522938e-03\n",
      "   1.19303039e-03 -3.55685316e-03 -3.64003261e-03  2.06827908e-03\n",
      "   2.97276699e-03  6.05749665e-05 -1.17458124e-03 -1.78086411e-04\n",
      "  -2.01863702e-03 -2.16233180e-04  2.94304360e-03  8.59859050e-04\n",
      "   1.32920465e-03  3.41119850e-03 -1.92165258e-03 -9.84302256e-04\n",
      "  -9.18488018e-04  2.31213542e-03  6.64833060e-04  1.83243968e-03\n",
      "  -2.99727451e-03 -1.00479065e-03 -5.97423990e-04 -7.75428489e-04\n",
      "  -2.61907745e-03 -3.13089136e-03  2.01340823e-04  9.58967430e-04\n",
      "  -9.08511458e-04 -9.11330862e-04 -4.01305500e-04 -7.31145148e-04]\n",
      " [-1.46314211e-03 -8.96602171e-04  8.29271739e-05  3.37036181e-04\n",
      "  -1.54825940e-03 -3.15217010e-04 -4.09813336e-04 -1.10969273e-03\n",
      "  -2.61691213e-03 -1.90380320e-04 -1.03858125e-03 -1.78895483e-03\n",
      "  -3.51844385e-04 -1.16070989e-03  1.22878421e-03  1.52356026e-03\n",
      "  -1.29985285e-03  7.65373581e-04 -6.62450620e-04  7.94159190e-04\n",
      "  -2.16969056e-05  1.93659123e-03 -1.70565781e-03 -1.70033204e-03\n",
      "  -3.88265564e-03 -1.13787351e-03 -8.75615049e-04  8.55082471e-04\n",
      "  -1.64977857e-03  4.59667528e-04 -1.40799023e-03 -1.04303681e-03\n",
      "   9.96438088e-04 -3.23259248e-03 -4.33943031e-04 -8.77453946e-04\n",
      "   1.04783848e-03  9.74394672e-04  9.55188705e-04 -2.71847774e-03\n",
      "  -1.58845005e-03  3.30505287e-03  5.92702883e-04  9.74985072e-04\n",
      "   4.67315549e-04 -1.56193069e-04 -5.50714438e-04  8.85447371e-05\n",
      "  -1.68362597e-03  1.00841199e-03 -5.99813822e-04  1.26654445e-03\n",
      "  -9.21399565e-04  3.09743895e-03  1.08643726e-04 -4.78499103e-04\n",
      "   2.27008900e-03  1.25539862e-03  1.46738323e-03  1.83211407e-03\n",
      "   2.27021030e-03  5.69312600e-04  2.44111591e-03 -4.69600869e-04\n",
      "   1.18153472e-03 -1.34937023e-03  1.08141499e-03  1.76575896e-03\n",
      "  -5.77613828e-04  1.06126128e-04  8.63394001e-04  2.12570536e-04\n",
      "   2.03678326e-04 -3.16725636e-04  5.10204176e-04  5.68274874e-04\n",
      "  -3.01005365e-03 -2.91678094e-04  1.56763417e-04  2.15277355e-03\n",
      "  -1.09749497e-03  4.70593921e-04  1.36905559e-03  2.75792670e-03\n",
      "  -1.51899958e-03 -3.94566683e-04 -6.64314779e-04 -1.53533602e-03\n",
      "   4.91759856e-04  2.40431924e-04  9.67181870e-04  5.63218200e-04\n",
      "   1.06820907e-03  1.10241259e-03  4.44864505e-04 -3.03444709e-03\n",
      "  -9.11922543e-04 -2.71426304e-03 -2.38714996e-03 -6.51293725e-04]\n",
      " [-9.62101039e-04 -1.18512567e-03 -3.41992499e-03 -1.09024404e-03\n",
      "   2.83690752e-05 -1.04498817e-03 -3.54581367e-04  5.56654762e-04\n",
      "  -8.50945595e-04 -3.94078874e-04  2.93391669e-04 -5.70035889e-04\n",
      "  -9.86014027e-04  3.45283188e-03 -1.51724904e-03 -4.28445783e-04\n",
      "   3.98749049e-04  1.83717842e-04 -1.41597213e-03 -5.99051360e-04\n",
      "   8.74597230e-04 -1.65003701e-03  2.61154550e-04  1.98380952e-03\n",
      "   1.88930542e-03 -3.41726292e-04 -1.91778789e-04  1.81158818e-03\n",
      "   1.68053177e-03  2.96024187e-03  1.60015631e-03  3.42702493e-04\n",
      "  -1.25117920e-04 -2.97291786e-04  2.62202229e-05 -2.98391422e-03\n",
      "  -4.62609984e-04  1.58122927e-03  6.20092207e-04  1.37570815e-03\n",
      "   3.15078069e-04 -3.96789401e-05 -1.66628626e-04 -2.34226696e-03\n",
      "  -3.21219268e-04 -1.33446255e-03  7.19327945e-04 -4.21649544e-04\n",
      "  -2.07882165e-03  2.85752903e-05  1.48034142e-03  8.43388552e-04\n",
      "  -4.12735419e-04  6.25684508e-04  3.50203656e-04  1.27179094e-03\n",
      "  -1.28778873e-03  1.65954727e-04 -2.98145547e-04 -7.51814572e-04\n",
      "  -7.32914428e-04  1.46455201e-03 -3.11690615e-04 -1.09949382e-03\n",
      "  -1.43541326e-03  5.03085612e-05  1.84847787e-03 -2.68048141e-04\n",
      "   1.12679740e-03  4.18732874e-04 -2.62112968e-04  2.63960520e-03\n",
      "  -5.86171518e-05  2.28043739e-03  1.38058653e-03 -7.50320614e-04\n",
      "   1.15609786e-03 -5.66251343e-04  1.50372798e-04  1.89899176e-04\n",
      "  -3.79589503e-04  1.38886122e-03 -4.77373833e-04 -5.13845589e-05\n",
      "   2.24953773e-03 -5.95490099e-04 -5.61466259e-05  5.04430616e-04\n",
      "   1.40806497e-03  2.69281678e-03  2.12722784e-03 -2.23736235e-04\n",
      "   1.65883364e-04 -8.58046522e-04 -2.80839799e-04 -2.52012920e-04\n",
      "   1.37585669e-03  1.48835126e-03  7.87952449e-04 -1.99313136e-03]]\n",
      "Score (Opposite of the value of X on the K-means objective which is Sum of distances of samples to their closest cluster center):\n",
      "-0.009480335749685764\n",
      "Silhouette_score: \n",
      "0.033887006\n"
     ]
    }
   ],
   "source": [
    "from sklearn import cluster\n",
    "from sklearn import metrics\n",
    "kmeans = cluster.KMeans(n_clusters=NUM_CLUSTERS)\n",
    "kmeans.fit(X)\n",
    " \n",
    "labels = kmeans.labels_\n",
    "centroids = kmeans.cluster_centers_\n",
    " \n",
    "print (\"Cluster id labels for inputted data\")\n",
    "print (labels)\n",
    "print (\"Centroids data\")\n",
    "print (centroids)\n",
    " \n",
    "print (\"Score (Opposite of the value of X on the K-means objective which is Sum of distances of samples to their closest cluster center):\")\n",
    "print (kmeans.score(X))\n",
    " \n",
    "silhouette_score = metrics.silhouette_score(X, labels, metric='euclidean')\n",
    " \n",
    "print (\"Silhouette_score: \")\n",
    "print (silhouette_score)"
   ]
  },
  {
   "cell_type": "code",
   "execution_count": null,
   "metadata": {},
   "outputs": [],
   "source": []
  },
  {
   "cell_type": "code",
   "execution_count": null,
   "metadata": {},
   "outputs": [],
   "source": []
  }
 ],
 "metadata": {
  "kernelspec": {
   "display_name": "Python 3",
   "language": "python",
   "name": "python3"
  },
  "language_info": {
   "codemirror_mode": {
    "name": "ipython",
    "version": 3
   },
   "file_extension": ".py",
   "mimetype": "text/x-python",
   "name": "python",
   "nbconvert_exporter": "python",
   "pygments_lexer": "ipython3",
   "version": "3.7.8"
  }
 },
 "nbformat": 4,
 "nbformat_minor": 4
}
