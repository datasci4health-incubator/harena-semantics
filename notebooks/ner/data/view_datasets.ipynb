{
 "cells": [
  {
   "cell_type": "code",
   "execution_count": 3,
   "metadata": {},
   "outputs": [],
   "source": [
    "import pandas as pd\n"
   ]
  },
  {
   "cell_type": "code",
   "execution_count": 9,
   "metadata": {},
   "outputs": [
    {
     "name": "stdout",
     "output_type": "stream",
     "text": [
      "Train labels:  label\n",
      "B-Chemical      5203\n",
      "B-Disease       4182\n",
      "I-Chemical      1900\n",
      "I-Disease       2918\n",
      "O             103967\n",
      "dtype: int64\n",
      "118170\n",
      "\n",
      "Devel labels:  label\n",
      "B-Chemical      5347\n",
      "B-Disease       4246\n",
      "I-Chemical      1748\n",
      "I-Disease       2723\n",
      "O             103389\n",
      "dtype: int64\n",
      "117453\n",
      "\n",
      "Test labels:  label\n",
      "B-Chemical      5385\n",
      "B-Disease       4424\n",
      "I-Chemical      1628\n",
      "I-Disease       2737\n",
      "O             110576\n",
      "dtype: int64\n",
      "124750\n",
      "\n"
     ]
    }
   ],
   "source": [
    "train = pd.read_csv('sources/BC5CDR-IOB/train.tsv', delimiter='\\t', names=['word', 'label'], quoting=3, error_bad_lines=False)\n",
    "test = pd.read_csv('sources/BC5CDR-IOB/test.tsv', delimiter='\\t', names=['word', 'label'], quoting=3, error_bad_lines=False)\n",
    "devel = pd.read_csv('sources/BC5CDR-IOB/devel.tsv', delimiter='\\t', names=['word', 'label'], quoting=3, error_bad_lines=False)\n",
    "print('Train labels: ', train.groupby('label').size())\n",
    "print(str(len(train)) + '\\n')\n",
    "print('Devel labels: ', devel.groupby('label').size())\n",
    "print(str(len(devel)) + '\\n')\n",
    "print('Test labels: ', test.groupby('label').size())\n",
    "print(str(len(test)) + '\\n')\n"
   ]
  },
  {
   "cell_type": "code",
   "execution_count": 10,
   "metadata": {},
   "outputs": [
    {
     "name": "stdout",
     "output_type": "stream",
     "text": [
      "Train labels:  label\n",
      "B-Anatomy      6946\n",
      "I-Anatomy      4894\n",
      "O            141983\n",
      "dtype: int64\n",
      "153823\n",
      "\n",
      "Devel labels:  label\n",
      "B-Anatomy     2139\n",
      "I-Anatomy     1416\n",
      "O            55230\n",
      "dtype: int64\n",
      "58785\n",
      "\n",
      "Test labels:  label\n",
      "B-Anatomy     4616\n",
      "I-Anatomy     3247\n",
      "O            92113\n",
      "dtype: int64\n",
      "99976\n",
      "\n"
     ]
    }
   ],
   "source": [
    "train = pd.read_csv('sources/AnatEM-IOB/train.tsv', delimiter='\\t', names=['word', 'label'], quoting=3, error_bad_lines=False)\n",
    "test = pd.read_csv('sources/AnatEM-IOB/test.tsv', delimiter='\\t', names=['word', 'label'], quoting=3, error_bad_lines=False)\n",
    "devel = pd.read_csv('sources/AnatEM-IOB/devel.tsv', delimiter='\\t', names=['word', 'label'], quoting=3, error_bad_lines=False)\n",
    "print('Train labels: ', train.groupby('label').size())\n",
    "print(str(len(train)) + '\\n')\n",
    "print('Devel labels: ', devel.groupby('label').size())\n",
    "print(str(len(devel)) + '\\n')\n",
    "print('Test labels: ', test.groupby('label').size())\n",
    "print(str(len(test)) + '\\n')"
   ]
  },
  {
   "cell_type": "code",
   "execution_count": 11,
   "metadata": {},
   "outputs": [
    {
     "name": "stdout",
     "output_type": "stream",
     "text": [
      "Train labels:  label\n",
      "B-Anatomy       6946\n",
      "B-Chemical      5203\n",
      "B-Disease       4182\n",
      "I-Anatomy       4891\n",
      "I-Chemical      1900\n",
      "I-Disease       2918\n",
      "O             245927\n",
      "dtype: int64\n",
      "271967\n",
      "\n",
      "Devel labels:  label\n",
      "B-Anatomy       2139\n",
      "B-Chemical      5347\n",
      "B-Disease       4246\n",
      "I-Anatomy       1416\n",
      "I-Chemical      1748\n",
      "I-Disease       2723\n",
      "O             158617\n",
      "dtype: int64\n",
      "176236\n",
      "\n",
      "Test labels:  label\n",
      "B-Anatomy       4616\n",
      "B-Chemical      5378\n",
      "B-Disease       4424\n",
      "I-Anatomy       3243\n",
      "I-Chemical      1628\n",
      "I-Disease       2737\n",
      "O             202684\n",
      "dtype: int64\n",
      "224710\n",
      "\n"
     ]
    }
   ],
   "source": [
    "train = pd.read_csv('tratados/train-AnatEM-BC5CDR.tsv', delimiter='\\t', names=['word', 'label'], quoting=3, error_bad_lines=False)\n",
    "test = pd.read_csv('tratados/test-AnatEM-BC5CDR.tsv', delimiter='\\t', names=['word', 'label'], quoting=3, error_bad_lines=False)\n",
    "devel = pd.read_csv('tratados/devel-AnatEM-BC5CDR.tsv', delimiter='\\t', names=['word', 'label'], quoting=3, error_bad_lines=False)\n",
    "print('Train labels: ', train.groupby('label').size())\n",
    "print(str(len(train)) + '\\n')\n",
    "print('Devel labels: ', devel.groupby('label').size())\n",
    "print(str(len(devel)) + '\\n')\n",
    "print('Test labels: ', test.groupby('label').size())\n",
    "print(str(len(test)) + '\\n')"
   ]
  },
  {
   "cell_type": "code",
   "execution_count": null,
   "metadata": {},
   "outputs": [],
   "source": []
  }
 ],
 "metadata": {
  "kernelspec": {
   "display_name": "Python 3",
   "language": "python",
   "name": "python3"
  },
  "language_info": {
   "codemirror_mode": {
    "name": "ipython",
    "version": 3
   },
   "file_extension": ".py",
   "mimetype": "text/x-python",
   "name": "python",
   "nbconvert_exporter": "python",
   "pygments_lexer": "ipython3",
   "version": "3.7.8"
  }
 },
 "nbformat": 4,
 "nbformat_minor": 4
}
