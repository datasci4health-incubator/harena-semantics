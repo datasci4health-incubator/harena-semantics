{
 "cells": [
  {
   "cell_type": "code",
   "execution_count": 2,
   "metadata": {},
   "outputs": [
    {
     "name": "stdout",
     "output_type": "stream",
     "text": [
      "Collecting xmltodict\n",
      "  Downloading xmltodict-0.12.0-py2.py3-none-any.whl (9.2 kB)\n",
      "Installing collected packages: xmltodict\n",
      "Successfully installed xmltodict-0.12.0\n",
      "Note: you may need to restart the kernel to use updated packages.\n"
     ]
    }
   ],
   "source": [
    "pip install xmltodict"
   ]
  },
  {
   "cell_type": "code",
   "execution_count": 2,
   "metadata": {},
   "outputs": [],
   "source": [
    "import xmltodict\n",
    "\n",
    "with open('../documents/ontologies/desc2020.xml') as fd:\n",
    "    doc = xmltodict.parse(fd.read())"
   ]
  },
  {
   "cell_type": "code",
   "execution_count": 97,
   "metadata": {},
   "outputs": [
    {
     "ename": "TypeError",
     "evalue": "string indices must be integers",
     "output_type": "error",
     "traceback": [
      "\u001b[0;31m---------------------------------------------------------------------------\u001b[0m",
      "\u001b[0;31mTypeError\u001b[0m                                 Traceback (most recent call last)",
      "\u001b[0;32m<ipython-input-97-0de53739e458>\u001b[0m in \u001b[0;36m<module>\u001b[0;34m\u001b[0m\n\u001b[1;32m      1\u001b[0m \u001b[0mdoc\u001b[0m\u001b[0;34m[\u001b[0m\u001b[0;34m'DescriptorRecordSet'\u001b[0m\u001b[0;34m]\u001b[0m\u001b[0;34m[\u001b[0m\u001b[0;34m'DescriptorRecord'\u001b[0m\u001b[0;34m]\u001b[0m\u001b[0;34m[\u001b[0m\u001b[0;36m0\u001b[0m\u001b[0;34m]\u001b[0m\u001b[0;34m\u001b[0m\u001b[0;34m\u001b[0m\u001b[0m\n\u001b[0;32m----> 2\u001b[0;31m \u001b[0;34m[\u001b[0m\u001b[0;34m'Concept'\u001b[0m\u001b[0;34m]\u001b[0m\u001b[0;34m[\u001b[0m\u001b[0;36m0\u001b[0m\u001b[0;34m]\u001b[0m\u001b[0;34m[\u001b[0m\u001b[0;34m'ConceptName'\u001b[0m\u001b[0;34m]\u001b[0m\u001b[0;34m\u001b[0m\u001b[0;34m\u001b[0m\u001b[0m\n\u001b[0m\u001b[1;32m      3\u001b[0m \u001b[0mdoc\u001b[0m\u001b[0;34m[\u001b[0m\u001b[0;34m'DescriptorRecordSet'\u001b[0m\u001b[0;34m]\u001b[0m\u001b[0;34m[\u001b[0m\u001b[0;34m'DescriptorRecord'\u001b[0m\u001b[0;34m]\u001b[0m\u001b[0;34m[\u001b[0m\u001b[0;36m0\u001b[0m\u001b[0;34m]\u001b[0m\u001b[0;34m[\u001b[0m\u001b[0;34m'ConceptList'\u001b[0m\u001b[0;34m]\u001b[0m\u001b[0;34m[\u001b[0m\u001b[0;34m'Concept'\u001b[0m\u001b[0;34m]\u001b[0m\u001b[0;34m[\u001b[0m\u001b[0;36m0\u001b[0m\u001b[0;34m]\u001b[0m\u001b[0;34m[\u001b[0m\u001b[0;34m'TermList'\u001b[0m\u001b[0;34m]\u001b[0m\u001b[0;34m[\u001b[0m\u001b[0;34m'Term'\u001b[0m\u001b[0;34m]\u001b[0m\u001b[0;34m[\u001b[0m\u001b[0;34m'String'\u001b[0m\u001b[0;34m]\u001b[0m\u001b[0;34m\u001b[0m\u001b[0;34m\u001b[0m\u001b[0m\n\u001b[1;32m      4\u001b[0m \u001b[0mdoc\u001b[0m\u001b[0;34m[\u001b[0m\u001b[0;34m'DescriptorRecordSet'\u001b[0m\u001b[0;34m]\u001b[0m\u001b[0;34m[\u001b[0m\u001b[0;34m'DescriptorRecord'\u001b[0m\u001b[0;34m]\u001b[0m\u001b[0;34m[\u001b[0m\u001b[0;36m0\u001b[0m\u001b[0;34m]\u001b[0m\u001b[0;34m[\u001b[0m\u001b[0;34m'ConceptList'\u001b[0m\u001b[0;34m]\u001b[0m\u001b[0;34m\u001b[0m\u001b[0;34m\u001b[0m\u001b[0m\n",
      "\u001b[0;31mTypeError\u001b[0m: string indices must be integers"
     ]
    }
   ],
   "source": [
    "doc['DescriptorRecordSet']['DescriptorRecord'][0]['ConceptList']['Concept'][0]['ConceptName']\n",
    "doc['DescriptorRecordSet']['DescriptorRecord'][0]['ConceptList']['Concept'][0]['TermList']['Term']['String']"
   ]
  },
  {
   "cell_type": "code",
   "execution_count": 139,
   "metadata": {},
   "outputs": [
    {
     "data": {
      "text/plain": [
       "list"
      ]
     },
     "execution_count": 139,
     "metadata": {},
     "output_type": "execute_result"
    }
   ],
   "source": [
    "import copy\n",
    "descriptors = copy.deepcopy(doc['DescriptorRecordSet']['DescriptorRecord'])  \n",
    "type(descriptors)"
   ]
  },
  {
   "cell_type": "code",
   "execution_count": 140,
   "metadata": {},
   "outputs": [
    {
     "name": "stderr",
     "output_type": "stream",
     "text": [
      "IOPub data rate exceeded.\n",
      "The notebook server will temporarily stop sending output\n",
      "to the client in order to avoid crashing it.\n",
      "To change this limit, set the config variable\n",
      "`--NotebookApp.iopub_data_rate_limit`.\n",
      "\n",
      "Current values:\n",
      "NotebookApp.iopub_data_rate_limit=1000000.0 (bytes/sec)\n",
      "NotebookApp.rate_limit_window=3.0 (secs)\n",
      "\n"
     ]
    }
   ],
   "source": [
    "concepts = []\n",
    "for d in descriptors:\n",
    "    concepts.append(d['ConceptList']['Concept'])\n",
    "print(concepts)\n",
    "# print(concept['ConceptName']['String'])\n"
   ]
  },
  {
   "cell_type": "code",
   "execution_count": 2,
   "metadata": {},
   "outputs": [
    {
     "name": "stdout",
     "output_type": "stream",
     "text": [
      "Collecting pysolr\n",
      "  Downloading pysolr-3.9.0.tar.gz (55 kB)\n",
      "\u001b[K     |████████████████████████████████| 55 kB 240 kB/s eta 0:00:01\n",
      "\u001b[?25hRequirement already satisfied: requests>=2.9.1 in /opt/conda/lib/python3.7/site-packages (from pysolr) (2.23.0)\n",
      "Requirement already satisfied: urllib3!=1.25.0,!=1.25.1,<1.26,>=1.21.1 in /opt/conda/lib/python3.7/site-packages (from requests>=2.9.1->pysolr) (1.25.9)\n",
      "Requirement already satisfied: chardet<4,>=3.0.2 in /opt/conda/lib/python3.7/site-packages (from requests>=2.9.1->pysolr) (3.0.4)\n",
      "Requirement already satisfied: idna<3,>=2.5 in /opt/conda/lib/python3.7/site-packages (from requests>=2.9.1->pysolr) (2.9)\n",
      "Requirement already satisfied: certifi>=2017.4.17 in /opt/conda/lib/python3.7/site-packages (from requests>=2.9.1->pysolr) (2020.4.5.1)\n",
      "Building wheels for collected packages: pysolr\n",
      "  Building wheel for pysolr (setup.py) ... \u001b[?25ldone\n",
      "\u001b[?25h  Created wheel for pysolr: filename=pysolr-3.9.0-py2.py3-none-any.whl size=19670 sha256=3558982ccb6a98813cd3603933948b8490eea0ee6456c7fa2bd120250da25f72\n",
      "  Stored in directory: /home/jovyan/.cache/pip/wheels/07/39/f8/fa031d35471643f5a0c5847be457342b1262c019756408874b\n",
      "Successfully built pysolr\n",
      "Installing collected packages: pysolr\n",
      "Successfully installed pysolr-3.9.0\n",
      "Note: you may need to restart the kernel to use updated packages.\n"
     ]
    }
   ],
   "source": [
    "pip install pysolr"
   ]
  },
  {
   "cell_type": "code",
   "execution_count": 3,
   "metadata": {},
   "outputs": [
    {
     "data": {
      "text/plain": [
       "'{\\n  \"responseHeader\":{\\n    \"zkConnected\":null,\\n    \"status\":0,\\n    \"QTime\":70,\\n    \"params\":{\\n      \"q\":\"{!lucene}*:*\",\\n      \"distrib\":\"false\",\\n      \"df\":\"_text_\",\\n      \"rows\":\"10\",\\n      \"echoParams\":\"all\"}},\\n  \"status\":\"OK\"}\\n'"
      ]
     },
     "execution_count": 3,
     "metadata": {},
     "output_type": "execute_result"
    }
   ],
   "source": [
    "import pysolr, os\n",
    "\n",
    "SOLR_URL = 'http://' + os.environ['SOLR_HOST'] + ':8983/solr/mesh'\n",
    "\n",
    "# Create a client instance. The timeout and authentication options are not required.\n",
    "solr = pysolr.Solr(SOLR_URL, always_commit=False)\n",
    "\n",
    "# Do a health check.\n",
    "solr.ping()"
   ]
  },
  {
   "cell_type": "code",
   "execution_count": 56,
   "metadata": {},
   "outputs": [
    {
     "name": "stdout",
     "output_type": "stream",
     "text": [
      "29640\n"
     ]
    }
   ],
   "source": [
    "# Later, searching is easy. In the simple case, just a plain Lucene-style\n",
    "# query is fine.\n",
    "# for i in \n",
    "\n",
    "concepts = []\n",
    "i=0\n",
    "nrows = 1000\n",
    "numFound=0\n",
    "while i*nrows <= numFound:\n",
    "    results = solr.search('*:*', rows=1000, start=i*nrows)\n",
    "    \n",
    "#     print(results.raw_response['response'])\n",
    "    numFound = results.raw_response['response']['numFound']\n",
    "    i = i+1\n",
    "    \n",
    "    for result in results:\n",
    "        related_concepts = []\n",
    "        \n",
    "        for r in result['ConceptName']:\n",
    "            related_concepts.append(r)\n",
    "        \n",
    "        for r in result['EntryTerm']:\n",
    "            related_concepts.append(r)\n",
    "#         related_concepts.append(r for r in result['ConceptName'])\n",
    "#         related_concepts.append(r for r in result['EntryTerm'])\n",
    "        concepts.append(related_concepts)\n",
    "\n",
    "print(len(concepts))\n"
   ]
  },
  {
   "cell_type": "code",
   "execution_count": 57,
   "metadata": {},
   "outputs": [
    {
     "data": {
      "text/plain": [
       "['Calcimycin',\n",
       " 'A-23187',\n",
       " 'Calcimycin',\n",
       " 'A-23187',\n",
       " 'A 23187',\n",
       " 'A23187',\n",
       " 'Antibiotic A23187',\n",
       " 'A23187, Antibiotic']"
      ]
     },
     "execution_count": 57,
     "metadata": {},
     "output_type": "execute_result"
    }
   ],
   "source": [
    "concepts[0]"
   ]
  },
  {
   "cell_type": "code",
   "execution_count": 66,
   "metadata": {},
   "outputs": [
    {
     "data": {
      "text/plain": [
       "['Abate', 'Difos', 'Temefos', 'Temephos', 'Abate', 'Difos']"
      ]
     },
     "execution_count": 66,
     "metadata": {},
     "output_type": "execute_result"
    }
   ],
   "source": [
    "concepts2vec = {c[0]:c[1:len(c)] for i,c in enumerate(concepts)}\n",
    "concepts2vec['Temefos']"
   ]
  },
  {
   "cell_type": "code",
   "execution_count": 6,
   "metadata": {},
   "outputs": [
    {
     "ename": "NameError",
     "evalue": "name 'concepts' is not defined",
     "output_type": "error",
     "traceback": [
      "\u001b[0;31m---------------------------------------------------------------------------\u001b[0m",
      "\u001b[0;31mNameError\u001b[0m                                 Traceback (most recent call last)",
      "\u001b[0;32m<ipython-input-6-88ec22c541ec>\u001b[0m in \u001b[0;36m<module>\u001b[0;34m\u001b[0m\n\u001b[0;32m----> 1\u001b[0;31m \u001b[0mconcepts2value\u001b[0m \u001b[0;34m=\u001b[0m \u001b[0;34m{\u001b[0m\u001b[0mc\u001b[0m\u001b[0;34m[\u001b[0m\u001b[0;36m0\u001b[0m\u001b[0;34m]\u001b[0m\u001b[0;34m:\u001b[0m\u001b[0;36m1\u001b[0m \u001b[0;32mfor\u001b[0m \u001b[0mi\u001b[0m\u001b[0;34m,\u001b[0m\u001b[0mc\u001b[0m \u001b[0;32min\u001b[0m \u001b[0menumerate\u001b[0m\u001b[0;34m(\u001b[0m\u001b[0mconcepts\u001b[0m\u001b[0;34m)\u001b[0m\u001b[0;34m}\u001b[0m\u001b[0;34m\u001b[0m\u001b[0;34m\u001b[0m\u001b[0m\n\u001b[0m\u001b[1;32m      2\u001b[0m \u001b[0mconcepts2value\u001b[0m\u001b[0;34m\u001b[0m\u001b[0;34m\u001b[0m\u001b[0m\n\u001b[1;32m      3\u001b[0m \u001b[0mconcepts2vec\u001b[0m\u001b[0;34m\u001b[0m\u001b[0;34m\u001b[0m\u001b[0m\n",
      "\u001b[0;31mNameError\u001b[0m: name 'concepts' is not defined"
     ]
    }
   ],
   "source": [
    "concepts2value = {c[0]:1 for i,c in enumerate(concepts)}\n",
    "concepts2value\n",
    "concepts2vec"
   ]
  },
  {
   "cell_type": "code",
   "execution_count": 69,
   "metadata": {},
   "outputs": [
    {
     "name": "stdout",
     "output_type": "stream",
     "text": [
      "Collecting transformers==2.6.0\n",
      "  Downloading transformers-2.6.0-py3-none-any.whl (540 kB)\n",
      "\u001b[K     |████████████████████████████████| 540 kB 153 kB/s eta 0:00:01\n",
      "\u001b[?25hCollecting sacremoses\n",
      "  Downloading sacremoses-0.0.43.tar.gz (883 kB)\n",
      "\u001b[K     |████████████████████████████████| 883 kB 65 kB/s eta 0:00:012\n",
      "\u001b[?25hCollecting filelock\n",
      "  Downloading filelock-3.0.12-py3-none-any.whl (7.6 kB)\n",
      "Collecting regex!=2019.12.17\n",
      "  Downloading regex-2020.5.14-cp37-cp37m-manylinux2010_x86_64.whl (675 kB)\n",
      "\u001b[K     |████████████████████████████████| 675 kB 119 kB/s eta 0:00:01\n",
      "\u001b[?25hRequirement already satisfied: requests in /opt/conda/lib/python3.7/site-packages (from transformers==2.6.0) (2.23.0)\n",
      "Requirement already satisfied: tqdm>=4.27 in /opt/conda/lib/python3.7/site-packages (from transformers==2.6.0) (4.45.0)\n",
      "Requirement already satisfied: numpy in /opt/conda/lib/python3.7/site-packages (from transformers==2.6.0) (1.18.4)\n",
      "Collecting sentencepiece\n",
      "  Downloading sentencepiece-0.1.91-cp37-cp37m-manylinux1_x86_64.whl (1.1 MB)\n",
      "\u001b[K     |████████████████████████████████| 1.1 MB 68 kB/s eta 0:00:012\n",
      "\u001b[?25hCollecting boto3\n",
      "  Downloading boto3-1.13.14-py2.py3-none-any.whl (128 kB)\n",
      "\u001b[K     |████████████████████████████████| 128 kB 66 kB/s eta 0:00:01\n",
      "\u001b[?25hCollecting tokenizers==0.5.2\n",
      "  Downloading tokenizers-0.5.2-cp37-cp37m-manylinux1_x86_64.whl (5.6 MB)\n",
      "\u001b[K     |████████████████████████████████| 5.6 MB 14 kB/s  eta 0:00:01\n",
      "\u001b[?25hRequirement already satisfied: six in /opt/conda/lib/python3.7/site-packages (from sacremoses->transformers==2.6.0) (1.14.0)\n",
      "Requirement already satisfied: click in /opt/conda/lib/python3.7/site-packages (from sacremoses->transformers==2.6.0) (7.1.2)\n",
      "Requirement already satisfied: joblib in /opt/conda/lib/python3.7/site-packages (from sacremoses->transformers==2.6.0) (0.14.1)\n",
      "Requirement already satisfied: idna<3,>=2.5 in /opt/conda/lib/python3.7/site-packages (from requests->transformers==2.6.0) (2.9)\n",
      "Requirement already satisfied: certifi>=2017.4.17 in /opt/conda/lib/python3.7/site-packages (from requests->transformers==2.6.0) (2020.4.5.1)\n",
      "Requirement already satisfied: chardet<4,>=3.0.2 in /opt/conda/lib/python3.7/site-packages (from requests->transformers==2.6.0) (3.0.4)\n",
      "Requirement already satisfied: urllib3!=1.25.0,!=1.25.1,<1.26,>=1.21.1 in /opt/conda/lib/python3.7/site-packages (from requests->transformers==2.6.0) (1.25.9)\n",
      "Collecting s3transfer<0.4.0,>=0.3.0\n",
      "  Downloading s3transfer-0.3.3-py2.py3-none-any.whl (69 kB)\n",
      "\u001b[K     |████████████████████████████████| 69 kB 124 kB/s eta 0:00:01\n",
      "\u001b[?25hCollecting botocore<1.17.0,>=1.16.14\n",
      "  Downloading botocore-1.16.14-py2.py3-none-any.whl (6.2 MB)\n",
      "\u001b[K     |████████████████████████████████| 6.2 MB 98 kB/s eta 0:00:011\n",
      "\u001b[?25hCollecting jmespath<1.0.0,>=0.7.1\n",
      "  Downloading jmespath-0.10.0-py2.py3-none-any.whl (24 kB)\n",
      "Requirement already satisfied: python-dateutil<3.0.0,>=2.1 in /opt/conda/lib/python3.7/site-packages (from botocore<1.17.0,>=1.16.14->boto3->transformers==2.6.0) (2.8.1)\n",
      "Collecting docutils<0.16,>=0.10\n",
      "  Downloading docutils-0.15.2-py3-none-any.whl (547 kB)\n",
      "\u001b[K     |████████████████████████████████| 547 kB 140 kB/s eta 0:00:01\n",
      "\u001b[?25hBuilding wheels for collected packages: sacremoses\n",
      "  Building wheel for sacremoses (setup.py) ... \u001b[?25ldone\n",
      "\u001b[?25h  Created wheel for sacremoses: filename=sacremoses-0.0.43-py3-none-any.whl size=893259 sha256=b8281da8f6c42a2642af07f78088734dbef1a05386c0f0c536d17845caecf390\n",
      "  Stored in directory: /home/jovyan/.cache/pip/wheels/69/09/d1/bf058f7d6fa0ecba2ce7c66be3b8d012beb4bf61a6e0c101c0\n",
      "Successfully built sacremoses\n",
      "Installing collected packages: regex, sacremoses, filelock, sentencepiece, docutils, jmespath, botocore, s3transfer, boto3, tokenizers, transformers\n",
      "Successfully installed boto3-1.13.14 botocore-1.16.14 docutils-0.15.2 filelock-3.0.12 jmespath-0.10.0 regex-2020.5.14 s3transfer-0.3.3 sacremoses-0.0.43 sentencepiece-0.1.91 tokenizers-0.5.2 transformers-2.6.0\n",
      "Note: you may need to restart the kernel to use updated packages.\n"
     ]
    }
   ],
   "source": [
    "pip install transformers==2.6.0"
   ]
  },
  {
   "cell_type": "code",
   "execution_count": 1,
   "metadata": {},
   "outputs": [
    {
     "name": "stdout",
     "output_type": "stream",
     "text": [
      "Name: transformers\n",
      "Version: 2.6.0\n",
      "Summary: State-of-the-art Natural Language Processing for TensorFlow 2.0 and PyTorch\n",
      "Home-page: https://github.com/huggingface/transformers\n",
      "Author: Thomas Wolf, Lysandre Debut, Victor Sanh, Julien Chaumond, Sam Shleifer, Google AI Language Team Authors, Open AI team Authors, Facebook AI Authors, Carnegie Mellon University Authors\n",
      "Author-email: thomas@huggingface.co\n",
      "License: Apache\n",
      "Location: /opt/conda/lib/python3.7/site-packages\n",
      "Requires: regex, filelock, tokenizers, requests, numpy, sacremoses, tqdm, boto3, sentencepiece\n",
      "Required-by: \n",
      "Note: you may need to restart the kernel to use updated packages.\n"
     ]
    }
   ],
   "source": [
    "pip show transformers"
   ]
  },
  {
   "cell_type": "code",
   "execution_count": 5,
   "metadata": {},
   "outputs": [
    {
     "name": "stdout",
     "output_type": "stream",
     "text": [
      "Collecting torch\n",
      "  Downloading torch-1.5.0-cp37-cp37m-manylinux1_x86_64.whl (752.0 MB)\n",
      "\u001b[K     |█████████████████████████       | 587.0 MB 58 kB/s eta 0:47:247   |▏                               | 3.5 MB 41 kB/s eta 4:57:43     |█████▎                          | 124.2 MB 33 kB/s eta 5:14:26     |███████▊                        | 180.9 MB 31 kB/s eta 4:59:25     |████████████                    | 282.5 MB 191 kB/s eta 0:40:58     |█████████████▏                  | 309.5 MB 84 kB/s eta 1:27:34     |█████████████▊                  | 323.3 MB 98 kB/s eta 1:12:52     |█████████████▉                  | 325.9 MB 51 kB/s eta 2:17:13     |██████████████                  | 331.5 MB 88 kB/s eta 1:18:59     |███████████████▉                | 372.8 MB 244 kB/s eta 0:25:54     |████████████████▌               | 387.5 MB 64 kB/s eta 1:34:36     |████████████████▉               | 394.7 MB 40 kB/s eta 2:25:58     |████████████████▉               | 395.0 MB 105 kB/s eta 0:56:39     |████████████████▉               | 395.3 MB 66 kB/s eta 1:29:28     |████████████████▉               | 396.4 MB 96 kB/s eta 1:01:27     |█████████████████               | 400.7 MB 50 kB/s eta 1:55:58     |█████████████████▏              | 402.7 MB 84 kB/s eta 1:08:42     |█████████████████▎              | 406.7 MB 66 kB/s eta 1:26:25     |█████████████████▌              | 412.1 MB 56 kB/s eta 1:40:49     |█████████████████▋              | 413.1 MB 191 kB/s eta 0:29:34     |█████████████████▋              | 414.0 MB 94 kB/s eta 0:59:21     |█████████████████▋              | 414.4 MB 39 kB/s eta 2:23:12     |██████████████████              | 422.1 MB 67 kB/s eta 1:21:29     |██████████████████▍             | 433.4 MB 35 kB/s eta 2:30:04     |██████████████████▋             | 436.4 MB 96 kB/s eta 0:54:37     |██████████████████▋             | 436.5 MB 39 kB/s eta 2:13:19     |██████████████████▋             | 436.7 MB 107 kB/s eta 0:49:04     |██████████████████▊             | 440.1 MB 75 kB/s eta 1:08:48     |██████████████████▊             | 440.1 MB 112 kB/s eta 0:46:23     |██████████████████▊             | 440.3 MB 100 kB/s eta 0:51:53     |██████████████████▉             | 443.1 MB 104 kB/s eta 0:49:14     |██████████████████▉             | 443.2 MB 58 kB/s eta 1:28:03     |███████████████████▏            | 450.1 MB 90 kB/s eta 0:55:36     |███████████████████▏            | 451.6 MB 56 kB/s eta 1:29:15     |███████████████████▎            | 452.3 MB 37 kB/s eta 2:14:01     |███████████████████▍            | 456.1 MB 57 kB/s eta 1:26:18     |███████████████████▌            | 457.0 MB 115 kB/s eta 0:42:27     |███████████████████▌            | 459.0 MB 58 kB/s eta 1:23:27     |███████████████████▋            | 461.5 MB 148 kB/s eta 0:32:42     |███████████████████▊            | 462.6 MB 43 kB/s eta 1:51:42     |███████████████████▊            | 463.5 MB 75 kB/s eta 1:03:35     |███████████████████▊            | 464.5 MB 188 kB/s eta 0:25:28     |███████████████████▊            | 464.6 MB 106 kB/s eta 0:45:11     |███████████████████▉            | 466.6 MB 63 kB/s eta 1:14:22     |████████████████████            | 468.5 MB 112 kB/s eta 0:42:01     |████████████████████            | 472.2 MB 127 kB/s eta 0:36:28     |████████████████████▍           | 479.5 MB 89 kB/s eta 0:50:32     |████████████████████▌           | 481.2 MB 58 kB/s eta 1:17:39     |████████████████████▋           | 483.1 MB 108 kB/s eta 0:41:14     |████████████████████▊           | 488.0 MB 43 kB/s eta 1:40:38     |████████████████████▉           | 489.1 MB 59 kB/s eta 1:13:43     |████████████████████▉           | 490.4 MB 39 kB/s eta 1:49:29     |█████████████████████           | 492.2 MB 56 kB/s eta 1:15:59     |█████████████████████           | 494.3 MB 65 kB/s eta 1:05:38     |█████████████████████           | 495.3 MB 31 kB/s eta 2:16:11     |█████████████████████▍          | 501.5 MB 135 kB/s eta 0:30:55     |█████████████████████▌          | 506.2 MB 46 kB/s eta 1:28:49     |██████████████████████          | 518.4 MB 93 kB/s eta 0:41:50     |██████████████████████▎         | 524.1 MB 61 kB/s eta 1:01:38     |██████████████████████▌         | 527.7 MB 71 kB/s eta 0:52:13     |██████████████████████▊         | 533.7 MB 93 kB/s eta 0:38:48     |██████████████████████▊         | 535.0 MB 213 kB/s eta 0:16:56     |███████████████████████         | 542.8 MB 62 kB/s eta 0:56:06     |███████████████████████▎        | 546.2 MB 62 kB/s eta 0:54:59     |███████████████████████▎        | 547.5 MB 54 kB/s eta 1:02:51     |███████████████████████▎        | 547.8 MB 87 kB/s eta 0:38:56     |███████████████████████▍        | 550.4 MB 46 kB/s eta 1:12:57     |███████████████████████▉        | 560.8 MB 154 kB/s eta 0:20:39     |████████████████████████        | 563.4 MB 105 kB/s eta 0:29:43     |████████████████████████        | 564.1 MB 74 kB/s eta 0:41:51     |████████████████████████▏       | 566.9 MB 98 kB/s eta 0:31:17     |████████████████████████▋       | 577.3 MB 40 kB/s eta 1:12:26     |████████████████████████▋       | 578.1 MB 44 kB/s eta 1:04:35     |████████████████████████▊       | 581.7 MB 117 kB/s eta 0:24:11\u001b[31mERROR: Exception:\n",
      "Traceback (most recent call last):\n",
      "  File \"/opt/conda/lib/python3.7/site-packages/pip/_vendor/urllib3/contrib/pyopenssl.py\", line 313, in recv_into\n",
      "    return self.connection.recv_into(*args, **kwargs)\n",
      "  File \"/opt/conda/lib/python3.7/site-packages/OpenSSL/SSL.py\", line 1840, in recv_into\n",
      "    self._raise_ssl_error(self._ssl, result)\n",
      "  File \"/opt/conda/lib/python3.7/site-packages/OpenSSL/SSL.py\", line 1646, in _raise_ssl_error\n",
      "    raise WantReadError()\n",
      "OpenSSL.SSL.WantReadError\n",
      "\n",
      "During handling of the above exception, another exception occurred:\n",
      "\n",
      "Traceback (most recent call last):\n",
      "  File \"/opt/conda/lib/python3.7/site-packages/pip/_vendor/urllib3/response.py\", line 425, in _error_catcher\n",
      "    yield\n",
      "  File \"/opt/conda/lib/python3.7/site-packages/pip/_vendor/urllib3/response.py\", line 507, in read\n",
      "    data = self._fp.read(amt) if not fp_closed else b\"\"\n",
      "  File \"/opt/conda/lib/python3.7/site-packages/pip/_vendor/cachecontrol/filewrapper.py\", line 62, in read\n",
      "    data = self.__fp.read(amt)\n",
      "  File \"/opt/conda/lib/python3.7/http/client.py\", line 457, in read\n",
      "    n = self.readinto(b)\n",
      "  File \"/opt/conda/lib/python3.7/http/client.py\", line 501, in readinto\n",
      "    n = self.fp.readinto(b)\n",
      "  File \"/opt/conda/lib/python3.7/socket.py\", line 589, in readinto\n",
      "    return self._sock.recv_into(b)\n",
      "  File \"/opt/conda/lib/python3.7/site-packages/pip/_vendor/urllib3/contrib/pyopenssl.py\", line 326, in recv_into\n",
      "    raise timeout(\"The read operation timed out\")\n",
      "socket.timeout: The read operation timed out\n",
      "\n",
      "During handling of the above exception, another exception occurred:\n",
      "\n",
      "Traceback (most recent call last):\n",
      "  File \"/opt/conda/lib/python3.7/site-packages/pip/_internal/cli/base_command.py\", line 188, in _main\n",
      "    status = self.run(options, args)\n",
      "  File \"/opt/conda/lib/python3.7/site-packages/pip/_internal/cli/req_command.py\", line 185, in wrapper\n",
      "    return func(self, options, args)\n",
      "  File \"/opt/conda/lib/python3.7/site-packages/pip/_internal/commands/install.py\", line 333, in run\n",
      "    reqs, check_supported_wheels=not options.target_dir\n",
      "  File \"/opt/conda/lib/python3.7/site-packages/pip/_internal/resolution/legacy/resolver.py\", line 179, in resolve\n",
      "    discovered_reqs.extend(self._resolve_one(requirement_set, req))\n",
      "  File \"/opt/conda/lib/python3.7/site-packages/pip/_internal/resolution/legacy/resolver.py\", line 362, in _resolve_one\n",
      "    abstract_dist = self._get_abstract_dist_for(req_to_install)\n",
      "  File \"/opt/conda/lib/python3.7/site-packages/pip/_internal/resolution/legacy/resolver.py\", line 314, in _get_abstract_dist_for\n",
      "    abstract_dist = self.preparer.prepare_linked_requirement(req)\n",
      "  File \"/opt/conda/lib/python3.7/site-packages/pip/_internal/operations/prepare.py\", line 412, in prepare_linked_requirement\n",
      "    hashes=hashes,\n",
      "  File \"/opt/conda/lib/python3.7/site-packages/pip/_internal/operations/prepare.py\", line 198, in unpack_url\n",
      "    hashes=hashes,\n",
      "  File \"/opt/conda/lib/python3.7/site-packages/pip/_internal/operations/prepare.py\", line 124, in get_http_url\n",
      "    link, downloader, temp_dir.path, hashes\n",
      "  File \"/opt/conda/lib/python3.7/site-packages/pip/_internal/operations/prepare.py\", line 220, in _download_http_url\n",
      "    for chunk in download.chunks:\n",
      "  File \"/opt/conda/lib/python3.7/site-packages/pip/_internal/cli/progress_bars.py\", line 166, in iter\n",
      "    for x in it:\n",
      "  File \"/opt/conda/lib/python3.7/site-packages/pip/_internal/network/utils.py\", line 39, in response_chunks\n",
      "    decode_content=False,\n",
      "  File \"/opt/conda/lib/python3.7/site-packages/pip/_vendor/urllib3/response.py\", line 564, in stream\n",
      "    data = self.read(amt=amt, decode_content=decode_content)\n",
      "  File \"/opt/conda/lib/python3.7/site-packages/pip/_vendor/urllib3/response.py\", line 529, in read\n",
      "    raise IncompleteRead(self._fp_bytes_read, self.length_remaining)\n",
      "  File \"/opt/conda/lib/python3.7/contextlib.py\", line 130, in __exit__\n",
      "    self.gen.throw(type, value, traceback)\n",
      "  File \"/opt/conda/lib/python3.7/site-packages/pip/_vendor/urllib3/response.py\", line 430, in _error_catcher\n",
      "    raise ReadTimeoutError(self._pool, None, \"Read timed out.\")\n",
      "pip._vendor.urllib3.exceptions.ReadTimeoutError: HTTPSConnectionPool(host='files.pythonhosted.org', port=443): Read timed out.\u001b[0m\n"
     ]
    },
    {
     "name": "stdout",
     "output_type": "stream",
     "text": [
      "Note: you may need to restart the kernel to use updated packages.\n"
     ]
    }
   ],
   "source": [
    "pip install torch"
   ]
  },
  {
   "cell_type": "code",
   "execution_count": 3,
   "metadata": {},
   "outputs": [
    {
     "ename": "ModuleNotFoundError",
     "evalue": "No module named 'torch'",
     "output_type": "error",
     "traceback": [
      "\u001b[0;31m---------------------------------------------------------------------------\u001b[0m",
      "\u001b[0;31mModuleNotFoundError\u001b[0m                       Traceback (most recent call last)",
      "\u001b[0;32m<ipython-input-3-556e2fd6c738>\u001b[0m in \u001b[0;36m<module>\u001b[0;34m\u001b[0m\n\u001b[1;32m      1\u001b[0m \u001b[0;32mimport\u001b[0m \u001b[0mtransformers\u001b[0m \u001b[0;32mas\u001b[0m \u001b[0mppb\u001b[0m\u001b[0;34m\u001b[0m\u001b[0;34m\u001b[0m\u001b[0m\n\u001b[0;32m----> 2\u001b[0;31m \u001b[0;32mimport\u001b[0m \u001b[0mtorch\u001b[0m\u001b[0;34m\u001b[0m\u001b[0;34m\u001b[0m\u001b[0m\n\u001b[0m\u001b[1;32m      3\u001b[0m \u001b[0;34m\u001b[0m\u001b[0m\n\u001b[1;32m      4\u001b[0m \u001b[0mmodel_class\u001b[0m\u001b[0;34m,\u001b[0m \u001b[0mtokenizer_class\u001b[0m\u001b[0;34m,\u001b[0m \u001b[0mpretrained_weights\u001b[0m \u001b[0;34m=\u001b[0m \u001b[0;34m(\u001b[0m\u001b[0mppb\u001b[0m\u001b[0;34m.\u001b[0m\u001b[0mDistilBertModel\u001b[0m\u001b[0;34m,\u001b[0m \u001b[0mppb\u001b[0m\u001b[0;34m.\u001b[0m\u001b[0mDistilBertTokenizer\u001b[0m\u001b[0;34m,\u001b[0m \u001b[0;34m'distilbert-base-uncased'\u001b[0m\u001b[0;34m)\u001b[0m\u001b[0;34m\u001b[0m\u001b[0;34m\u001b[0m\u001b[0m\n",
      "\u001b[0;31mModuleNotFoundError\u001b[0m: No module named 'torch'"
     ]
    }
   ],
   "source": [
    "import transformers as ppb\n",
    "import torch\n",
    "\n",
    "model_class, tokenizer_class, pretrained_weights = (ppb.DistilBertModel, ppb.DistilBertTokenizer, 'distilbert-base-uncased')\n"
   ]
  },
  {
   "cell_type": "code",
   "execution_count": null,
   "metadata": {},
   "outputs": [],
   "source": []
  }
 ],
 "metadata": {
  "kernelspec": {
   "display_name": "Python 3",
   "language": "python",
   "name": "python3"
  },
  "language_info": {
   "codemirror_mode": {
    "name": "ipython",
    "version": 3
   },
   "file_extension": ".py",
   "mimetype": "text/x-python",
   "name": "python",
   "nbconvert_exporter": "python",
   "pygments_lexer": "ipython3",
   "version": "3.8.6"
  }
 },
 "nbformat": 4,
 "nbformat_minor": 4
}
