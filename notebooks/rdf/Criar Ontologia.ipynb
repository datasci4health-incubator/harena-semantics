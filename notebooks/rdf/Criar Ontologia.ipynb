{
 "cells": [
  {
   "cell_type": "code",
   "execution_count": 45,
   "id": "juvenile-monday",
   "metadata": {},
   "outputs": [],
   "source": [
    "from rdflib import Graph\n",
    "\n",
    "from rdflib import URIRef, BNode, Literal\n",
    "from rdflib.namespace import Namespace, RDF, RDFS, FOAF\n",
    "\n",
    "HARENA = Namespace(\"http://harena.org/\")\n",
    "\n",
    "case = URIRef(\"http://harena.org/clinical_case\")\n",
    "template = URIRef(\"http://harena.org/template\")\n",
    "institution = URIRef(\"http://harena.org/institution\")\n",
    "\n",
    "jacinto = URIRef(\"http://harena.org/jacinto\")\n",
    "unicamp = URIRef(\"http://harena.org/unicamp\")\n",
    "minho = URIRef(\"http://harena.org/minho\")\n",
    "\n",
    "respiratory_failure = URIRef(\"http://harena.org/respiratory_failure\")\n",
    "sepsis = URIRef(\"http://harena.org/sepsis\")\n",
    "\n",
    "virtual_rounds = URIRef(\"http://harena.org/virtual_rounds\")\n",
    "pocus = URIRef(\"http://harena.org/pocus\")\n",
    "\n",
    "g = Graph()\n",
    "\n",
    "g.bind(\"harena\", HARENA)\n",
    "    \n",
    "g.add((case, RDF.type, RDFS.Class))\n",
    "g.add((case, RDFS.label, Literal('Clinical Case')))\n",
    "\n",
    "g.add((template, RDF.type, RDFS.Class))\n",
    "g.add((template, RDFS.label, Literal('Template')))\n",
    "\n",
    "g.add((institution, RDF.type, RDFS.Class))\n",
    "g.add((institution, RDFS.label, Literal('Institution')))\n",
    "\n",
    "\n",
    "g.add((jacinto, RDF.type, FOAF.Person))\n",
    "g.add((jacinto, FOAF.name, Literal('Jacinto Bemelhor')))\n",
    "\n",
    "g.add((unicamp, RDF.type, institution))\n",
    "g.add((unicamp, RDFS.label, Literal(\"unicamp\")))\n",
    "\n",
    "\n",
    "g.add((minho, RDF.type, institution))\n",
    "\n",
    "g.add((respiratory_failure, RDF.type, case))\n",
    "g.add((respiratory_failure, RDFS.label, Literal(\"Respiratory Failure\")))\n",
    "\n",
    "g.add((sepsis, RDF.type, case))\n",
    "g.add((sepsis, RDFS.label, Literal(\"Sepsis\")))\n",
    "\n",
    "g.add((virtual_rounds, RDF.type, template))\n",
    "g.add((virtual_rounds, RDFS.label, Literal(\"Virtual Rounds\")))\n",
    "\n",
    "g.add((pocus, RDF.type, template))\n",
    "g.add((pocus, RDFS.label, Literal(\"Pocus Challenge\")))\n",
    "\n",
    "has_template = URIRef(\"http://harena.org/has_template\")\n",
    "copyright = URIRef(\"http://harena.org/copyright\")\n",
    "\n",
    "g.add((has_template, RDF.type, RDF.Property))\n",
    "g.add((has_template, RDFS.range, template))\n",
    "g.add((has_template, RDFS.domain, case))\n",
    "\n",
    "g.add((copyright, RDF.type, RDF.Property))\n",
    "g.add((copyright, RDFS.range, template))\n",
    "g.add((copyright, RDFS.range, case))\n",
    "g.add((copyright, RDFS.domain, FOAF.Person))\n",
    "g.add((copyright, RDFS.domain, institution))\n",
    "\n",
    "\n",
    "g.add((jacinto, copyright, respiratory_failure))\n",
    "g.add((jacinto, copyright, pocus))\n",
    "\n",
    "g.add((unicamp, copyright, sepsis))\n",
    "g.add((unicamp, copyright, pocus))\n",
    "\n",
    "g.add((respiratory_failure, has_template, pocus))\n",
    "g.add((sepsis, has_template, pocus))\n",
    "g.add((sepsis, has_template, virtual_rounds))\n",
    "\n",
    "# g.add((case, RDFS.label, Literal('Clinical Case')))\n",
    "\n",
    "g.serialize(destination=\"harena.ttl\", format=\"turtle\")"
   ]
  },
  {
   "cell_type": "code",
   "execution_count": 52,
   "id": "noble-customer",
   "metadata": {},
   "outputs": [
    {
     "name": "stdout",
     "output_type": "stream",
     "text": [
      "(rdflib.term.URIRef('http://harena.org/jacinto'),)\n"
     ]
    }
   ],
   "source": [
    "qres = g.query(\n",
    "    \"\"\"SELECT DISTINCT *\n",
    "       WHERE {\n",
    "          ?a rdf:type foaf:Person .\n",
    "       }\"\"\", initNs={ 'foaf': FOAF, 'harena': HARENA })\n",
    "\n",
    "for row in qres:\n",
    "    print(row)"
   ]
  },
  {
   "cell_type": "code",
   "execution_count": null,
   "id": "enabling-dollar",
   "metadata": {},
   "outputs": [],
   "source": [
    "SELECT ?c WHERE { ?s   harena:copyright  ?c . \n",
    "#                  FILTER  NOT  EXISTS { ?c   rdf:type   %%T1%% } }"
   ]
  },
  {
   "cell_type": "code",
   "execution_count": 92,
   "id": "organized-blowing",
   "metadata": {},
   "outputs": [
    {
     "name": "stdout",
     "output_type": "stream",
     "text": [
      "(rdflib.term.URIRef('http://xmlns.com/foaf/0.1/Person'), rdflib.term.URIRef('http://harena.org/jacinto'))\n",
      "(rdflib.term.URIRef('http://harena.org/template'), rdflib.term.URIRef('http://harena.org/virtual_rounds'))\n",
      "(rdflib.term.URIRef('http://harena.org/clinical_case'), rdflib.term.URIRef('http://harena.org/sepsis'))\n",
      "(rdflib.term.URIRef('http://harena.org/template'), rdflib.term.URIRef('http://harena.org/pocus'))\n",
      "(rdflib.term.URIRef('http://www.w3.org/1999/02/22-rdf-syntax-ns#Property'), rdflib.term.URIRef('http://harena.org/has_template'))\n",
      "(rdflib.term.URIRef('http://harena.org/clinical_case'), rdflib.term.URIRef('http://harena.org/respiratory_failure'))\n",
      "(rdflib.term.URIRef('http://www.w3.org/1999/02/22-rdf-syntax-ns#Property'), rdflib.term.URIRef('http://harena.org/copyright'))\n",
      "(rdflib.term.URIRef('http://harena.org/institution'), rdflib.term.URIRef('http://harena.org/unicamp'))\n",
      "(rdflib.term.URIRef('http://harena.org/institution'), rdflib.term.URIRef('http://harena.org/minho'))\n"
     ]
    }
   ],
   "source": [
    "qres = g.query(\n",
    "    \"\"\"SELECT ?domain ?c\n",
    "       WHERE { \n",
    "           harena:copyright ?d ?domain  .\n",
    "           ?c a ?domain\n",
    "       }\"\"\", initNs={ 'foaf': FOAF, 'harena': HARENA })\n",
    "for row in qres:\n",
    "    print(row)"
   ]
  },
  {
   "cell_type": "code",
   "execution_count": 89,
   "id": "dangerous-literature",
   "metadata": {},
   "outputs": [
    {
     "name": "stdout",
     "output_type": "stream",
     "text": [
      "(rdflib.term.URIRef('http://xmlns.com/foaf/0.1/Person'), rdflib.term.URIRef('http://harena.org/jacinto'))\n",
      "(rdflib.term.URIRef('http://harena.org/institution'), rdflib.term.URIRef('http://harena.org/unicamp'))\n",
      "(rdflib.term.URIRef('http://harena.org/institution'), rdflib.term.URIRef('http://harena.org/minho'))\n"
     ]
    }
   ],
   "source": [
    "qres = g.query(\n",
    "    \"\"\"SELECT ?domain ?c\n",
    "       WHERE { \n",
    "           harena:copyright rdfs:domain ?domain  .\n",
    "           ?c rdf:type ?domain\n",
    "       }\"\"\", initNs={ 'foaf': FOAF, 'harena': HARENA })\n",
    "for row in qres:\n",
    "    print(row)"
   ]
  },
  {
   "cell_type": "code",
   "execution_count": null,
   "id": "breathing-accreditation",
   "metadata": {},
   "outputs": [],
   "source": []
  }
 ],
 "metadata": {
  "kernelspec": {
   "display_name": "Python 3",
   "language": "python",
   "name": "python3"
  },
  "language_info": {
   "codemirror_mode": {
    "name": "ipython",
    "version": 3
   },
   "file_extension": ".py",
   "mimetype": "text/x-python",
   "name": "python",
   "nbconvert_exporter": "python",
   "pygments_lexer": "ipython3",
   "version": "3.8.8"
  }
 },
 "nbformat": 4,
 "nbformat_minor": 5
}
