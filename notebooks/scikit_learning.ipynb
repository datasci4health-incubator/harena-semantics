{
 "cells": [
  {
   "cell_type": "code",
   "execution_count": 45,
   "id": "e8f100d8",
   "metadata": {},
   "outputs": [
    {
     "name": "stdout",
     "output_type": "stream",
     "text": [
      "[['human', 'interface', 'computer'], ['survey', 'user', 'computer', 'system', 'response', 'time'], ['eps', 'user', 'interface', 'system'], ['system', 'human', 'system', 'eps'], ['user', 'response', 'time'], ['trees'], ['graph', 'trees'], ['graph', 'minors', 'trees'], ['graph', 'minors', 'survey']]\n",
      "\n",
      "[[(0, 1), (1, 1), (2, 1)], [(0, 1), (3, 1), (4, 1), (5, 1), (6, 1), (7, 1)], [(2, 1), (5, 1), (7, 1), (8, 1)], [(1, 1), (5, 2), (8, 1)], [(3, 1), (6, 1), (7, 1)], [(9, 1)], [(9, 1), (10, 1)], [(9, 1), (10, 1), (11, 1)], [(4, 1), (10, 1), (11, 1)]]\n"
     ]
    },
    {
     "data": {
      "text/plain": [
       "list"
      ]
     },
     "execution_count": 45,
     "metadata": {},
     "output_type": "execute_result"
    }
   ],
   "source": [
    "from gensim.test.utils import common_texts, common_corpus, common_dictionary\n",
    "\n",
    "print(common_texts)\n",
    "print()\n",
    "print(common_corpus)\n",
    "type(common_corpus)\n"
   ]
  },
  {
   "cell_type": "code",
   "execution_count": null,
   "id": "38f5c0a0",
   "metadata": {},
   "outputs": [],
   "source": [
    "# assert common_dictionary.doc2bow(common_texts[0]) == common_corpus[0]"
   ]
  },
  {
   "cell_type": "code",
   "execution_count": null,
   "id": "bf0fc807",
   "metadata": {},
   "outputs": [],
   "source": [
    "str(common_dictionary)"
   ]
  },
  {
   "cell_type": "code",
   "execution_count": 2,
   "id": "0a17fa83",
   "metadata": {},
   "outputs": [
    {
     "data": {
      "text/plain": [
       "[['human', 'interface', 'computer'], ['coronary', 'ecg']]"
      ]
     },
     "execution_count": 2,
     "metadata": {},
     "output_type": "execute_result"
    }
   ],
   "source": [
    "from gensim.corpora import Dictionary\n",
    "\n",
    "texts = [['human', 'interface', 'computer'], ['coronary', 'ecg']]\n",
    "\n",
    "texts"
   ]
  },
  {
   "cell_type": "code",
   "execution_count": 155,
   "id": "204fac78",
   "metadata": {},
   "outputs": [
    {
     "name": "stdout",
     "output_type": "stream",
     "text": [
      "[['acute', 'myocardial', 'infarction', 'is', 'usually', 'manifested', 'by', 'anginal', 'chest', 'pain', 'tightening', 'lasting', 'more', 'than', 'minutes', 'and', 'may', 'radiate', 'from', 'the', 'mandibular', 'area', 'to', 'the', 'umbilicus', 'for', 'its', 'diagnosis', 'it', 'is', 'necessary', 'in', 'addition', 'to', 'the', 'clinical', 'history', 'to', 'have', 'changes', 'in', 'the', 'markers', 'of', 'myocardial', 'injury', 'and', 'to', 'observe', 'the', 'pattern', 'of', 'the', 'electrocardiogram', 'acute', 'myocardial', 'infarction', 'can', 'be', 'depending', 'on', 'the', 'pattern', 'visualized', 'on', 'the', 'electrocardiogram', 'with', 'st', 'segment', 'elevation', 'or', 'without', 'st', 'segment', 'elevation', 'faced', 'with', 'an', 'st', 'elevation', 'and', 'ami', 'clinic', 'revascularization', 'begins'], ['it', 'is', 'when', 'the', 'cardiac', 'muscle', 'suffers', 'ischemia', 'it', 'can', 'be', 'derived', 'from', 'thrombus', 'in', 'the', 'coronary', 'arteries', 'among', 'other', 'situations', 'it', 'is', 'defined', 'as', 'ami', 'when', 'you', 'have', 'symptoms', 'of', 'ischemia', 'and', 'ascending', 'descent', 'of', 'myocardial', 'necrosis', 'markers', 'may', 'or', 'may', 'not', 'have', 'ecg', 'changes'], ['acute', 'infarction', 'can', 'have', 'an', 'ecg', 'representation', 'with', 'or', 'without', 'suprast', 'and', 'can', 'occur', 'due', 'to', 'complete', 'or', 'incomplete', 'occlusion', 'of', 'coronary', 'artery', 'it', 'is', 'an', 'acute', 'coronary', 'syndrome', 'clinically', 'represented', 'by', 'angina', 'type', 'chest', 'pain', 'feeling', 'of', 'heaviness', 'or', 'tightness', 'which', 'may', 'or', 'may', 'not', 'radiate', 'to', 'the', 'neck', 'back', 'or', 'arms', 'lasting', 'more', 'than', 'minutes', 'and', 'which', 'does', 'not', 'relieve', 'with', 'rest', 'it', 'may', 'be', 'accompanied', 'by', 'other', 'signs', 'and', 'symptoms', 'such', 'as', 'shortness', 'of', 'breath', 'palpitations', 'syncope', 'muscle', 'weakness', 'or', 'even', 'just', 'epigastric', 'pain', 'women', 'elderly', 'it', 'implies', 'damage', 'to', 'the', 'heart', 'muscle', 'with', 'elevation', 'of', 'myocardial', 'injury', 'markers', 'however', 'in', 'cases', 'of', 'ade', 'with', 'supra', 'one', 'cannot', 'wait', 'for', 'the', 'results', 'of', 'the', 'markers', 'and', 'should', 'immediately', 'proceed', 'to', 'an', 'angioplasty', 'in', 'order', 'to', 'unclog', 'the', 'artery'], ['there', 'are', 'different', 'types', 'of', 'infarctions', 'the', 'infarctions', 'covered', 'in', 'the', 'classes', 'referred', 'to', 'type', 'infarctions', 'in', 'which', 'there', 'is', 'rupture', 'of', 'an', 'atherosclerotic', 'plaque', 'within', 'infarts', 'there', 'are', 'infarcts', 'with', 'suprast', 'and', 'without', 'suprast', 'infarcts', 'with', 'suprast', 'are', 'an', 'emergency', 'and', 'require', 'immediate', 'intervention', 'with', 'pci', 'or', 'fibrinolysis', 'depending', 'on', 'whether', 'the', 'time', 'to', 'pci', 'is', 'longer', 'than', '2h', 'all', 'infarcts', 'require', 'first', 'intervention', 'with', 'enoxaparin', 'aspirin', 'and', 'ticagrelor', 'in', 'the', 'case', 'of', 'icp', 'double', 'anti', 'aggregation', 'is', 'performed'], ['typical', 'presentation', 'acute', 'thoracic', 'more', 'frequently', 'retrosternal', 'and', 'may', 'radiate', 'to', 'the', 'neck', 'shoulders', 'upper', 'limbs', 'atypical', 'presentations', 'epigastric', 'pain', 'nausea', 'dyspnea', 'epidemiology', 'more', 'frequent', 'in', 'individuals', 'with', 'cardiovascular', 'risk', 'factors', 'age', 'male', 'gender', 'hypertension', 'dyslipidemia', 'diabetes', 'mellitus', 'smoking', 'sedentary', 'lifestyle', 'bad', 'habits', 'and', 'lifestylesecg', 'can', 'be', 'divided', 'into', 'mas', 'with', 'st', 'elevation', 'and', 'without', 'st', 'elevation', 'with', 'st', 'elevation', 'suggesting', 'total', 'occlusion', 'of', 'the', 'affected', 'artery', 'elevation', 'of', 'troponins', 'changes', 'in', 'segmental', 'kinetics', 'on', 'echocardiography', 'symptomatic', 'treatment', 'morphine', 'anti', 'ischemic', 'revascularization', 'technique', 'for', 'cataterism', 'surgery', 'or', 'fibrinolysis', 'may', 'be', 'necessary', 'pathophysiology', 'atherosclerosis', 'with', 'coronary', 'artery', 'stenosis'], ['eam', 'is', 'pathology', 'associated', 'with', 'myocardial', 'tissue', 'ischemia', 'this', 'ischemia', 'is', 'caused', 'by', 'obstruction', 'of', 'one', 'or', 'more', 'coronary', 'arteries', 'the', 'extension', 'of', 'the', 'adjacent', 'lesion', 'necrosis', 'itself', 'is', 'correlated', 'with', 'the', 'time', 'it', 'takes', 'to', 'act', 'as', 'well', 'as', 'with', 'the', 'degree', 'of', 'obstruction', 'of', 'the', 'artery', 'these', 'injuries', 'are', 'often', 'irreversible', 'if', 'there', 'is', 'complete', 'occlusion', 'and', 'consequent', 'myocardial', 'necrosis', 'and', 'infeasibility', 'an', 'ecg', 'will', 'show', 'suprast', 'otherwise', 'infrast', 'may', 'be', 'present', 'the', 'appearance', 'of', 'these', 'st', 'alterations', 'in', 'the', 'leads', 'are', 'congruent', 'with', 'the', 'artery', 'that', 'was', 'affected', 'these', 'myocardial', 'lesions', 'can', 'in', 'turn', 'lead', 'to', 'alterations', 'in', 'the', 'segmental', 'kinetics', 'itself', 'with', 'the', 'appearance', 'of', 'ventricular', 'dysfunction', 'and', 'the', 'respective', 'congestive', 'consequences', 'that', 'ensue'], ['epidemiologically', 'it', 'is', 'more', 'common', 'in', 'males', 'and', 'over', 'years', 'of', 'age', 'it', 'presents', 'with', 'very', 'intense', 'retrosternal', 'squeezing', 'pain', 'that', 'may', 'radiate', 'to', 'the', 'left', 'upper', 'limb', 'neck', 'or', 'epigastrium', 'in', 'addition', 'it', 'may', 'be', 'accompanied', 'by', 'dyspnea', 'and', 'inability', 'to', 'make', 'small', 'efforts', 'on', 'ecg', 'it', 'presents', 'with', 'elevation', 'of', 'st', 'segment', 'elevation', 'in', 'the', 'leads', 'corresponding', 'to', 'the', 'affected', 'areas', 'and', 'increase', 'in', 'cardiac', 'markers'], ['it', 'manifests', 'as', 'sudden', 'onset', 'chest', 'pain', 'usually', 'at', 'rest', 'which', 'worsens', 'over', 'time', 'may', 'radiate', 'to', 'arms', 'jaw', 'epigastrium', 'it', 'may', 'have', 'associated', 'dyspnea', 'dizziness', 'loss', 'of', 'awareness', 'palpitations', 'analytically', 'there', 'is', 'an', 'increase', 'in', 'myocardial', 'necrosis', 'markers', 'it', 'can', 'be', 'with', 'or', 'without', 'st', 'elevation', 'on', 'the', 'electrocardiogram', 'which', 'corresponds', 'to', 'complete', 'or', 'incomplete', 'occlusion', 'of', 'the', 'artery', 'respectively'], ['epidemiology', 'disease', 'that', 'affects', 'men', 'earlier', 'than', 'women', 'increasing', 'its', 'risk', 'with', 'advancing', 'age', 'its', 'risk', 'factors', 'are', 'smoking', 'lack', 'of', 'physical', 'activity', 'alcoholism', 'among', 'others', 'clinical', 'presentation', 'sudden', 'onset', 'pain', 'and', 'anterior', 'thoracic', 'location', 'usually', 'retrosternal', 'or', 'precordial', 'with', 'possible', 'irradiation', 'to', 'the', 'shoulders', 'left', 'arm', 'and', 'to', 'the', 'back', 'it', 'can', 'also', 'be', 'an', 'epigastric', 'pain', 'to', 'the', 'sick'], ['eam', 'is', 'pathology', 'in', 'which', 'there', 'is', 'myocardial', 'ischemia', 'which', 'can', 'occur', 'for', 'several', 'reasons', 'including', 'rupture', 'of', 'an', 'atherosclerotic', 'plaque', 'with', 'thrombus', 'formation', 'and', 'occlusion', 'of', 'coronary', 'artery', 'due', 'to', 'imbalances', 'between', 'the', 'needs', 'and', 'perfusion', 'of', 'the', 'myocardium', 'vasospasm', 'anemia', 'coronary', 'dissection', 'etc', 'may', 'be', 'associated', 'with', 'sudden', 'death', 'or', 'occur', 'in', 'revascularization', 'procedure', 'such', 'as', 'pci', 'or', 'cabg', 'it', 'may', 'be', 'associated', 'with', 'an', 'elevation', 'of', 'the', 'seg', 'ento', 'st', 'in', 'the', 'ecg', 'in', 'the', 'contiguous', 'leads', 'corresponding', 'to', 'the', 'territory', 'in', 'ischemia', 'or', 'present', 'without', 'st', 'elevation', 'it', 'may', 'present', 'inversions', 'of', 'the', 'wave', 'infras', 'of', 'ts', 'in', 'reciprocal', 'derivations', 'and', 'the', 'appearance', 'of', 'waves', 'indicative', 'of', 'scarring', 'acute', 'elevation', 'of', 'myocardial', 'necrosis', 'markers', 'may', 'be', 'associated', 'with', 'malignant', 'arrhythmia', 'namely', 'in', 'the', 'first', 'days', 'after', 'the', 'event', 'it', 'may', 'lead', 'to', 'rupture', 'and', 'ventricular', 'wall', 'or', 'septum', 'and'], ['acute', 'myocardial', 'infarction', 'is', 'clinical', 'condition', 'secondary', 'to', 'ischemia', 'and', 'myocardial', 'injury', 'the', 'underlying', 'causes', 'of', 'this', 'condition', 'can', 'be', 'multiple', 'such', 'as', 'obstruction', 'of', 'coronary', 'artery', 'by', 'thrombus', 'rupture', 'of', 'atherosclerotic', 'plaque', 'by', 'angina', 'or', 'vasospasm', 'by', 'the', 'increase', 'in', 'oxygen', 'requirements', 'with', 'inability', 'to', 'support', 'this', 'need', 'by', 'artery', 'dissection', 'among', 'others', 'the', 'most', 'characteristic', 'symptoms', 'are', 'tightening', 'retrosternal', 'pain', 'radiating', 'or', 'to', 'the', 'arms', 'jaw', 'or', 'even', 'to', 'the', 'navel', 'dyspnoea', 'vomiting', 'palpitations', 'anxiety', 'for', 'diagnosis', 'it', 'is', 'essential', 'to', 'perform', 'an', 'ecg', 'to', 'see', 'if', 'there', 'is', 'supra'], ['it', 'consists', 'of', 'an', 'area', 'of', 'myocardial', 'muscle', 'ischemia', 'due', 'to', 'occlusion', 'of', 'coronary', 'artery', 'the', 'diagnosis', 'is', 'made', 'using', 'an', 'ecg', 'showing', 'suprast', 'treatment', 'must', 'be', 'immediate', 'using', 'catheterization', 'with', 'application', 'of', 'coronary', 'stent', 'in', 'order', 'to', 'unblock', 'the', 'occluded', 'artery', 'in', 'the', 'long', 'term', 'take', 'aspirin', 'together', 'with', 'prasugrel', 'for', 'year', 'after', 'catheterization', 'as', 'well', 'as', 'start', 'statin', 'ace', 'inhibitors', 'healthy', 'lifestyle', 'measures', 'smoking', 'cessation'], ['it', 'usually', 'has', 'an', 'acute', 'presentation', 'few', 'hours', 'of', 'evolution', 'is', 'characterized', 'as', 'pain', 'in', 'retrosternal', 'tightening', 'possibly', 'radiating', 'to', 'the', 'mandible', 'or', 'left', 'upper', 'limb', 'most', 'commonly', 'which', 'is', 'aggravated', 'by', 'exertion', 'and', 'which', 'is', 'relieved', 'with', 'rest', 'nitrates', 'they', 'may', 'be', 'accompanied', 'by', 'general', 'symptoms', 'such', 'as', 'paleness', 'diaphoresis', 'nausea', 'vomiting', 'and', 'even', 'syncope', 'on', 'physical', 'examination', 'alterations', 'may', 'not', 'be', 'detected', 'but', 'they', 'will', 'be', 'characterized', 'by', 'an', 'increase', 'in', 'myocardial', 'necrosis', 'markers', 'myoglobin', 'troponin', 'ck', 'in', 'the', 'plasma', 'and', 'electrocardiographic', 'alterations', 'which', 'may', 'appear', 'supra', 'st', 'the', 'therapy', 'will', 'be', 'anti', 'aggregant', 'and', 'anticoagulant', 'or', 'will', 'undergo', 'revascularization', 'patients', 'are', 'commonly', 'accompanied', 'by', 'cv', 'risk', 'factors', 'in', 'echocardgioragam', 'some', 'hypokinesis', 'of', 'cardiac', 'walls', 'may', 'be', 'seen', 'resulting', 'from', 'ische'], ['myocardial', 'injury', 'necrosis', 'disease', 'with', 'clinical', 'evidence', 'of', 'ischemia', 'such', 'as', 'acute', 'retrosternal', 'oppressive', 'chest', 'pain', 'aggravated', 'by', 'exertion', 'relieved', 'by', 'rest', 'or', 'nitrates', 'and', 'may', 'radiate', 'to', 'the', 'left', 'and', 'or', 'right', 'upper', 'limb', 'neck', 'jaw', 'and', 'epigastrium', 'often', 'associated', 'with', 'symptoms', 'such', 'as', 'hypersweating', 'nausea', 'and', 'or', 'vomiting', 'agitation', 'confusion', 'feeling', 'of', 'death', 'and', 'palpitations', 'associated', 'with', 'cardiovascular', 'risk', 'factors', 'such', 'as', 'smoking', 'overweight', 'obesity', 'sedentary', 'lifestyle', 'dm', 'hypertension', 'dyslipidemia', 'it', 'is', 'clinical', 'situation', 'that', 'requires', 'diagnosis', 'and', 'emergent', 'therapy', 'with', 'an', 'ecg', 'performed', 'within', 'minutes', 'after', 'the', 'onset', 'of', 'symptoms', 'and', 'anti', 'ischemic', 'therapy', 'with', 'asa', 'and', 'pain', 'relief', 'with', 'nitrates', 'after', 'the', 'ecg', 'if', 'there', 'is', 'evidence', 'of', 'st', 'elevation', 'revascularization', 'is', 'requested', 'and', 'if', 'without', 'elevation'], ['eam', 'is', 'pathology', 'that', 'has', 'its', 'origins', 'in', 'greater', 'or', 'lesser', 'degree', 'of', 'ischemia', 'of', 'the', 'arteries', 'that', 'supply', 'the', 'coronary', 'tissue', 'this', 'ischemia', 'can', 'have', 'several', 'origins', 'which', 'in', 'turn', 'gives', 'rise', 'to', 'several', 'types', 'of', 'eam', 'the', 'most', 'common', 'ades', 'type', 'and', 'are', 'caused', 'by', 'the', 'rupture', 'of', 'an', 'atherosclerotic', 'plaque', 'or', 'an', 'unmet', 'need', 'for', 'oxygen'], ['eamcst', 'and', 'eamssteelevation', 'of', 'tropines', 'and', 'its', 'descent', 'pain', 'of', 'anginal', 'characteristics', 'without', 'relief', 'with', 'rest', 'or', 'with', 'nitrates', 'ecg', 'in', 'the', 'first', 'minutes', 'if', 'supra', 'st', 'there', 'is', 'risk', 'for', 'percutaneous', 'revascularization', 'or', 'firbrinolysis', 'soon', 'according', 'to', 'resources', 'without', 'st', 'high', 'risk', 'for', 'catheterization', 'up', 'to', 'hours', 'immediately', 'start', 'aspirin', 'nitrates', 'enoxaparin', 'until', 'revascularization', 'then', 'double', 'anti', 'aggregation', 'ad', 'eternum', 'associate', 'statins'], ['ami', 'acute', 'event', 'oppressive', 'retrosternal', 'pain', 'with', 'ecg', 'changes', 'with', 'st', 'up', 'or', 'st', 'up', 'changes', 'in', 'blood', 'count', 'with', 'increased', 'markers', 'of', 'myocardial', 'necrosis', 'there', 'are', 'types', 'of', 'eam'], ['possible', 'symptoms', 'angina', 'pectoris', 'oppressive', 'retrosternal', 'pain', 'lasting', 'more', 'than', 'min', 'which', 'relieves', 'with', 'rest', 'or', 'nitrates', 'and', 'worsens', 'with', 'exertion', 'dyspnoea', 'syncope', 'in', 'the', 'elderly', 'diabetics', 'and', 'women', 'may', 'not', 'be', 'typical', 'fr', 'dyslipidemia', 'age', 'diabetes', 'high', 'uremia', 'hypertension', 'if', 'eam', 'is', 'suspected', 'perform', 'ecg', 'and', 'cardiac', 'markers', 'immediately', 'pay', 'attention', 'to', 'other', 'differential', 'diagnoses', 'tep', 'aortic', 'dissection', 'esophageal', 'rupture', 'after', 'infarction', 'there', 'must', 'be', 'double', 'aggregation', 'eg', 'aspirin', 'ticagrelor', 'controlling', 'frcv', 'is', 'very', 'important'], ['myocardial', 'tissue', 'ischemia', 'requiring', 'urgent', 'intervention'], ['acute', 'myocardial', 'infarction', 'is', 'cardiac', 'condition', 'that', 'results', 'from', 'damage', 'to', 'cardiac', 'tissue', 'due', 'to', 'ischemic', 'causes', 'acute', 'myocardial', 'infarctions', 'can', 'be', 'due', 'to', 'total', 'or', 'partial', 'obstruction', 'of', 'one', 'or', 'more', 'coronary', 'vessels', 'at', 'the', 'acute', 'level', 'if', 'it', 'is', 'total', 'obstruction', 'it', 'presents', 'as', 'an', 'supra', 'st', 'in', 'adjacent', 'ecg', 'leads', 'if', 'it', 'is', 'partial', 'obstruction', 'it', 'presents', 'without', 'as', 'an', 'infra', 'st', 'subsequently', 'the', 'ecg', 'presentation', 'changes', 'due', 'to', 'chronic', 'myocardial', 'changes', 'its', 'main', 'risk', 'factors', 'are', 'dyslipidemia', 'smoking', 'and', 'alcohol', 'consumption', 'it', 'is', 'one', 'of', 'the', 'most', 'frequent', 'causes', 'of', 'death', 'in', 'portugal', 'cause', 'of', 'chest', 'pain', 'that', 'should', 'always', 'be', 'investigated', 'in', 'the', 'initial', 'approach', 'to', 'patient', 'with', 'this', 'complaint'], ['the', 'ami', 'can', 'be', 'with', 'st', 'up', 'or', 'st', 'up', 'with', 'an', 'increase', 'in', 'the', 'level', 'of', 'troponins', 'above', 'the', '99th', 'percentile', 'of', 'normality', 'it', 'is', 'also', 'an', 'acute', 'myocardial', 'injury', 'that', 'incorporates', 'symptoms', 'that', 'can', 'be', 'chest', 'pain', 'accompanied', 'by', 'nausea', 'vomiting', 'anxiety', 'sweating', 'ecg', 'changes', 'waves', 'again', 'evidence', 'of', 'ischemia', 'and', 'evidence', 'of', 'coronary', 'thrombus', 'diagnosis', 'involves', 'clinical', 'history', 'physical', 'examination', 'complete', 'means', 'of', 'diagnosis', 'blood', 'count', 'biochemistry', 'ecg', 'ecott', 'the', 'treatment', 'involves', 'changes', 'in', 'the', 'patients', 'lifestyle', 'aspirin', 'and', 'dual', 'anti', 'platelet', 'aggregation', 'for', 'year', 'plus', 'statins', 'ace', 'inhibitors', 'or', 'blockers', 'when', 'necessary'], ['intense', 'retrosternal', 'anginal', 'pain', 'possibly', 'radiating', 'to', 'the', 'left', 'arm', 'neck', 'and', 'jaw', 'it', 'is', 'pain', 'that', 'does', 'not', 'alleviate', 'with', 'rest', 'it', 'is', 'usually', 'preceded', 'by', 'typical', 'anginal', 'pain', 'that', 'can', 'progress', 'from', 'stable', 'to', 'unstable', 'in', 'the', 'hospital', 'approach', 'of', 'the', 'patient', 'it', 'is', 'mandatory', 'to', 'perform', 'an', 'ecg', 'on', 'entry', 'in', 'less', 'than', 'minutes', 'in', 'order', 'to', 'distinguish', 'between', 'supra', 'st', 'and', 'without', 'supra', 'st', 'the', 'patient', 'must', 'also', 'be', 'analyzed', 'to', 'obtain', 'myocardial', 'necrosis', 'markers', 'the', 'troponins', 'revascularization', 'should', 'be', 'performed', 'as', 'soon', 'as', 'possible', 'at', 'the', 'patient', 'risk', 'as', 'therapeutic', 'anti', 'ischemic', 'and', 'anti', 'thrombotic'], ['acute', 'myocardial', 'infarction', 'can', 'be', 'characterized', 'as', 'having', 'supra', 'st', 'or', 'not', 'having', 'supra', 'st', 'as', 'for', 'the', 'mas', 'with', 'supra', 'st', 'it', 'is', 'complete', 'occlusion', 'of', 'the', 'artery', 'and', 'given', 'the', 'presence', 'of', 'supra', 'st', 'on', 'the', 'ecg', 'we', 'immediately', 'proceeded', 'to', 'catheterization', 'when', 'to', 'eam', 'without', 'supra', 'st', 'it', 'is', 'subocclusion', 'of', 'the', 'artery', 'and', 'whether', 'there', 'is', 'infra', 'st', 'or', 'no', 'changes', 'in', 'the', 'ecg', 'we', 'ask', 'for', 'the', 'cardiac', 'markers', 'to', 'confirm', 'the', 'dx', 'and', 'guide', 'the', 'tx'], ['acute', 'myocardial', 'infarction', 'is', 'medical', 'emergency', 'so', 'we', 'must', 'be', 'aware', 'of', 'symptoms', 'that', 'might', 'make', 'you', 'suspect', 'it', 'tight', 'chest', 'pain', 'radiating', 'between', 'the', 'mandible', 'and', 'the', 'umbilicus', 'lasting', 'longer', 'than', 'minutes', 'is', 'strong', 'indicator', 'of', 'ade', 'the', 'priority', 'complementary', 'exam', 'in', 'case', 'of', 'suspected', 'eam', 'is', 'the', 'ecg', 'and', 'must', 'be', 'performed', 'within', 'the', 'first', 'minutes', 'after', 'the', 'patient', 'enters', 'the', 'er', 'maes', 'can', 'be', 'divided', 'into', 'supra', 'st', 'and', 'without', 'supra', 'and', 'when', 'an', 'infarct', 'with', 'supra', 'st', 'is', 'detected', 'the', 'border', 'must', 'be', 'done', 'quickly', 'when', 'we', 'are', 'in', 'the', 'presence', 'of', 'an', 'eam', 'with', 'supramaintenance', 'the', 'patient', 'must', 'be', 'evaluated', 'for', 'reperfusion', 'and', 'do', 'it', 'within', 'maximum', 'of', 'minutes', 'since', 'entering', 'the', 'er', 'the', 'treatment', 'of', 'ami', 'with', 'supra', 'and', 'without', 'supra', 'is', 'identical', 'and', 'consists', 'of', 'the', 'administration', 'of', 'aspirin', 'ticagrelor', 'prasugrel', 'clopidogrel', 'bb'], ['it', 'is', 'an', 'acute', 'event', 'of', 'myocardial', 'injury', 'with', 'elevation', 'of', 'troponins', 'and', 'the', 'presence', 'of', 'symptoms', 'of', 'myocardial', 'necrosis', 'such', 'as', 'chest', 'pain', 'retrosternal', 'it', 'can', 'be', 'accompanied', 'by', 'ecg', 'changes', 'the', 'most', 'common', 'being', 'elevation', 'in', 'contiguous', 'st', 'segment', 'leads', 'it', 'is', 'also', 'characterized', 'by', 'fluctuation', 'in', 'myocardial', 'necrosis', 'markers', 'with', 'troponin', 'being', 'the', 'most', 'commonly', 'used', 'with', 'reduction', 'within', 'few', 'hours', 'of', 'the', 'event', 'unlike', 'other', 'chronic', 'situations', 'of', 'cardiac', 'damage'], ['eam', 'is', 'pathology', 'that', 'courses', 'with', 'the', 'total', 'occlusion', 'of', 'coronary', 'artery', 'in', 'this', 'case', 'type', 'and', 'in', 'which', 'it', 'may', 'or', 'may', 'not', 'present', 'an', 'st', 'elevation', 'on', 'the', 'ecg', 'and', 'in', 'analytical', 'terms', 'it', 'courses', 'with', 'an', 'increase', 'in', 'myocardial', 'necrosis', 'markers', 'myoglobin', 'troponins', 'and', 'ck', 'mb', 'the', 'symptoms', 'include', 'pain', 'in', 'retrosternal', 'tightening', 'radiating', 'to', 'limbs', 'neck', 'or', 'epigastrium', 'which', 'does', 'not', 'alleviate', 'with', 'rest', 'and', 'is', 'of', 'viable', 'intensity', 'however', 'presentations', 'vary', 'with', 'the', 'patient', 'biotype'], ['ami', 'results', 'from', 'an', 'occlusion', 'of', 'coronary', 'artery', 'or', 'decreased', 'blood', 'flow', 'retrosternal', 'abdominal', 'or', 'radiating', 'chest', 'pain', 'to', 'the', 'jaw', 'arm', 'or', 'back', 'urgency', 'performance', 'of', 'ecg', 'and', 'troponins', 'eam', 'with', 'or', 'without', 'above'], ['acute', 'myocardial', 'infarction', 'occurs', 'when', 'there', 'is', 'complete', 'obstruction', 'of', 'coronary', 'artery', 'leading', 'to', 'necrosis', 'of', 'the', 'myocardial', 'wall', 'that', 'this', 'artery', 'supplies', 'the', 'patient', 'has', 'very', 'severe', 'pain', 'with', 'minutes', 'of', 'wrapping', 'and', 'sweating', 'st', 'elevation', 'ecg', 'and', 'increased', 'myocardial', 'necrosis', 'markers', 'the', 'tx', 'is', 'with', 'anticoagulants', 'antiplatelet', 'ace', 'inhibitors', 'morphine', 'cathetarism', 'beta', 'block'], ['arterial', 'occlusion', 'of', 'the', 'coronary', 'circulation', 'with', 'myocardial', 'necrosis', 'and', 'consequent', 'elevation', 'of', 'markers', 'it', 'can', 'be', 'total', 'transmural', 'where', 'it', 'manifests', 'with', 'suprast', 'on', 'the', 'ecg', 'or', 'partial', 'occlusion', 'additionally', 'it', 'is', 'accompanied', 'by', 'acute', 'symptoms', 'chest', 'pain', 'syncope', 'nausea'], ['acute', 'myocardial', 'infarction', 'is', 'pathology', 'of', 'the', 'cardiovascular', 'system', 'it', 'is', 'usually', 'associated', 'with', 'ischemia', 'of', 'the', 'cardiac', 'muscle', 'either', 'due', 'to', 'thromboembolism', 'or', 'dysregulation', 'of', 'the', 'o2', 'supply', 'to', 'the', 'muscle', 'in', 'the', 'presence', 'of', 'increased', 'necrosis', 'markers', 'we', 'can', 'make', 'diagnosis', 'of', 'infarction', 'the', 'infarction', 'may', 'or', 'may', 'not', 'be', 'associated', 'with', 'an', 'ecg', 'elevation', 'of', 'the', 'st', 'segment', 'in', 'the', 'treatment', 'it', 'is', 'important', 'to', 'treat', 'the', 'pain', 'but', 'also', 'to', 'perform', 'double', 'anticoagulation'], ['acute', 'myocardial', 'infarction', 'occurs', 'when', 'there', 'is', 'decrease', 'in', 'oxygen', 'supply', 'to', 'cardiac', 'muscle', 'cells', 'that', 'is', 'less', 'than', 'their', 'needs', 'which', 'causes', 'ischemia', 'or', 'even', 'necrosis', 'this', 'phenomenon', 'is', 'clinically', 'manifested', 'as', 'an', 'acute', 'pain', 'in', 'the', 'chest', 'that', 'can', 'radiate', 'to', 'other', 'areas', 'of', 'the', 'body', 'such', 'as', 'the', 'upper', 'limbs', 'or', 'the', 'jaw', 'being', 'continuous', 'pain', 'that', 'does', 'not', 'alleviate', 'at', 'rest', 'in', 'terms', 'of', 'biochemistry', 'there', 'is', 'an', 'increase', 'in', 'troponins', 'and', 'myoglobin', 'and', 'on', 'the', 'electrocardiogram', 'changes', 'can', 'also', 'be', 'seen', 'such', 'as', 'st', 'segment', 'elevation', 'in', 'the', 'case', 'of', 'an', 'eam', 'with', 'st', 'segment', 'elevation'], ['acute', 'myocardial', 'infarction', 'corresponds', 'to', 'necrosis', 'of', 'the', 'cardiac', 'tissue', 'due', 'to', 'alterations', 'in', 'the', 'o2', 'supply', 'it', 'can', 'be', 'classified', 'into', 'classes', 'and', 'the', 'most', 'common', 'etiology', 'is', 'atherosclerotic', 'disease', 'in', 'the', 'coronary', 'arteries', 'its', 'common', 'clinical', 'presentation', 'is', 'oppressive', 'reroexternal', 'pain', 'that', 'can', 'radiate', 'to', 'the', 'mandible', 'ipsilateral', 'shoulder', 'and', 'arms', 'we', 'have', 'more', 'manifestations', 'the', 'pain', 'usually', 'lasts', 'more', 'than', 'min', 'the', 'ecg', 'may', 'show', 'alterations', 'in', 'the', 'st', 'segment', 'namely', 'supra', 'st', 'although', 'there', 'is', 'eam', 'without', 'st', 'supra', 'and', 'there', 'is', 'an', 'increase', 'in', 'myocardial', 'necrosis', 'biomarkers'], ['ami', 'corresponds', 'to', 'myocardial', 'ischemia', 'resulting', 'from', 'total', 'occlusion', 'of', 'coronary', 'artery', 'typically', 'it', 'presents', 'with', 'pain', 'lasting', 'about', 'min', 'retrosternal', 'tightening', 'of', 'high', 'intensity', 'which', 'worsens', 'with', 'exertion', 'typically', 'accompanied', 'by', 'hypersweating', 'and', 'nausea', 'it', 'often', 'occurs', 'in', 'the', 'early', 'morning', 'hours', 'it', 'is', 'an', 'emergency', 'life', 'threatening', 'and', 'therefore', 'it', 'is', 'necessary', 'to', 'perform', 'an', 'ecg', 'within', 'minutes', 'to', 'rule', 'out', 'or', 'confirm', 'this', 'diagnosis', 'one', 'should', 'not', 'wait', 'for', 'mnms', 'to', 'refer', 'the', 'patient', 'for', 'urgent', 'cardiac', 'catheterization', 'if', 'diagnosed', 'with', 'mas', 'with', 'suprast'], ['acute', 'myocardial', 'infarction', 'can', 'be', 'classified', 'into', 'several', 'types', 'from', 'type', 'to', 'type', 'this', 'can', 'also', 'be', 'classified', 'according', 'to', 'the', 'electrocardiographic', 'changes', 'in', 'ami', 'with', 'supra', 'st', 'or', 'without', 'supra', 'st', 'which', 'must', 'be', 'associated', 'with', 'the', 'elevation', 'of', 'cardiac', 'markers', 'treatment', 'varies', 'depending', 'on', 'whether', 'it', 'is', 'with', 'or', 'without', 'supra', 'and', 'associated', 'with', 'hemodynamic', 'status'], ['the', 'eam', 'is', 'characterized', 'by', 'any', 'condition', 'that', 'causes', 'the', 'occlusion', 'of', 'the', 'coronary', 'artery', 'type', 'reduces', 'myocardium', 'oxygen', 'supply', 'type', 'most', 'common', 'additionally', 'as', 'clinical', 'presentation', 'there', 'is', 'the', 'oppressive', 'pain', 'that', 'can', 'radiate', 'to', 'the', 'left', 'upper', 'limb', 'mandible', 'and', 'even', 'to', 'the', 'epigastrium', 'in', 'addition', 'sweating', 'nausea', 'and', 'vomiting', 'dyspnea', 'tachycardia', 'are', 'common', 'normally', 'relieves', 'with', 'nitrates', 'and', 'rest'], ['acute', 'myocardial', 'infarction', 'is', 'differentiated', 'from', 'stable', 'and', 'unstable', 'anginas', 'stable', 'angina', 'has', 'no', 'increase', 'in', 'cardiac', 'markers', 'or', 'ecg', 'changes', 'unstable', 'angina', 'has', 'changes', 'in', 'the', 'markers', 'but', 'no', 'ecg', 'eam', 'has', 'marker', 'and', 'ecg', 'changes', 'these', 'ecg', 'changes', 'can', 'be', 'supra', 'or', 'infra', 'st', 'when', 'we', 'identify', 'st', 'segment', 'alterations', 'we', 'must', 'refer', 'the', 'patient', 'as', 'soon', 'as', 'possible', 'for', 'reperfusion', 'angiography', 'if', 'we', 'do', 'not', 'have', 'access', 'to', 'hemodynamics', 'laboratory', 'then', 'we', 'have', 'to', 'start', 'pharmacological', 'thrombectomy', 'it', 'is', 'important', 'oxygen', 'therapy', 'morphine'], ['eam', 'is', 'cardiac', 'lesion', 'with', 'signs', 'and', 'symptoms', 'of', 'ischemia', 'pathophysiologically', 'it', 'is', 'characterized', 'by', 'stenosis', 'of', 'one', 'or', 'more', 'arteries', 'that', 'make', 'up', 'the', 'coronary', 'skeleton', 'by', 'different', 'mechanisms', 'with', 'atherosclerosis', 'being', 'the', 'main', 'one', 'there', 'are', 'several', 'subtypes', 'associated', 'with', 'ischemia', 'ii', 'iii', 'iv', 'clinically', 'they', 'may', 'present', 'as', 'intense', 'pain', 'lasting', 'more', 'than', 'minutes', 'which', 'is', 'not', 'relieved', 'with', 'rest', 'or', 'with', 'the', 'administration', 'of', 'nitrates', 'accompanied', 'by', 'other', 'systemic', 'symptoms', 'objectively', 'it', 'can', 'present', 'on', 'the', 'ecg', 'with', 'elevation', 'of', 'the', 'st', 'segment', 'and', 'point', 'in', 'more', 'than', 'contiguous', 'leads', 'in', 'situation', 'of', 'total', 'occlusion', 'of', 'the', 'artery', 'therefore', 'trasmural', 'ischemia', 'or', 'with', 'repolarization', 'changes', 'on', 'opposite', 'walls', 'or', 'with', 'st', 'infras', 'when', 'there', 'is', 'occlusion', 'there', 'is', 'also', 'an', 'elevation', 'of', 'biomarkers', 'namely', 'tpartial', 'and', 'hence', 'subendocardial', 'ischemia'], ['acute', 'myocardial', 'infarction', 'is', 'an', 'acute', 'cardiac', 'event', 'that', 'can', 'happen', 'due', 'to', 'several', 'mechanisms', 'the', 'most', 'common', 'is', 'myocardial', 'ischemia', 'due', 'to', 'occlusion', 'by', 'an', 'atherosclerotic', 'plaque', 'however', 'it', 'can', 'be', 'caused', 'by', 'disturbances', 'between', 'the', 'supplied', 'oxygen', 'and', 'the', 'needs', 'vasospasm', 'or', 'iatrogenic', 'mechanisms', 'as', 'complications', 'of', 'invasive', 'procedures', 'namely', 'catheterization', 'if', 'in', 'people', 'with', 'history', 'of', 'cardiovascular', 'risk', 'factors', 'arterial', 'hypertension', 'diabetes', 'mellitus', 'hyperuricemia', 'dyslipidemia', 'smoking', 'clinically', 'depending', 'on', 'the', 'affected', 'wall', 'it', 'can', 'have', 'different', 'clinical', 'presentation', 'emphasize', 'the', 'retrosternal', 'chest', 'pain', 'in', 'high', 'intensity', 'tightening', 'which', 'appears', 'in', 'the', 'morning', 'however', 'it', 'can', 'be', 'an', 'epigastric', 'pain', 'or', 'no', 'pain', 'here', 'refer', 'to', 'the', 'elderly', 'women', 'and', 'patients', 'with', 'diabetes'], ['it', 'is', 'caused', 'by', 'an', 'occlusion', 'of', 'coronary', 'artery', 'this', 'occlusion', 'can', 'occur', 'by', 'thrombus', 'embolus', 'or', 'by', 'microvascular', 'or', 'vasospatic', 'alterations', 'there', 'are', 'types', 'of', 'mi', 'type', 'being', 'the', 'most', 'frequent', 'typically', 'caused', 'by', 'rupture', 'of', 'atherosclerotic', 'plaques', 'type', 'refers', 'to', 'vasospastic', 'or', 'microvascular', 'alterations', 'type', 'and', 'type', 'are', 'associated', 'with', 'surgical', 'procedures', 'for', 'coronary', 'revascularization', 'and', 'type', 'is', 'the', 'one', 'whose', 'diagnosis', 'is', 'only', 'made', 'in', 'the', 'post', 'mortem', 'the', 'symptomatology', 'is', 'typically', 'retrosternal', 'squeezing', 'pain', 'which', 'can', 'radiate', 'to', 'any', 'location', 'between', 'the', 'navel', 'and', 'the', 'mandible', 'with', 'sudden', 'onset', 'the', 'diagnosis', 'is', 'made', 'through', 'the', 'ecg', 'which', 'allows', 'us', 'to', 'distinguish', 'between', 'eam', 'with', 'and', 'without', 'supra', 'in', 'the', 'face', 'of', 'an', 'ema', 'without', 'supra', 'it', 'is', 'necessary', 'to', 'measure', 'troponin', 'to', 'distinguish', 'between', 'unstable', 'angina', 'and', 'an', 'ema', 'without', 'supra', 'revascularization', 'treatment', 'is', 'preferred', 'being', 'carried', 'out', 'until', 'hours', 'after', 'the', 'onset', 'of', 'symptoms', 'the', 'use', 'of', 'fibrinolytics', 'is', 'reduced', 'to', 'hours', 'after', 'the', 'onset', 'of', 'symptoms', 'tx', 'of', 'pain', 'and', 'oxygen', 'therapy', 'if', 'saturations', 'below'], ['acute', 'myocardial', 'infarction', 'can', 'be', 'with', 'st', 'supra', 'or', 'without', 'st', 'supra', 'which', 'corresponds', 'to', 'an', 'occlusion', 'of', 'coronary', 'artery', 'more', 'than', 'in', 'the', 'case', 'of', 'st', 'supra', 'or', 'less', 'than', 'without', 'st', 'supra', 'or', 'infra', 'st', 'in', 'the', 'ecg', 'it', 'corresponds', 'to', 'an', 'elevation', 'of', 'the', 'st', 'segment', 'in', 'the', 'leads', 'corresponding', 'to', 'the', 'affected', 'wall', 'it', 'may', 'give', 'symptoms', 'such', 'as', 'chest', 'pain', 'radiating', 'to', 'the', 'arms', 'jaw', 'or', 'dorsal', 'region', 'it', 'may', 'give', 'symptoms', 'such', 'as', 'nausea', 'vomiting', 'sweating', 'syncope', 'and', 'these', 'representations', 'are', 'more', 'atypical', 'in', 'older', 'patients', 'or', 'women', 'in', 'the', 'analyzes', 'we', 'have', 'an', 'increase', 'in', 'myocardial', 'necrosis', 'markers', 'such', 'as', 'troponins', 'in', 'an', 'eam', 'with', 'supra', 'st', 'we', 'must', 'perform', 'primary', 'percutaneous', 'intervention', 'as', 'soon', 'as', 'possible', 'life', 'long', 'medication', 'with', 'aspirin', 'control', 'cardiovascular', 'risk', 'factors'], ['eam', 'sudden', 'retrosternal', 'pain', 'that', 'can', 'radiate', 'to', 'the', 'jaw', 'or', 'left', 'arm', 'or', 'epigastrium', 'in', 'tightness', 'which', 'does', 'not', 'relieve', 'with', 'anything', 'it', 'may', 'have', 'associated', 'dyspnea', 'it', 'is', 'important', 'to', 'understand', 'the', 'cvrf', 'age', 'gender', 'tobacco', 'cholesterol', 'etc', 'ecg', 'changes', 'with', 'supra', 'transmural', 'infarction', 'or', 'without', 'st', 'subendocardial', 'infarction', 'echocardiogram', 'can', 'verify', 'changes', 'in', 'the', 'segmental', 'kinetics', 'of', 'the', 'heart', 'tx', 'undergoes', 'revascularization', 'ideally', 'from', 'the', 'time', 'of', 'admission', 'min', 'maximum', 'until', 'the', 'ecg', 'infarction', 'confirmation', 'then', 'if', 'icp', 'is', 'not', 'available', 'in', 'the', 'next', 'two', 'hours', 'must', 'perform', 'fibrinolysis', 'tx', 'passes', 'by', 'aspirin', 'ticagrelol', 'and', 'enoxaparin', 'if', 'necessary', 'o2', 'if', 'saturation', 'is', 'less', 'than', 'morphine', 'for', 'pain', 'if', 'needed', 'long', 'term', 'must', 'take', 'aspirin', 'for', 'life', 'and', 'ticagrelol', 'for', 'at', 'least', 'months', 'smoking', 'and', 'alcohol', 'cessation', 'and', 'lifestyle', 'modification', 'are', 'also', 'required'], ['typical', 'symptomatology', 'retrosternal', 'chest', 'pain', 'of', 'tightening', 'character', 'which', 'may', 'radiate', 'to', 'the', 'jaw', 'shoulders', 'back', 'navel', 'or', 'others', 'nausea', 'vomiting', 'malaise', 'fever', 'and', 'sweating', 'may', 'be', 'present', 'signs', 'tachycardia', 'may', 'be', 'present', 'as', 'well', 'as', 'absence', 'of', 'palpable', 'pulses', 'hypotension', 'pathophysiology', 'results', 'from', 'complete', 'occlusion', 'of', 'coronary', 'artery', 'possible', 'risk', 'factors', 'are', 'dyslipidemia', 'smoking', 'sedentary', 'lifestyle', 'diabetes', 'mellitus', 'high', 'blood', 'pressure', 'treatment', 'aspirin', 'unfractionated', 'ticagrelorheparin', 'long', 'term', 'low', 'molecular', 'weight', 'heparin', 'aspirin', 'ticagrelor', 'at', 'least', 'one', 'year', 'beta', 'blockersstatinspironolactoneieca'], ['acute', 'event', 'retrosternal', 'pain', 'tightening', 'aggravated', 'by', 'efforts', 'that', 'relieve', 'with', 'rest', 'and', 'nitrates', 'it', 'can', 'range', 'from', 'the', 'navel', 'to', 'the', 'shoulder', 'and', 'jaw', 'ecg', 'changes', 'with', 'or', 'without', 'st', 'elevation', 'and', 'signs', 'of', 'myocardial', 'ischemia', 'with', 'elevated', 'cardiac', 'enzymes'], ['typical', 'presentation', 'of', 'chest', 'pain', 'at', 'rest', 'for', 'more', 'than', 'minutes', 'associated', 'with', 'sweating', 'and', 'nausea', 'however', 'the', 'pain', 'can', 'be', 'located', 'from', 'the', 'mandibular', 'region', 'to', 'the', 'navel', 'or', 'it', 'can', 'occur', 'without', 'any', 'type', 'of', 'pain', 'dm', 'women', 'elderly', 'physical', 'examination', 'may', 'be', 'normal', 'we', 'have', 'minutes', 'to', 'perform', 'the', 'ecg', 'we', 'should', 'start', 'aspirin', 'and', 'order', 'cardiac', 'necrosis', 'markers', 'after', 'confirming', 'the', 'ade', 'start', 'an', 'anticoagulant', 'and', 'add', 'ticogrelol', 'perform', 'catheterization', 'if', 'eam', 'with', 'supra', 'complete', 'artery', 'occlusion', 'if', 'eam', 'without', 'elevation', 'there', 'are', 'criteria', 'to', 'decide', 'whether', 'to', 'perform', 'catheterization', 'or', 'not', 'there', 'are', 'several', 'types', 'of', 'eam', 'type', 'to'], ['the', 'ami', 'can', 'be', 'without', 'st', 'or', 'with', 'st', 'the', 'infarct', 'without', 'supra', 'has', 'normal', 'ecg', 'or', 'with', 'infra', 'st', 'and', 'mnm', 'troponins', 'increased', 'in', 'an', 'infarction', 'with', 'st', 'elevation', 'ecg', 'has', 'an', 'elevation', 'of', 'st', 'although', 'there', 'is', 'an', 'elevation', 'of', 'troponins', 'to', 'start', 'therapy', 'there', 'is', 'no', 'need', 'to', 'wait', 'for', 'the', 'result', 'immediately', 'indicating', 'an', 'indication', 'for', 'cataterism', 'both', 'are', 'treated', 'with', 'dual', 'antiaggregation', 'maintained', 'for', 'one', 'year', 'and', 'with', 'hbm', 'maintained', 'in', 'the', 'acute', 'phase', 'of', 'the', 'infarction'], ['ami', 'is', 'myocardial', 'necrosis', 'that', 'occurs', 'due', 'to', 'lack', 'of', 'oxygen', 'supply', 'due', 'to', 'occlusion', 'of', 'one', 'or', 'more', 'coronary', 'arteries', 'there', 'are', 'types', 'of', '48ami', 'type', 'coronary', 'artery', 'occlusion', 'due', 'to', 'ruptured', 'atherosclerotic', 'plaque', 'for', 'example', 'type', 'imbalance', 'in', 'the', 'supply', 'need', 'of', 'o2', 'type', 'death', 'due', 'to', 'mi', 'in', 'the', 'absence', 'of', 'mnm', 'type', 'eam', 'that', 'occurred', 'due', 'to', 'pci', 'type', 'ami', 'that', 'occurred', 'due', 'to', 'coronary', 'bypass', 'surgery', 'acute', 'coronary', 'syndrome', 'can', 'be', 'subdivided', 'into', 'ami', 'with', 'st', 'elevation', 'or', 'ami', 'without', 'st', 'elevation', 'elevation', 'of', 'myocardial', 'necrosis', 'markers', 'and', 'unstable', 'angina', 'less', 'than', 'min', 'pain', 'no', 'mnm', 'elevation', 'and', 'no', 'st', 'elevation', 'mas', 'presents', 'with', 'retrosternal', 'tightening', 'pain', 'that', 'may', 'radiate', 'to', 'the', 'jaw', 'left', 'arm', 'and', 'abdomen', 'pain', 'that', 'occurs', 'after', 'exertion', 'or', 'stress', 'it', 'can', 'be', 'associated', 'with', 'sweating', 'dyspnea', 'in', 'women', 'and', 'the', 'elderly', 'they', 'may', 'not', 'and'], ['acute', 'myocardial', 'infarction', 'occurs', 'when', 'coronary', 'artery', 'is', 'completely', 'occluded', 'for', 'various', 'reasons', 'it', 'can', 'be', 'caused', 'by', 'thrombus', 'created', 'in', 'rupture', 'of', 'an', 'atherosclerotic', 'plaque', 'in', 'coronary', 'artery', 'or', 'by', 'vasospasm', 'or', 'stenosis', 'of', 'sufficient', 'degree', 'not', 'to', 'supply', 'the', 'heart', 'with', 'its', 'necessary', 'oxygen', 'demands', 'it', 'usually', 'appears', 'with', 'tightening', 'retrosternal', 'chest', 'pain', 'radiating', 'between', 'the', 'umbilicus', 'and', 'the', 'angle', 'of', 'the', 'mandible', 'it', 'usually', 'appears', 'in', 'patients', 'with', 'cardiovascular', 'risk', 'factors', 'such', 'as', 'smoking', 'history', 'diabetes', 'hypercholesterolinemia', 'in', 'the', 'hospital', 'context', 'it', 'is', 'sought', 'after', 'performing', 'an', 'ecg', 'that', 'may', 'appear', 'with', 'supra', 'st', 'in', 'or', 'more', 'contiguous', 'leads', 'and', 'with', 'elevation', 'of', 'myocardial', 'necrosis', 'factors', 'urgent', 'catheterization', 'and', 'triple', 'antiaggregation', 'and', 'anticoagulant', 'therapy', 'logo'], ['it', 'is', 'an', 'acute', 'event', 'usually', 'associated', 'with', 'chest', 'pain', 'which', 'may', 'or', 'may', 'not', 'radiate', 'to', 'the', 'arms', 'especially', 'the', 'left', 'to', 'the', 'neck', 'and', 'jaw', 'to', 'the', 'back', 'or', 'to', 'the', 'epigastrium', 'pain', 'may', 'appear', 'associated', 'with', 'dizziness', 'syncope', 'diaphoresis', 'malaise', 'physiopathologically', 'it', 'corresponds', 'to', 'the', 'occlusion', 'of', 'coronary', 'artery', 'due', 'to', 'atherosclerosis', 'or', 'embolism', 'of', 'the', 'st', 'segment', 'additionally', 'the', 'value', 'of', 'myocardial', 'necrosis', 'markers', 'such', 'as', 'troponin', 'myoglobin', 'and', 'ck', 'mb', 'should', 'be', 'evaluated'], ['myocardial', 'ischemia', 'to', 'which', 'cv', 'risk', 'factors', 'contribute', 'ami', 'typically', 'appears', 'as', 'acute', 'retrosternal', 'pain', 'radiating', 'to', 'the', 'neck', 'jaw', 'and', 'limbs', 'it', 'can', 'appear', 'with', 'dyspnea', 'orthopnea', 'and', 'paroxysmal', 'nocturnal', 'dyspnea', 'nausea', 'vomiting', 'and', 'diaphores', 'are', 'other', 'symptoms', 'acute', 'retrosternal', 'pain', 'must', 'be', 'urgently', 'addressed', 'by', 'performing', 'an', 'ecg', 'in', 'less', 'than', 'min', 'which', 'will', 'reveal', 'ischemic', 'changes', 'thus', 'we', 'can', 'differ', 'in', 'acs', 'with', 'st', 'elevation', 'or', 'without', 'st', 'elevation', 'acs', 'with', 'st', 'segment', 'elevation', 'requires', 'emergent', 'catheterization', 'in', 'less', 'than', 'hours', 'acs', 'without', 'st', 'uplift', 'can', 'be', 'delayed', 'or', 'catheterized', 'for', 'less', 'than', 'hours', 'acute', 'tx', 'includes', 'aspirin', 'and', 'clopidogrel', 'lmwh', 'oxygen', 'if', 'saturation', 'is', 'less', 'than', 'nitrates', 'or', 'morphine', 'for', 'pain', 'relief', 'statin', 'started', 'as', 'soon', 'as', 'possible', 'beta', 'blocker', 'is', 'prognosis', 'modifier', 'and', 'must', 'be', 'performed', 'in', 'patients', 'with', 'lvef', 'ace', 'inhibitors', 'and'], ['in', 'the', 'diagnostic', 'approach', 'of', 'an', 'ami', 'it', 'is', 'important', 'to', 'initially', 'classify', 'it', 'as', 'an', 'ema', 'with', 'st', 'segment', 'elevation', 'or', 'without', 'st', 'segment', 'elevation', 'as', 'such', 'in', 'patient', 'with', 'sudden', 'onset', 'chest', 'pain', 'stabbing', 'pressure', 'which', 'does', 'not', 'subside', 'with', 'rest', 'and', 'lasts', 'minutes', 'it', 'is', 'mandatory', 'to', 'perform', 'an', 'ecg', 'that', 'immediately', 'indicates', 'whether', 'it', 'is', 'an', 'st', 'elevation', 'it', 'is', 'not', 'above', 'to', 'ask', 'for', 'myocardial', 'necrosis', 'markers', 'highly', 'sensitive', 'troponin', 'at', 'admission', 'and', 'hour', 'later', 'in', 'the', 'presence', 'of', 'an', 'increase', 'in', 'troponin', 'with', 'no', 'ecg', 'changes', 'we', 'are', 'faced', 'with', 'an', 'ami', 'without', 'supra', 'in', 'any', 'of', 'the', 'types', 'immediately', 'aspirin', 'and', 'hypocoagualar', 'with', 'enoxaparin', 'and', 'then', 'proceed', 'to', 'pci', 'in', 'the', 'case', 'of', 'supra', 'or', 'in', 'the', 'case', 'of', 'without', 'supra', 'as', 'per', 'the', 'criterion'], ['in', 'the', 'diagnostic', 'approach', 'of', 'an', 'ami', 'it', 'is', 'important', 'to', 'initially', 'classify', 'it', 'as', 'an', 'ema', 'with', 'st', 'segment', 'elevation', 'or', 'without', 'st', 'segment', 'elevation', 'as', 'such', 'in', 'patient', 'with', 'sudden', 'onset', 'chest', 'pain', 'stabbing', 'pressure', 'which', 'does', 'not', 'subside', 'with', 'rest', 'and', 'lasts', 'minutes', 'it', 'is', 'mandatory', 'to', 'perform', 'an', 'ecg', 'that', 'immediately', 'indicates', 'whether', 'it', 'is', 'an', 'st', 'elevation', 'it', 'is', 'not', 'above', 'to', 'ask', 'for', 'myocardial', 'necrosis', 'markers', 'highly', 'sensitive', 'troponin', 'at', 'admission', 'and', 'hour', 'later', 'in', 'the', 'presence', 'of', 'an', 'increase', 'in', 'troponin', 'with', 'no', 'ecg', 'changes', 'we', 'are', 'faced', 'with', 'an', 'ami', 'without', 'supra', 'in', 'any', 'of', 'the', 'types', 'immediately', 'aspirin', 'and', 'hypocoagualar', 'with', 'enoxaparin', 'and', 'then', 'proceed', 'to', 'pci', 'in', 'the', 'case', 'of', 'supra', 'or', 'in', 'the', 'case', 'of', 'without', 'supra', 'as', 'per', 'the', 'criterion'], ['ami', 'can', 'be', 'with', 'or', 'without', 'st', 'elevation', 'on', 'the', 'ecg', 'which', 'is', 'the', 'first', 'exam', 'to', 'be', 'performed', 'next', 'it', 'is', 'important', 'to', 'know', 'the', 'result', 'of', 'the', 'myocardial', 'necrosis', 'markers', 'that', 'should', 'be', 'elevated', 'it', 'is', 'characterized', 'by', 'retrosternal', 'tightness', 'pain', 'with', 'or', 'without', 'irradiation', 'without', 'relief', 'factors', 'it', 'resolves', 'with', 'fibrinolysis', 'or', 'revascularization'], ['it', 'an', 'acute', 'coronary', 'syndrome', 'it', 'is', 'often', 'characterized', 'by', 'retrosternal', 'pain', 'radiating', 'from', 'the', 'arm', 'to', 'the', 'jaw', 'root', 'when', 'the', 'patient', 'suffers', 'from', 'chest', 'pain', 'an', 'ecg', 'should', 'be', 'performed', 'in', 'less', 'than', 'minutes', 'and', 'it', 'should', 'be', 'noted', 'whether', 'he', 'has', 'st', 'elevation', 'or', 'not', 'if', 'so', 'refer', 'for', 'urgent', 'catheterization', 'if', 'not', 'ask', 'for', 'cardiac', 'markers', 'like', 'troponins', 'we', 'must', 'medicate', 'the', 'patient', 'with', 'dual', 'antiaggregation', 'aspirin', 'and', 'ticagrelor', 'and', 'with', 'an', 'anticoagulant', 'it', 'could', 'be', 'heparin', 'we', 'must', 'also', 'provide', 'nitrate', 'for', 'pain', 'relief'], ['it', 'an', 'acute', 'coronary', 'syndrome', 'it', 'is', 'often', 'characterized', 'by', 'retrosternal', 'pain', 'radiating', 'from', 'the', 'arm', 'to', 'the', 'jaw', 'root', 'when', 'the', 'patient', 'suffers', 'from', 'chest', 'pain', 'an', 'ecg', 'should', 'be', 'performed', 'in', 'less', 'than', 'minutes', 'and', 'it', 'should', 'be', 'noted', 'whether', 'he', 'has', 'st', 'elevation', 'or', 'not', 'if', 'so', 'refer', 'for', 'urgent', 'catheterization', 'if', 'not', 'ask', 'for', 'cardiac', 'markers', 'like', 'troponins', 'we', 'must', 'medicate', 'the', 'patient', 'with', 'dual', 'antiaggregation', 'aspirin', 'and', 'ticagrelor', 'and', 'with', 'an', 'anticoagulant', 'it', 'could', 'be', 'heparin', 'we', 'must', 'also', 'provide', 'nitrate', 'for', 'pain', 'relief'], ['it', 'results', 'from', 'total', 'or', 'partial', 'occlusion', 'of', 'coronary', 'artery', 'there', 'are', 'types', 'of', 'infarction', 'due', 'to', 'rupture', 'of', 'an', 'atherosclerotic', 'plaque', 'due', 'to', 'imbalance', 'between', 'oxygen', 'demand', 'requirement', 'death', 'secondary', 'to', 'percutaneous', 'revascularization', 'secondary', 'to', 'surgical', 'revascularization', 'by', 'bypass', 'serial', 'ecg', 'mandatory', 'there', 'may', 'be', 'st', 'elevation', 'that', 'means', 'total', 'occlusion', 'and', 'these', 'will', 'soon', 'go', 'to', 'chronic', 'revascularization', 'or', 'without', 'st', 'elevation', 'which', 'means', 'partial', 'occlusion', 'serial', 'myocardial', 'necrosis', 'markers', 'echocardiogram', 'after', 'heart', 'attack', 'it', 'is', 'necessary', 'to', 'perform', 'anti', 'aggregation', 'therapy', 'and', 'control', 'of', 'cardiovascular', 'risk', 'factors'], ['myocardial', 'necrosis', 'as', 'consequence', 'of', 'ischemia', 'for', 'more', 'than', 'min', 'resulting', 'in', 'sudden', 'stabbing', 'or', 'squeezing', 'chest', 'pain', 'usually', 'radiating', 'to', 'the', 'left', 'arm', 'or', 'mandible', 'it', 'may', 'be', 'accompanied', 'by', 'sweating', 'malaise', 'and', 'vomiting', 'the', 'diagnosis', 'must', 'be', 'made', 'by', 'performing', 'an', 'ecg', 'and', 'measuring', 'the', 'lesion', 'markers', 'ck', 'troponin', 'and'], ['acute', 'myocardial', 'infarction', 'is', 'part', 'of', 'the', 'acute', 'coronary', 'syndromes', 'there', 'is', 'an', 'increase', 'in', 'myocardial', 'necrosis', 'markers', 'eg', 'troponins', 'and', 'there', 'may', 'or', 'may', 'not', 'be', 'ecg', 'changes', 'for', 'example', 'supra', 'st', 'treatment', 'can', 'be', 'with', 'morphine', 'for', 'pain', 'relief', 'oxygen', 'if', 'necessary', 'nitrates', 'and', 'dual', 'anti', 'aggregation', 'for', 'years'], ['tissue', 'ischemia', 'due', 'to', 'obst'], ['ami', 'falls', 'into', 'the', 'category', 'of', 'acute', 'coronary', 'syndromes', 'it', 'can', 'manifest', 'in', 'different', 'ways', 'such', 'as', 'chest', 'pain', 'palpitations', 'sweating', 'nausea', 'vomiting', 'and', 'the', 'most', 'common', 'presentation', 'is', 'tight', 'chest', 'pain', 'radiating', 'to', 'the', 'mandibular', 'or', 'arms', 'or', 'neck', 'it', 'is', 'important', 'in', 'suspected', 'ami', 'to', 'perform', 'an', 'ecg', 'in', 'less', 'than', 'minutes', 'upon', 'arrival', 'at', 'the', 'hospital', 'which', 'in', 'addition', 'to', 'confirming', 'the', 'dx', 'will', 'allow', 'us', 'to', 'differentiate', 'an', 'supra', 'st', 'from', 'an', 'ingfra', 'st', 'with', 'tx', 'implications', 'minutes', 'not', 'enough', 'for', 'everything', 'we', 'know', 'about', 'ami'], ['acute', 'myocardial', 'infarction', 'is', 'an', 'ischemic', 'pathology', 'of', 'the', 'cardiac', 'muscle', 'that', 'can', 'be', 'caused', 'by', 'ischemia', 'thrombus', 'or', 'obstruction', 'of', 'the', 'vessel', 'that', 'supplies', 'the', 'muscle', 'deficient', 'oxygenation', 'of', 'this', 'muscle', 'hypoxia', 'or', 'hyperkinetic', 'states', 'post', 'surgery', 'post', 'trauma', 'or', 'infectious', 'cause', 'this', 'is', 'total', 'obstruction', 'of', 'the', 'vessel', 'that', 'supplies', 'the', 'myocardium', 'for', 'more', 'than', 'minutes', 'and', 'can', 'lead', 'to', 'syncope', 'af', 'ventricular', 'tachycardias', 'and', 'may', 'result', 'in', 'hypokinesia', 'of', 'the', 'schemic', 'region', 'or', 'even', 'necrosis', 'of', 'these', 'cells', 'it', 'should', 'be', 'treated', 'with', 'morphine', 'oxygenation', 'nitrates', 'and', 'aspirin', 'double', 'hypoaggregation', 'aspirin', 'and', 'clopidogrel', 'hypocoagulation', 'enoxaparin'], ['ami', 'typically', 'presents', 'as', 'severe', 'chest', 'pain', 'that', 'may', 'radiate', 'to', 'the', 'upper', 'limbs', 'or', 'jaw', 'it', 'can', 'also', 'present', 'with', 'sweating', 'nausea', 'and', 'altered', 'state', 'of', 'consciousness', 'it', 'can', 'occur', 'in', 'the', 'morning', 'and', 'it', 'occurs', 'more', 'often', 'in', 'people', 'with', 'history', 'of', 'dyslipidemia', 'diabetes', 'high', 'blood', 'pressure', 'and', 'overweight', 'it', 'presents', 'on', 'admission', 'as', 'acute', 'coronary', 'syndrome', 'and', 'may', 'occur', 'with', 'elevation', 'of', 'ts', 'elevation', 'in', 'the', 'ecg', 'or', 'without', 'elevation', 'as', 'rule', 'there', 'is', 'an', 'increase', 'in', 'cardiac', 'injury', 'markers', 'depending', 'on', 'the', 'presentation', 'with', 'or', 'without', 'supra', 'the', 'treatment', 'will', 'differ', 'with', 'an', 'infarction', 'with', 'an', 'supra'], ['acute', 'myocardial', 'infarction', 'is', 'part', 'of', 'the', 'group', 'of', 'acute', 'coronary', 'syndromes', 'and', 'may', 'present', 'with', 'st', 'segment', 'elevation', 'or', 'st', 'segment', 'depression', 'it', 'usually', 'presents', 'with', 'high', 'intensity', 'tightening', 'chest', 'pain', 'that', 'may', 'start', 'with', 'exertion', 'or', 'at', 'rest', 'it', 'may', 'also', 'have', 'associated', 'manifestations', 'of', 'dyspnea', 'diaphoresis', 'among', 'others', 'it', 'usually', 'presents', 'with', 'an', 'increase', 'in', 'cardiac', 'markers', 'such', 'as', 'myoglobin', 'and', 'troponin', 'the', 'latter', 'being', 'the', 'most', 'specific', 'the', 'echocardiogram', 'may', 'present', 'with', 'akinesia', 'or', 'dyskinesia', 'of', 'the', 'cardiac', 'wall'], ['medical', 'emergency', 'very', 'important', 'to', 'perform', 'ecg', 'supra', 'st', 'makes', 'the', 'diagnosis', 'ask', 'for', 'cardiac', 'markers', 'but', 'do', 'not', 'rule', 'out', 'our', 'hypothesis', 'of', 'ami', 'if', 'they', 'are', 'negative', 'the', 'time', 'factor', 'is', 'very', 'important', 'the', 'more', 'time', 'that', 'passes', 'the', 'greater', 'the', 'necrosis', 'of', 'myocytes', 'importance', 'of', 'performing', 'cardiac', 'catheterization', 'as', 'soon', 'as', 'possible', 'if', 'our', 'hypothesis', 'is', 'confirmed', 'therapy', 'with', 'an', 'anti', 'aggregant', 'anticoagulant', 'blocker', 'mona', 'is', 'in', 'disuse', 'and', 'the', 'use', 'of', 'aspirin', 'for', 'the', 'prevention', 'of', 'future', 'events', 'is', 'just', 'universal', 'in', 'addition', 'to', 'revascularization', 'surgery', 'and', 'pharmacological', 'therapy', 'lifestyle', 'changes', 'are', 'important', 'balanced', 'diet', 'physical', 'practice', 'smoking', 'and', 'alcohol', 'cessation', 'the', 'control', 'of', 'underlying', 'pathologies', 'hta', 'dm', 'and', 'dyslipidemia'], ['risk', 'factors', 'male', 'gender', 'advanced', 'age', 'history', 'of', 'ami', 'family', 'history', 'smoking', 'hypertension', 'obesity', 'sedentary', 'lifestyle', 'dyslipidemia', 'etiology', 'there', 'are', 'types', 'of', 'ami', 'type', 'ami', 'results', 'from', 'the', 'rupture', 'of', 'an', 'atherosclerotic', 'plaque', 'with', 'consequent', 'formation', 'of', 'thrombus', 'type', 'ami', 'imbalance', 'between', 'the', 'supply', 'and', 'need', 'for', 'oxygen', 'by', 'the', 'cardiopulmonary', 'artery', 'type', 'ami', 'cardiac', 'death', 'before', 'dx', 'which', 'is', 'done', 'at', 'autopsy', 'ami', 'type', 'within', '48h', 'after', 'pci', 'type', 'cardiac', 'ischemia', 'that', 'occurs', 'up', 'to', 'after', 'bypass', 'dx', 'ecg', 'if', 'above', 'send', 'immediately', 'for', 'catheterization', 'without', 'above', 'doing', 'the', 'rest', 'high', 'sensitivity', 'troponin', 'and', 'echocardiogram', 'immediate', 'tx', 'enoxaparin'], ['ami', 'typically', 'presents', 'as', 'retrosternal', 'pain', 'which', 'may', 'radiate', 'from', 'the', 'umbilicus', 'to', 'the', 'mandible', 'as', 'well', 'as', 'to', 'the', 'upper', 'limbs', 'it', 'may', 'be', 'accompanied', 'by', 'symptoms', 'such', 'as', 'sweating', 'vomiting', 'dyspnoea', 'the', 'approach', 'of', 'these', 'patients', 'should', 'be', 'an', 'ecg', 'in', 'less', 'than', 'min', 'to', 'assess', 'changes', 'in', 'the', 'st', 'segment', 'if', 'there', 'is', 'st', 'elevation', 'they', 'should', 'be', 'referred', 'for', 'urgent', 'catheterization', 'otherwise', 'cardiac', 'markers', 'troponin', 'and', 'myoglobin', 'should', 'be', 'requested', 'if', 'there', 'is', 'an', 'increase', 'in', 'markers', 'we', 'consider', 'ami', 'without', 'st', 'elevation', 'if', 'the', 'pain', 'is', 'less', 'than', 'min', 'and', 'there', 'is', 'no', 'evidence', 'of', 'markers', 'we', 'consider', 'unstable', 'angina', 'all', 'this', 'is', 'always', 'dependent', 'on', 'the', 'ap'], ['it', 'presents', 'as', 'sudden', 'tightening', 'retrosternal', 'pain', 'with', 'an', 'intensity', 'usually', 'between', 'out', 'of', 'usually', 'with', 'few', 'hours', 'of', 'evolution', 'usually', 'without', 'relieving', 'or', 'worsening', 'factors', 'associated', 'with', 'sudden', 'dyspnea', 'sweating', 'and', 'anxiety', 'in', 'the', 'emergency', 'department', 'ecg', 'is', 'performed', 'and', 'the', 'patient', 'is', 'medicated', 'with', 'aspirin', 'plus', 'an', 'antiplatelet', 'and', 'anticoagulant', 'if', 'ami', 'with', 'supra', 'perform', 'catheterization'], ['retrosternal', 'oppressive', 'chest', 'pain', 'that', 'relieves', 'with', 'rest', 'and', 'aggravates', 'with', 'exertion', 'may', 'alleviate', 'with', 'nitrates', 'ecg', 'changes', 'with', 'or', 'without', 'st', 'elevation', 'and', 'signs', 'of', 'myocardial', 'ischemia', 'with', 'elevated', 'cardiac', 'enzymes', 'there', 'are', 'types', 'of', 'ami'], ['acute', 'myocardial', 'infarction', 'is', 'an', 'acute', 'myocardial', 'injury', 'so', 'there', 'must', 'be', 'an', 'elevation', 'of', 'cardiac', 'biomarkers', 'more', 'specifically', 'of', 'troponin', 'which', 'to', 'be', 'acute', 'must', 'have', 'clearance', 'followed', 'by', 'descent', 'in', 'addition', 'they', 'must', 'have', 'clinical', 'evidence', 'of', 'ischemia', 'either', 'with', 'ischemic', 'symptoms', 'or', 'with', 'electrocardiographic', 'changes', 'for', 'example', 'there', 'are', 'types', 'of', 'ami', 'type', 'when', 'there', 'is', 'an', 'occlusion', 'of', 'the', 'coronary', 'vessel', 'by', 'clot', 'type', 'when', 'there', 'is', 'an', 'imbalance', 'between', 'the', 'needs', 'and', 'an', 'o2', 'supply', 'type', 'when', 'there', 'is', 'sudden', 'death', 'from', 'ami', 'type', 'when', 'there', 'is', 'ami', 'associated', 'with', 'pci', 'and', 'type', 'when', 'there', 'is', 'mi', 'associated', 'with', 'coronary', 'artery', 'bypass', 'surgery', 'the', 'ami', 'can', 'also', 'be', 'an', 'acute', 'coronary', 'syndrome', 'with', 'supra', 'st', 'there', 'is', 'total', 'occlusion', 'of', 'the', 'vessel', 'or', 'without', 'supra', 'st', 'there', 'is', 'no', 'total', 'occlusion', 'of', 'the', 'vessel', 'treatment', 'can', 'be', 'fibrinolysis', 'if', 'there', 'is', 'hemodynamic', 'and', 'therapeutic', 'instability'], ['clinical', 'presentation', 'retrosternal', 'pain', 'of', 'sudden', 'onset', 'usually', 'of', 'the', 'anginal', 'type', 'relieved', 'with', 'rest', 'nitrates', 'worsens', 'with', 'physical', 'exercise', 'and', 'is', 'of', 'the', 'constrictive', 'type', 'with', 'irradiation', 'to', 'the', 'esm', 'or', 'else', 'to', 'the', 'mandible', 'for', 'example', 'mcdt', 'ecg', 'myocardial', 'necrosis', 'markersepidemiology', 'cardiovascular', 'diseases', 'are', 'very', 'prevalent', 'in', 'our', 'society', 'stroke', 'and', 'ami', 'being', 'the', 'main', 'causes', 'of', 'mortality', 'and', 'morbidity'], ['heart', 'attack', 'results', 'from', 'miss', 'match', 'between', 'the', 'needs', 'of', 'the', 'heart', 'muscle', 'and', 'the', 'supply', 'for', 'the', 'bloodstream'], ['severe', 'retrosternal', 'pain', 'burning', 'sensation', 'which', 'may', 'radiate', 'to', 'the', 'left', 'arm', 'and', 'or', 'left', 'jaw', 'it', 'may', 'or', 'may', 'not', 'be', 'accompanied', 'by', 'other', 'symptoms', 'such', 'as', 'sweating', 'nausea', 'vomiting', 'and', 'feeling', 'faint', 'or', 'syncope', 'when', 'receiving', 'patient', 'with', 'chest', 'pain', 'it', 'is', 'important', 'to', 'perform', 'an', 'ecg', 'within', 'minutes', 'to', 'observe', 'the', 'presence', 'of', 'st', 'segment', 'elevation', 'in', 'the', 'leads', 'and', 'thus', 'make', 'diagnosis', 'of', 'st', 'segment', 'elevation', 'if', 'you', 'do', 'not', 'have', 'st', 'supra', 'it', 'is', 'necessary', 'to', 'do', 'serial', 'assay', 'of', 'cardiac', 'damage', 'markers', 'as', 'for', 'example', 'troponins', 'and', 'myoglobin', 'in', 'the', 'presence', 'of', 'these', 'high', 'markers', 'we', 'have', 'diagnosis', 'of', 'ami', 'without', 'st', 'elevation', 'or', 'unstable', 'angina', 'treatment', 'requires', 'dual', 'therapeutic', 'administration', 'of', 'anti', 'aggregation', 'ticagrelor', 'and', 'aspirin', 'as', 'well', 'as', 'enoxaparin', 'if', 'the', 'onset', 'of', 'pain', 'was', 'less', 'than', 'hours', 'alteplase', 'can', 'be', 'administered', 'if', 'it', 'is', 'longer', 'than', 'hours', 'coronary', 'angioplasty', 'can', 'be', 'performed'], ['ami', 'retrosternal', 'tightening', 'chest', 'pain', 'usually', 'of', 'high', 'intensity', 'which', 'does', 'not', 'relieve', 'with', 'rest', 'lasts', 'more', 'than', 'minutes', 'radiating', 'from', 'the', 'umbilicus', 'to', 'the', 'jaw', 'including', 'both', 'upper', 'limbs', 'which', 'may', 'be', 'associated', 'with', 'nausea', 'weakness', 'dizziness', 'paresthesias', 'malaise', 'need', 'to', 'perform', 'an', 'ecg', 'in', 'the', 'first', 'minutes', 'of', 'contact', 'with', 'the', 'inem', 'hospital', 'if', 'heart', 'attack', 'with', 'st', 'elevation', 'immediate', 'catheterization', 'without', 'waiting', 'for', 'the', 'results', 'of', 'myocardial', 'necrosis', 'markers', 'if', 'heart', 'attack', 'without', 'st', 'elevation', 'depending', 'on', 'the', 'patient', 'risk', 'catheterization', 'may', 'be', 'performed', 'within', 'the', 'first', '2h', '24h', 'or', 'later'], ['ami', 'can', 'have', 'several', 'etiologies', 'the', 'most', 'frequent', 'being', 'atherosclerotic', 'plaque', 'type', 'ami', 'it', 'may', 'also', 'be', 'due', 'to', 'an', 'o2', 'demand', 'lower', 'than', 'what', 'is', 'needed', 'due', 'to', 'anemia', 'spontaneous', 'coronary', 'dissection', 'type', 'ii', 'ami', 'it', 'is', 'characterized', 'by', 'acute', 'chest', 'pain', 'that', 'can', 'radiate', 'to', 'the', 'arms', 'jaw', 'intense', 'sweating', 'fainting', 'or', 'feeling', 'faint', 'vomiting', 'and', 'severe', 'malaise', 'diagnosis', 'is', 'made', 'from', 'ecg', 'if', 'st', 'elevation', 'if', 'there', 'is', 'no', 'st', 'elevation', 'myocardial', 'necrosis', 'markers', 'are', 'requested', 'the', 'treatment', 'is', 'done', 'by', 'placing', 'strent', 'or', 'bipass', 'chronic', 'treatment', 'is', 'made', 'with', 'aas', 'and', 'clopidogrel', 'for', 'example'], ['cardiac', 'pathology', 'with', 'podromic', 'symptoms', 'that', 'usually', 'begin', 'days', 'before', 'the', 'event', 'these', 'include', 'retrosternal', 'pain', 'that', 'can', 'radiate', 'to', 'the', 'shoulders', 'or', 'neck', 'dyspnea', 'and', 'fatigue', 'risk', 'factors', 'dyslipidemia', 'smoking', 'hta', 'diabetes', 'uncontrolled', 'diet', 'family', 'history', 'of', 'heart', 'attack'], ['it', 'is', 'caused', 'by', 'myocardial', 'muscle', 'ischemia', 'due', 'to', 'an', 'occlusion', 'of', 'one', 'or', 'more', 'coronary', 'arteries', 'it', 'usually', 'presents', 'as', 'severe', 'retrosternal', 'chest', 'pain', 'that', 'may', 'radiate', 'to', 'the', 'upper', 'limbs', 'and', 'neck', 'on', 'the', 'ecg', 'it', 'may', 'present', 'an', 'elevation', 'of', 'the', 'wave', 'but', 'this', 'change', 'is', 'not', 'necessary', 'the', 'echocardiogram', 'may', 'show', 'changes', 'in', 'the', 'kinesia', 'of', 'the', 'affected', 'wall', 'depending', 'on', 'the', 'type', 'of', 'infarction', 'and', 'the', 'duration', 'of', 'the', 'simt', 'it', 'may', 'be', 'necessary', 'to', 'carry', 'out', 'catheterization', 'for', 'arterial', 'revascularization'], ['acute', 'myocardial', 'infarction', 'acute', 'coronary', 'syndrome', 'epidemiology', 'common', 'in', 'males', 'from', 'years', 'of', 'age', 'and', 'in', 'patients', 'with', 'cardiovascular', 'risk', 'factors', 'hta', 'dm', 'dyslipidemia', 'smoking', 'obesity', 'clinical', 'common', 'tightening', 'retrosternal', 'pain', 'with', 'irradiation', 'for', 'the', 'upper', 'limbs', 'the', 'jaw', 'and', 'the', 'abdomen', 'up', 'to', 'the', 'navel', 'the', 'pain', 'is', 'usually', 'aggravated', 'with', 'exercise', 'additionally', 'it', 'may', 'prove', 'diaphoresis', 'nausea', 'pallor', 'etc', 'diagnosis', 'ecg', 'with', 'st', 'supra', 'in', 'at', 'least', 'contiguous', 'leads', 'elevation', 'of', 'cardiac', 'markers'], ['ami', 'is', 'the', 'result', 'of', 'rupture', 'of', 'the', 'atherosclerotic', 'plaque', 'with', 'the', 'formation', 'of', 'thrombus', 'which', 'can', 'completely', 'or', 'partially', 'occlude', 'the', 'artery', 'in', 'question', 'leading', 'to', 'myocardial', 'damage', 'that', 'is', 'no', 'longer', 'suppressed', 'the', 'main', 'symptoms', 'are', 'oppressive', 'retrosternal', 'chest', 'pain', 'which', 'may', 'radiate', 'to', 'the', 'neck', 'left', 'ul', 'back', 'abdomen', 'jaw', 'and', 'may', 'have', 'associated', 'symptoms', 'such', 'as', 'nausea', 'vomiting', 'dyspnea', 'diaphoresis', 'syncope', 'elderly', 'people', 'women', 'and', 'diabetics', 'may', 'have', 'more', 'atypical', 'apprehension', 'it', 'is', 'an', 'urgent', 'pathology', 'which', 'must', 'be', 'identified', 'and', 'treated', 'as', 'soon', 'as', 'possible'], ['ami', 'is', 'an', 'ischemic', 'disease', 'that', 'affects', 'the', 'coronary', 'arteries', 'it', 'happens', 'when', 'there', 'is', 'arterial', 'occlusion', 'total', 'or', 'partial', 'which', 'causes', 'decrease', 'in', 'the', 'supply', 'of', 'oxygen', 'to', 'the', 'myocardium', 'and', 'missmatch', 'between', 'the', 'supply', 'and', 'the', 'needs', 'of', 'the', 'myocardium', 'if', 'not', 'corrected', 'in', 'time', 'it', 'can', 'cause', 'myocardial', 'necrosis', 'which', 'at', 'this', 'point', 'is', 'irreversible', 'ami', 'causes', 'characteristic', 'severe', 'tight', 'pain', 'in', 'the', 'chest', 'that', 'may', 'radiate', 'from', 'the', 'jaw', 'root', 'to', 'the', 'navel', 'sensibly', 'on', 'ecg', 'it', 'may', 'present', 'with', 'or', 'without', 'st', 'segment', 'elevation', 'and', 'cause', 'elevation', 'of', 'myocardial', 'injury', 'markers', 'especially', 'troponins', 'and', 'ck', 'treatment', 'in', 'the', 'acute', 'phase', 'for', 'pain', 'relief', 'is', 'based', 'on', 'opioids', 'and', 'potent', 'vasodilators', 'usually', 'morphine', 'and', 'nitrates', 'respectively', 'using', 'other', 'procedures', 'or', 'drugs', 'depending', 'on', 'the', 'signs', 'and', 'symptoms', 'the', 'treatment', 'of', 'ami', 'is', 'done', 'by', 'cardiac', 'catheterization', 'usually', 'or', 'another'], ['there', 'are', 'infarcts', 'with', 'st', 'elevation', 'and', 'without', 'st', 'elevation', 'given', 'this', 'diagnosis', 'it', 'will', 'be', 'important', 'to', 'send', 'the', 'patient', 'for', 'revascularization', 'as', 'soon', 'as', 'possible', 'after', 'revascularization', 'the', 'patient', 'will', 'take', 'aspirin', 'for', 'life', 'blocker', 'and', 'then', 'depending', 'on', 'the', 'frcv', 'may', 'still', 'benefit', 'from', 'iecas'], ['it', 'can', 'be', 'with', 'st', 'elevation', 'or', 'without', 'st', 'elevation', 'it', 'represents', 'ischemia', 'usually', 'due', 'to', 'atherosclerotic', 'occlusion', 'with', 'myocardial', 'necrosis', 'of', 'one', 'or', 'more', 'coronary', 'arteries', 'the', 'pain', 'is', 'usually', 'very', 'intense', 'can', 'last', 'for', 'hours', 'and', 'can', 'radiate', 'to', 'the', 'left', 'arm', 'jaw', 'or', 'neck', 'it', 'is', 'usually', 'described', 'as', 'chest', 'tightness', 'it', 'may', 'be', 'associated', 'with', 'nausea', 'sweating', 'pallor', 'and', 'dyspnoea', 'it', 'is', 'critical', 'that', 'an', 'ecg', 'be', 'performed', 'in', 'less', 'than', 'minutes', 'and', 'that', 'clearance', 'through', 'icp', 'or', 'fibrinolysis', 'icp', 'is', 'usually', 'preferred', 'if', 'possible', 'markers', 'of', 'myocardial', 'necrosis', 'are', 'also', 'requested', 'the', 'best', 'being', 'tropinin'], ['cv', 'risk', 'factors', 'dm', 'aht', 'obesity', 'smoking', 'age', 'the', 'main', 'one', 'alcohol', 'consumption', 'kidney', 'failure', 'sedentary', 'lifestyle', 'incidence', 'increases', 'with', 'age', 'and', 'with', 'the', 'presence', 'of', 'risk', 'factors', 'treatment', 'stent', 'placement', 'diagnosis', 'achievement', 'lead', 'ecg', 'with', 'st', 'elevation', 'in', 'more', 'than', 'contiguous', 'leads', 'clinic', 'retrosternal', 'pain', 'that', 'may', 'radiate', 'to', 'the', 'mandible', 'and', 'left', 'arm', 'in', 'tightness', 'stabbing', 'associated', 'with', 'nausea', 'hypersweating', 'and', 'syncope', 'lasting', 'for', 'more', 'than', 'min']]\n"
     ]
    }
   ],
   "source": [
    "DATASET = 'OSCE/dor_toracica_x_infarto'\n",
    "FILE = 'datasets/' + DATASET + '/respostas_ingles.txt'\n",
    "\n",
    "with open(FILE) as f:\n",
    "    data_samples = f.readlines()\n",
    "    \n",
    "# print(data_samples)\n",
    "\n",
    "from nltk.tokenize import RegexpTokenizer\n",
    "\n",
    "# Split the documents into tokens.\n",
    "tokenizer = RegexpTokenizer(r'\\w+')\n",
    "for idx in range(len(data_samples)):\n",
    "    data_samples[idx] = data_samples[idx].lower()  # Convert to lowercase.\n",
    "    data_samples[idx] = tokenizer.tokenize(data_samples[idx])  # Split into words.\n",
    "\n",
    "# print(data_samples[0])\n",
    "# Remove numbers, but not words that contain numbers.\n",
    "data_samples = [[token for token in doc if not token.isnumeric()] for doc in data_samples]\n",
    "\n",
    "# Remove words that are only one character.\n",
    "data_samples = [[token for token in doc if len(token) > 1] for doc in data_samples]\n",
    "\n",
    "# # Lemmatize the documents.\n",
    "# import nltk\n",
    "# nltk.download('wordnet')\n",
    "# from nltk.stem.wordnet import WordNetLemmatizer\n",
    "\n",
    "# lemmatizer = WordNetLemmatizer()\n",
    "# data_samples = [[lemmatizer.lemmatize(token) for token in doc] for doc in data_samples]\n",
    "\n",
    "print(data_samples)"
   ]
  },
  {
   "cell_type": "code",
   "execution_count": 89,
   "id": "d0c0b22d",
   "metadata": {},
   "outputs": [
    {
     "data": {
      "text/plain": [
       "CountVectorizer()"
      ]
     },
     "execution_count": 89,
     "metadata": {},
     "output_type": "execute_result"
    }
   ],
   "source": [
    "from sklearn.feature_extraction.text import CountVectorizer\n",
    "\n",
    "count_vect = CountVectorizer()\n",
    "X_train_counts = count_vect.fit(data_samples[:3])\n",
    "X_train_counts\n"
   ]
  },
  {
   "cell_type": "code",
   "execution_count": 35,
   "id": "97f40721",
   "metadata": {},
   "outputs": [
    {
     "name": "stdout",
     "output_type": "stream",
     "text": [
      "<class 'scipy.sparse.csr.csr_matrix'>\n",
      "[[1 0 2 1 0 1 0 1 3 0 1 0 1 0 0 0 0 0 0 1 1 0 1 1 0 0 0 1 1 1 1 0 0 0 0 0\n",
      "  1 0 0 1 0 0 0 0 2 3 0 0 1 0 1 1 1 0 0 1 0 0 0 2 0 2 1 2 0 1 1 0 1 1 1 1\n",
      "  1 1 1 0 3 1 0 0 0 1 0 0 2 2 0 1 0 0 1 0 2 0 1 0 0 0 0 0 1 2 0 0 0 0 3 0\n",
      "  0 0 0 0 0 0 1 8 0 1 0 4 0 1 0 1 1 0 0 0 0 2 1 0 0]\n",
      " [0 0 0 0 0 1 1 0 1 0 0 0 0 0 1 0 1 1 0 1 0 0 0 1 0 1 0 1 0 0 0 0 0 1 0 1\n",
      "  0 1 1 0 0 0 1 0 0 0 0 0 0 0 0 1 2 0 0 0 0 0 0 1 0 0 0 2 2 3 0 0 0 0 0 1\n",
      "  2 0 0 1 1 0 0 1 1 0 0 0 2 0 0 1 0 1 0 0 0 0 0 0 0 0 0 0 0 0 0 0 0 1 0 0\n",
      "  1 0 0 1 0 0 0 2 1 0 0 0 0 0 0 0 0 0 0 2 0 0 0 0 1]\n",
      " [1 1 2 0 1 0 0 3 4 1 0 1 0 1 0 2 1 0 1 1 0 1 2 2 1 0 1 0 1 0 0 1 1 2 1 0\n",
      "  0 0 0 0 1 1 1 1 0 1 1 1 0 1 1 0 1 1 1 0 1 1 1 2 1 1 1 1 0 3 0 1 1 0 0 2\n",
      "  3 1 1 2 1 0 1 0 2 0 1 1 6 0 1 6 1 1 2 1 0 1 1 1 1 1 1 1 0 0 1 1 1 0 0 1\n",
      "  0 1 1 1 1 1 1 5 0 0 1 5 1 0 1 0 0 1 1 0 2 4 1 1 0]]\n"
     ]
    }
   ],
   "source": [
    "print(type(X_train_counts[0]))\n",
    "print(X_train_counts.toarray())"
   ]
  },
  {
   "cell_type": "code",
   "execution_count": 117,
   "id": "8b83abdc",
   "metadata": {},
   "outputs": [
    {
     "ename": "ValueError",
     "evalue": "unable to interpret topic as either a list of tokens or a list of ids",
     "output_type": "error",
     "traceback": [
      "\u001b[0;31m---------------------------------------------------------------------------\u001b[0m",
      "\u001b[0;31mValueError\u001b[0m                                Traceback (most recent call last)",
      "\u001b[0;32m/tmp/ipykernel_69/2881557154.py\u001b[0m in \u001b[0;36m<module>\u001b[0;34m\u001b[0m\n\u001b[1;32m     24\u001b[0m \u001b[0;34m\u001b[0m\u001b[0m\n\u001b[1;32m     25\u001b[0m \u001b[0;31m# cm = CoherenceModel(topics=topics, corpus=X_train_counts, dictionary=dct, coherence='u_mass')\u001b[0m\u001b[0;34m\u001b[0m\u001b[0;34m\u001b[0m\u001b[0m\n\u001b[0;32m---> 26\u001b[0;31m \u001b[0mcm\u001b[0m \u001b[0;34m=\u001b[0m \u001b[0mCoherenceModel\u001b[0m\u001b[0;34m(\u001b[0m\u001b[0mtopics\u001b[0m\u001b[0;34m=\u001b[0m\u001b[0mtopics\u001b[0m\u001b[0;34m,\u001b[0m \u001b[0mtexts\u001b[0m \u001b[0;34m=\u001b[0m \u001b[0mtexts\u001b[0m\u001b[0;34m,\u001b[0m \u001b[0mcorpus\u001b[0m\u001b[0;34m=\u001b[0m\u001b[0mcorpus\u001b[0m\u001b[0;34m,\u001b[0m \u001b[0mdictionary\u001b[0m\u001b[0;34m=\u001b[0m\u001b[0mid2word\u001b[0m\u001b[0;34m,\u001b[0m \u001b[0mcoherence\u001b[0m\u001b[0;34m=\u001b[0m\u001b[0;34m'u_mass'\u001b[0m\u001b[0;34m)\u001b[0m\u001b[0;34m\u001b[0m\u001b[0;34m\u001b[0m\u001b[0m\n\u001b[0m\u001b[1;32m     27\u001b[0m \u001b[0;31m# cm = CoherenceModel(topics=topics, corpus=common_corpus, dictionary=common_dictionary, coherence='u_mass')\u001b[0m\u001b[0;34m\u001b[0m\u001b[0;34m\u001b[0m\u001b[0m\n\u001b[1;32m     28\u001b[0m \u001b[0;34m\u001b[0m\u001b[0m\n",
      "\u001b[0;32m/opt/conda/lib/python3.9/site-packages/gensim/models/coherencemodel.py\u001b[0m in \u001b[0;36m__init__\u001b[0;34m(self, model, topics, texts, corpus, dictionary, window_size, keyed_vectors, coherence, topn, processes)\u001b[0m\n\u001b[1;32m    213\u001b[0m         \u001b[0mself\u001b[0m\u001b[0;34m.\u001b[0m\u001b[0m_accumulator\u001b[0m \u001b[0;34m=\u001b[0m \u001b[0;32mNone\u001b[0m\u001b[0;34m\u001b[0m\u001b[0;34m\u001b[0m\u001b[0m\n\u001b[1;32m    214\u001b[0m         \u001b[0mself\u001b[0m\u001b[0;34m.\u001b[0m\u001b[0m_topics\u001b[0m \u001b[0;34m=\u001b[0m \u001b[0;32mNone\u001b[0m\u001b[0;34m\u001b[0m\u001b[0;34m\u001b[0m\u001b[0m\n\u001b[0;32m--> 215\u001b[0;31m         \u001b[0mself\u001b[0m\u001b[0;34m.\u001b[0m\u001b[0mtopics\u001b[0m \u001b[0;34m=\u001b[0m \u001b[0mtopics\u001b[0m\u001b[0;34m\u001b[0m\u001b[0;34m\u001b[0m\u001b[0m\n\u001b[0m\u001b[1;32m    216\u001b[0m \u001b[0;34m\u001b[0m\u001b[0m\n\u001b[1;32m    217\u001b[0m         \u001b[0mself\u001b[0m\u001b[0;34m.\u001b[0m\u001b[0mprocesses\u001b[0m \u001b[0;34m=\u001b[0m \u001b[0mprocesses\u001b[0m \u001b[0;32mif\u001b[0m \u001b[0mprocesses\u001b[0m \u001b[0;34m>=\u001b[0m \u001b[0;36m1\u001b[0m \u001b[0;32melse\u001b[0m \u001b[0mmax\u001b[0m\u001b[0;34m(\u001b[0m\u001b[0;36m1\u001b[0m\u001b[0;34m,\u001b[0m \u001b[0mmp\u001b[0m\u001b[0;34m.\u001b[0m\u001b[0mcpu_count\u001b[0m\u001b[0;34m(\u001b[0m\u001b[0;34m)\u001b[0m \u001b[0;34m-\u001b[0m \u001b[0;36m1\u001b[0m\u001b[0;34m)\u001b[0m\u001b[0;34m\u001b[0m\u001b[0;34m\u001b[0m\u001b[0m\n",
      "\u001b[0;32m/opt/conda/lib/python3.9/site-packages/gensim/models/coherencemodel.py\u001b[0m in \u001b[0;36mtopics\u001b[0;34m(self, topics)\u001b[0m\n\u001b[1;32m    428\u001b[0m             \u001b[0mnew_topics\u001b[0m \u001b[0;34m=\u001b[0m \u001b[0;34m[\u001b[0m\u001b[0;34m]\u001b[0m\u001b[0;34m\u001b[0m\u001b[0;34m\u001b[0m\u001b[0m\n\u001b[1;32m    429\u001b[0m             \u001b[0;32mfor\u001b[0m \u001b[0mtopic\u001b[0m \u001b[0;32min\u001b[0m \u001b[0mtopics\u001b[0m\u001b[0;34m:\u001b[0m\u001b[0;34m\u001b[0m\u001b[0;34m\u001b[0m\u001b[0m\n\u001b[0;32m--> 430\u001b[0;31m                 \u001b[0mtopic_token_ids\u001b[0m \u001b[0;34m=\u001b[0m \u001b[0mself\u001b[0m\u001b[0;34m.\u001b[0m\u001b[0m_ensure_elements_are_ids\u001b[0m\u001b[0;34m(\u001b[0m\u001b[0mtopic\u001b[0m\u001b[0;34m)\u001b[0m\u001b[0;34m\u001b[0m\u001b[0;34m\u001b[0m\u001b[0m\n\u001b[0m\u001b[1;32m    431\u001b[0m                 \u001b[0mnew_topics\u001b[0m\u001b[0;34m.\u001b[0m\u001b[0mappend\u001b[0m\u001b[0;34m(\u001b[0m\u001b[0mtopic_token_ids\u001b[0m\u001b[0;34m)\u001b[0m\u001b[0;34m\u001b[0m\u001b[0;34m\u001b[0m\u001b[0m\n\u001b[1;32m    432\u001b[0m \u001b[0;34m\u001b[0m\u001b[0m\n",
      "\u001b[0;32m/opt/conda/lib/python3.9/site-packages/gensim/models/coherencemodel.py\u001b[0m in \u001b[0;36m_ensure_elements_are_ids\u001b[0;34m(self, topic)\u001b[0m\n\u001b[1;32m    452\u001b[0m             \u001b[0;32mreturn\u001b[0m \u001b[0mnp\u001b[0m\u001b[0;34m.\u001b[0m\u001b[0marray\u001b[0m\u001b[0;34m(\u001b[0m\u001b[0mids_from_ids\u001b[0m\u001b[0;34m)\u001b[0m\u001b[0;34m\u001b[0m\u001b[0;34m\u001b[0m\u001b[0m\n\u001b[1;32m    453\u001b[0m         \u001b[0;32melse\u001b[0m\u001b[0;34m:\u001b[0m\u001b[0;34m\u001b[0m\u001b[0;34m\u001b[0m\u001b[0m\n\u001b[0;32m--> 454\u001b[0;31m             \u001b[0;32mraise\u001b[0m \u001b[0mValueError\u001b[0m\u001b[0;34m(\u001b[0m\u001b[0;34m'unable to interpret topic as either a list of tokens or a list of ids'\u001b[0m\u001b[0;34m)\u001b[0m\u001b[0;34m\u001b[0m\u001b[0;34m\u001b[0m\u001b[0m\n\u001b[0m\u001b[1;32m    455\u001b[0m \u001b[0;34m\u001b[0m\u001b[0m\n\u001b[1;32m    456\u001b[0m     \u001b[0;32mdef\u001b[0m \u001b[0m_update_accumulator\u001b[0m\u001b[0;34m(\u001b[0m\u001b[0mself\u001b[0m\u001b[0;34m,\u001b[0m \u001b[0mnew_topics\u001b[0m\u001b[0;34m)\u001b[0m\u001b[0;34m:\u001b[0m\u001b[0;34m\u001b[0m\u001b[0;34m\u001b[0m\u001b[0m\n",
      "\u001b[0;31mValueError\u001b[0m: unable to interpret topic as either a list of tokens or a list of ids"
     ]
    }
   ],
   "source": [
    "from gensim.models.coherencemodel import CoherenceModel\n",
    "\n",
    "topics = [\n",
    "    ['human', 'computer', 'system', 'interface'],\n",
    "    ['graph', 'minors', 'trees', 'eps']\n",
    "]\n",
    "\n",
    "from gensim.corpora import Dictionary\n",
    "\n",
    "texts = [['human', 'interface', 'computer'], ['coronary', 'ecg']]\n",
    "\n",
    "dct = Dictionary()  # initialize a Dictionary\n",
    "\n",
    "dct.add_documents(texts)  # add more document (extend the vocabulary)\n",
    "# dct.add_documents([[\"cat\", \"say\", \"meow\"], [\"dog\"]])  # add more document (extend the vocabulary)\n",
    "# dct.add_documents(texts)  # add more document (extend the vocabulary)\n",
    "\n",
    "# bag = dct.doc2bow([\"dog\", \"computer\", \"non_existent_word\"], return_missing = True)\n",
    "# # texts\n",
    "# print(bag)\n",
    "id2word = corpora.Dictionary(texts)\n",
    "corpus = [id2word.doc2bow(text) for text in texts]\n",
    "\n",
    "\n",
    "# cm = CoherenceModel(topics=topics, corpus=X_train_counts, dictionary=dct, coherence='u_mass')\n",
    "cm = CoherenceModel(topics=topics, texts = texts, corpus=corpus, dictionary=id2word, coherence='u_mass')\n",
    "# cm = CoherenceModel(topics=topics, corpus=common_corpus, dictionary=common_dictionary, coherence='u_mass')\n",
    "\n",
    "coherence = cm.get_coherence()  # get coherence value"
   ]
  },
  {
   "cell_type": "code",
   "execution_count": 69,
   "id": "6a71b550",
   "metadata": {},
   "outputs": [
    {
     "data": {
      "text/plain": [
       "-4.489645655894268"
      ]
     },
     "execution_count": 69,
     "metadata": {},
     "output_type": "execute_result"
    }
   ],
   "source": [
    "coherence"
   ]
  },
  {
   "cell_type": "code",
   "execution_count": 108,
   "id": "cb33a930",
   "metadata": {},
   "outputs": [
    {
     "ename": "TypeError",
     "evalue": "preprocess_text() missing 1 required positional argument: 'text'",
     "output_type": "error",
     "traceback": [
      "\u001b[0;31m---------------------------------------------------------------------------\u001b[0m",
      "\u001b[0;31mTypeError\u001b[0m                                 Traceback (most recent call last)",
      "\u001b[0;32m/tmp/ipykernel_69/3923466751.py\u001b[0m in \u001b[0;36m<module>\u001b[0;34m\u001b[0m\n\u001b[1;32m      2\u001b[0m \u001b[0;34m\u001b[0m\u001b[0m\n\u001b[1;32m      3\u001b[0m \u001b[0mtc\u001b[0m \u001b[0;34m=\u001b[0m \u001b[0mTextCorpus\u001b[0m\u001b[0;34m\u001b[0m\u001b[0;34m\u001b[0m\u001b[0m\n\u001b[0;32m----> 4\u001b[0;31m \u001b[0mtc\u001b[0m\u001b[0;34m.\u001b[0m\u001b[0mpreprocess_text\u001b[0m\u001b[0;34m(\u001b[0m\u001b[0;34m'ok mister johny'\u001b[0m\u001b[0;34m)\u001b[0m\u001b[0;34m\u001b[0m\u001b[0;34m\u001b[0m\u001b[0m\n\u001b[0m",
      "\u001b[0;31mTypeError\u001b[0m: preprocess_text() missing 1 required positional argument: 'text'"
     ]
    }
   ],
   "source": [
    "from gensim.corpora.textcorpus import TextCorpus\n",
    "\n",
    "tc = TextCorpus\n",
    "tc.preprocess_text('ok mister johny')"
   ]
  },
  {
   "cell_type": "code",
   "execution_count": 113,
   "id": "0beb3e98",
   "metadata": {},
   "outputs": [
    {
     "name": "stdout",
     "output_type": "stream",
     "text": [
      "Dictionary(5 unique tokens: ['computer', 'human', 'interface', 'coronary', 'ecg'])\n",
      "[[(0, 1), (1, 1), (2, 1)], [(3, 1), (4, 1)]]\n"
     ]
    }
   ],
   "source": [
    "import gensim.corpora as corpora\n",
    "from gensim.models.coherencemodel import CoherenceModel\n",
    "\n",
    "input_data = [['human', 'interface', 'computer'], ['coronary', 'ecg']]\n",
    "topics = ['human', 'computer', 'system', 'interface']\n",
    "#     ['graph', 'minors', 'trees', 'eps']\n",
    "\n",
    "\n",
    "id2word = corpora.Dictionary(input_data)\n",
    "corpus = [id2word.doc2bow(text) for text in input_data]\n",
    "\n",
    "print(id2word)\n",
    "print(corpus)\n",
    "\n",
    "# cm = CoherenceModel(topics=topics,texts = input_data,corpus=corpus, dictionary=id2word, coherence='c_v')\n",
    "# coherence = cm.get_coherence()"
   ]
  },
  {
   "cell_type": "markdown",
   "id": "d74c8221",
   "metadata": {},
   "source": [
    "# -----------------"
   ]
  },
  {
   "cell_type": "code",
   "execution_count": 2,
   "id": "1fa314dd",
   "metadata": {},
   "outputs": [
    {
     "ename": "NameError",
     "evalue": "name 'data_samples' is not defined",
     "output_type": "error",
     "traceback": [
      "\u001b[0;31m---------------------------------------------------------------------------\u001b[0m",
      "\u001b[0;31mNameError\u001b[0m                                 Traceback (most recent call last)",
      "\u001b[0;32m/tmp/ipykernel_79/501861812.py\u001b[0m in \u001b[0;36m<module>\u001b[0;34m\u001b[0m\n\u001b[1;32m     12\u001b[0m \u001b[0;31m#          ['graph', 'minors', 'survey']]\u001b[0m\u001b[0;34m\u001b[0m\u001b[0;34m\u001b[0m\u001b[0m\n\u001b[1;32m     13\u001b[0m \u001b[0;31m# texts = [['human', 'interface', 'computer'], ['coronary', 'ecg']]\u001b[0m\u001b[0;34m\u001b[0m\u001b[0;34m\u001b[0m\u001b[0m\n\u001b[0;32m---> 14\u001b[0;31m \u001b[0mtexts\u001b[0m \u001b[0;34m=\u001b[0m \u001b[0mdata_samples\u001b[0m\u001b[0;34m\u001b[0m\u001b[0;34m\u001b[0m\u001b[0m\n\u001b[0m\u001b[1;32m     15\u001b[0m \u001b[0mdictionary\u001b[0m \u001b[0;34m=\u001b[0m \u001b[0mDictionary\u001b[0m\u001b[0;34m(\u001b[0m\u001b[0mtexts\u001b[0m\u001b[0;34m)\u001b[0m\u001b[0;34m\u001b[0m\u001b[0;34m\u001b[0m\u001b[0m\n\u001b[1;32m     16\u001b[0m \u001b[0mcorpus\u001b[0m \u001b[0;34m=\u001b[0m \u001b[0;34m[\u001b[0m\u001b[0mdictionary\u001b[0m\u001b[0;34m.\u001b[0m\u001b[0mdoc2bow\u001b[0m\u001b[0;34m(\u001b[0m\u001b[0mtext\u001b[0m\u001b[0;34m)\u001b[0m \u001b[0;32mfor\u001b[0m \u001b[0mtext\u001b[0m \u001b[0;32min\u001b[0m \u001b[0mtexts\u001b[0m\u001b[0;34m]\u001b[0m\u001b[0;34m\u001b[0m\u001b[0;34m\u001b[0m\u001b[0m\n",
      "\u001b[0;31mNameError\u001b[0m: name 'data_samples' is not defined"
     ]
    }
   ],
   "source": [
    "from gensim.models import CoherenceModel, LdaModel, HdpModel\n",
    "from gensim.corpora import Dictionary\n",
    "\n",
    "# texts = [['human', 'interface', 'computer'],\n",
    "#          ['survey', 'user', 'computer', 'system', 'response', 'time'],\n",
    "#          ['eps', 'user', 'interface', 'system'],\n",
    "#          ['system', 'human', 'system', 'eps'],\n",
    "#          ['user', 'response', 'time'],\n",
    "#          ['trees'],\n",
    "#          ['graph', 'trees'],\n",
    "#          ['graph', 'minors', 'trees'],\n",
    "#          ['graph', 'minors', 'survey']]\n",
    "# texts = [['human', 'interface', 'computer'], ['coronary', 'ecg']]\n",
    "texts = data_samples\n",
    "dictionary = Dictionary(texts)\n",
    "corpus = [dictionary.doc2bow(text) for text in texts]\n",
    "\n",
    "# # To get the topic words from the model\n",
    "# topics = []\n",
    "# for topic_id, topic in hm.show_topics(num_topics=10, formatted=False):\n",
    "# #     print(topic)\n",
    "#     topic = [word for word, _ in topic]\n",
    "#     topics.append(topic)\n",
    "# # print(topics)\n",
    "\n",
    "# topics2 =[\n",
    "#     ['graph', 'survey', 'system', 'interface', 'response', 'trees', 'human', 'user', 'minors', 'eps', 'computer', 'time'], \n",
    "#     ['user', 'response', 'computer', 'survey', 'time', 'minors', 'system', 'eps', 'interface', 'trees', 'human', 'graph'], \n",
    "#     ['trees', 'system', 'computer', 'survey', 'interface', 'graph', 'user', 'human', 'response', 'eps', 'minors', 'time']\n",
    "# ]\n",
    "topics2 =[\n",
    "    ['acute', 'ecg', 'markers', 'usually', 'radiate', 'ami', 'myocardial', 'elevation', 'st', 'pain'], \n",
    "    ['case', 'markers', 'acute', 'changes', 'elevation', 'myocardial', 'ami', 'ecg', 'supra', 'st'], \n",
    "    ['artery', 'st', 'acute', 'necrosis', 'pain', 'elevation', 'obstruction', 'coronary', 'type', 'myocardial'],\n",
    "    ['diseases', 'myocardial', 'urgent', 'intervention', '18', '57', 'requiring', 'obst', 'ischemia', 'tissue'],\n",
    "    ['smoking', 'factors', 'shoulders', 'radiate', 'risk', 'st', 'elevation', 'retrosternal', 'age', 'pain'],\n",
    "    ['results', 'muscle', 'attack', 'needs', 'supply', 'miss', 'bloodstream', 'match', '69', 'heart'],\n",
    "    ['patient', 'markers', 'cardiac', 'perform', 'st', 'anticoagulant', 'aspiring', 'catheterization', 'ecg', 'pain']\n",
    "\n",
    "]\n",
    "# Initialize CoherenceModel using `topics` parameter\n",
    "cm = CoherenceModel(topics=topics2, corpus=corpus, dictionary=dictionary, coherence='u_mass')\n",
    "cm.get_coherence()\n",
    "\n"
   ]
  },
  {
   "cell_type": "markdown",
   "id": "abaf638d",
   "metadata": {},
   "source": [
    "# -----------------"
   ]
  },
  {
   "cell_type": "code",
   "execution_count": 167,
   "id": "3990d2f0",
   "metadata": {},
   "outputs": [
    {
     "name": "stdout",
     "output_type": "stream",
     "text": [
      "Collecting tmtoolkit\n",
      "  Downloading tmtoolkit-0.10.0-py3-none-any.whl (7.1 MB)\n",
      "     |████████████████████████████████| 7.1 MB 4.4 MB/s            \n",
      "\u001b[?25hRequirement already satisfied: xlrd>=1.2.0 in /opt/conda/lib/python3.9/site-packages (from tmtoolkit) (2.0.1)\n",
      "Collecting globre<0.2,>=0.1.5\n",
      "  Downloading globre-0.1.5.tar.gz (20 kB)\n",
      "  Preparing metadata (setup.py) ... \u001b[?25ldone\n",
      "\u001b[?25hCollecting pandas<1.2,>=1.1.0\n",
      "  Downloading pandas-1.1.5-cp39-cp39-manylinux1_x86_64.whl (9.3 MB)\n",
      "     |████████████████████████████████| 9.3 MB 82 kB/s             \n",
      "\u001b[?25hRequirement already satisfied: numpy<2,>=1.19.0 in /opt/conda/lib/python3.9/site-packages (from tmtoolkit) (1.20.3)\n",
      "Collecting matplotlib<3.4,>=3.3.0\n",
      "  Downloading matplotlib-3.3.4-cp39-cp39-manylinux1_x86_64.whl (11.5 MB)\n",
      "     |████████████████████████████████| 11.5 MB 3.6 MB/s            \n",
      "\u001b[?25hCollecting scipy<1.6,>=1.5.0\n",
      "  Downloading scipy-1.5.4-cp39-cp39-manylinux1_x86_64.whl (25.8 MB)\n",
      "     |████████████████████████████████| 25.8 MB 167 kB/s            \n",
      "\u001b[?25hCollecting spacy<2.4,>=2.3.0\n",
      "  Downloading spacy-2.3.7-cp39-cp39-manylinux_2_17_x86_64.manylinux2014_x86_64.whl (10.3 MB)\n",
      "     |████████████████████████████████| 10.3 MB 270 kB/s            \n",
      "\u001b[?25hRequirement already satisfied: pyparsing!=2.0.4,!=2.1.2,!=2.1.6,>=2.0.3 in /opt/conda/lib/python3.9/site-packages (from matplotlib<3.4,>=3.3.0->tmtoolkit) (2.4.7)\n",
      "Requirement already satisfied: pillow>=6.2.0 in /opt/conda/lib/python3.9/site-packages (from matplotlib<3.4,>=3.3.0->tmtoolkit) (8.4.0)\n",
      "Requirement already satisfied: kiwisolver>=1.0.1 in /opt/conda/lib/python3.9/site-packages (from matplotlib<3.4,>=3.3.0->tmtoolkit) (1.3.2)\n",
      "Requirement already satisfied: cycler>=0.10 in /opt/conda/lib/python3.9/site-packages (from matplotlib<3.4,>=3.3.0->tmtoolkit) (0.11.0)\n",
      "Requirement already satisfied: python-dateutil>=2.1 in /opt/conda/lib/python3.9/site-packages (from matplotlib<3.4,>=3.3.0->tmtoolkit) (2.8.2)\n",
      "Requirement already satisfied: pytz>=2017.2 in /opt/conda/lib/python3.9/site-packages (from pandas<1.2,>=1.1.0->tmtoolkit) (2021.3)\n",
      "Requirement already satisfied: setuptools in /opt/conda/lib/python3.9/site-packages (from spacy<2.4,>=2.3.0->tmtoolkit) (59.1.1)\n",
      "Collecting srsly<1.1.0,>=1.0.2\n",
      "  Downloading srsly-1.0.5-cp39-cp39-manylinux2014_x86_64.whl (184 kB)\n",
      "     |████████████████████████████████| 184 kB 6.7 MB/s            \n",
      "\u001b[?25hCollecting plac<1.2.0,>=0.9.6\n",
      "  Downloading plac-1.1.3-py2.py3-none-any.whl (20 kB)\n",
      "Collecting blis<0.8.0,>=0.4.0\n",
      "  Downloading blis-0.7.5-cp39-cp39-manylinux_2_17_x86_64.manylinux2014_x86_64.whl (9.9 MB)\n",
      "     |████████████████████████████████| 9.9 MB 4.4 MB/s            \n",
      "\u001b[?25hCollecting preshed<3.1.0,>=3.0.2\n",
      "  Downloading preshed-3.0.6-cp39-cp39-manylinux_2_5_x86_64.manylinux1_x86_64.manylinux_2_17_x86_64.manylinux2014_x86_64.whl (128 kB)\n",
      "     |████████████████████████████████| 128 kB 185 kB/s            \n",
      "\u001b[?25hRequirement already satisfied: requests<3.0.0,>=2.13.0 in /opt/conda/lib/python3.9/site-packages (from spacy<2.4,>=2.3.0->tmtoolkit) (2.26.0)\n",
      "Requirement already satisfied: tqdm<5.0.0,>=4.38.0 in /opt/conda/lib/python3.9/site-packages (from spacy<2.4,>=2.3.0->tmtoolkit) (4.62.3)\n",
      "Collecting catalogue<1.1.0,>=0.0.7\n",
      "  Downloading catalogue-1.0.0-py2.py3-none-any.whl (7.7 kB)\n",
      "Collecting wasabi<1.1.0,>=0.4.0\n",
      "  Downloading wasabi-0.9.0-py3-none-any.whl (25 kB)\n",
      "Collecting thinc<7.5.0,>=7.4.1\n",
      "  Downloading thinc-7.4.5-cp39-cp39-manylinux2014_x86_64.whl (1.1 MB)\n",
      "     |████████████████████████████████| 1.1 MB 830 kB/s            \n",
      "\u001b[?25hCollecting murmurhash<1.1.0,>=0.28.0\n",
      "  Downloading murmurhash-1.0.6-cp39-cp39-manylinux_2_5_x86_64.manylinux1_x86_64.manylinux_2_17_x86_64.manylinux2014_x86_64.whl (21 kB)\n",
      "Collecting cymem<2.1.0,>=2.0.2\n",
      "  Downloading cymem-2.0.6-cp39-cp39-manylinux_2_17_x86_64.manylinux2014_x86_64.whl (35 kB)\n",
      "Requirement already satisfied: six>=1.5 in /opt/conda/lib/python3.9/site-packages (from python-dateutil>=2.1->matplotlib<3.4,>=3.3.0->tmtoolkit) (1.16.0)\n",
      "Requirement already satisfied: idna<4,>=2.5 in /opt/conda/lib/python3.9/site-packages (from requests<3.0.0,>=2.13.0->spacy<2.4,>=2.3.0->tmtoolkit) (3.1)\n",
      "Requirement already satisfied: certifi>=2017.4.17 in /opt/conda/lib/python3.9/site-packages (from requests<3.0.0,>=2.13.0->spacy<2.4,>=2.3.0->tmtoolkit) (2021.10.8)\n",
      "Requirement already satisfied: charset-normalizer~=2.0.0 in /opt/conda/lib/python3.9/site-packages (from requests<3.0.0,>=2.13.0->spacy<2.4,>=2.3.0->tmtoolkit) (2.0.0)\n",
      "Requirement already satisfied: urllib3<1.27,>=1.21.1 in /opt/conda/lib/python3.9/site-packages (from requests<3.0.0,>=2.13.0->spacy<2.4,>=2.3.0->tmtoolkit) (1.26.7)\n",
      "Building wheels for collected packages: globre\n",
      "  Building wheel for globre (setup.py) ... \u001b[?25ldone\n",
      "\u001b[?25h  Created wheel for globre: filename=globre-0.1.5-py3-none-any.whl size=19545 sha256=65c80814f5842597c56ebbb63986f42afc43de0e4a5831a6315c202b2683c0db\n",
      "  Stored in directory: /home/jovyan/.cache/pip/wheels/93/79/af/43a147d2f2ef8a8a74cf9b72e1947f75b7f960baa3401b0693\n",
      "Successfully built globre\n",
      "Installing collected packages: murmurhash, cymem, wasabi, srsly, preshed, plac, catalogue, blis, thinc, spacy, scipy, pandas, matplotlib, globre, tmtoolkit\n",
      "  Attempting uninstall: scipy\n",
      "    Found existing installation: scipy 1.7.2\n",
      "    Uninstalling scipy-1.7.2:\n",
      "      Successfully uninstalled scipy-1.7.2\n",
      "  Attempting uninstall: pandas\n",
      "    Found existing installation: pandas 1.3.4\n",
      "    Uninstalling pandas-1.3.4:\n",
      "      Successfully uninstalled pandas-1.3.4\n",
      "  Attempting uninstall: matplotlib\n",
      "    Found existing installation: matplotlib 3.4.3\n",
      "    Uninstalling matplotlib-3.4.3:\n",
      "      Successfully uninstalled matplotlib-3.4.3\n",
      "Successfully installed blis-0.7.5 catalogue-1.0.0 cymem-2.0.6 globre-0.1.5 matplotlib-3.3.4 murmurhash-1.0.6 pandas-1.1.5 plac-1.1.3 preshed-3.0.6 scipy-1.5.4 spacy-2.3.7 srsly-1.0.5 thinc-7.4.5 tmtoolkit-0.10.0 wasabi-0.9.0\n",
      "Note: you may need to restart the kernel to use updated packages.\n"
     ]
    }
   ],
   "source": []
  },
  {
   "cell_type": "code",
   "execution_count": 1,
   "id": "a66b60cf",
   "metadata": {},
   "outputs": [
    {
     "ename": "NameError",
     "evalue": "name 'lda_model' is not defined",
     "output_type": "error",
     "traceback": [
      "\u001b[0;31m---------------------------------------------------------------------------\u001b[0m",
      "\u001b[0;31mNameError\u001b[0m                                 Traceback (most recent call last)",
      "\u001b[0;32m/tmp/ipykernel_79/1814809960.py\u001b[0m in \u001b[0;36m<module>\u001b[0;34m\u001b[0m\n\u001b[1;32m      6\u001b[0m metric_coherence_gensim(measure='c_v', \n\u001b[1;32m      7\u001b[0m                         \u001b[0mtop_n\u001b[0m\u001b[0;34m=\u001b[0m\u001b[0;36m25\u001b[0m\u001b[0;34m,\u001b[0m\u001b[0;34m\u001b[0m\u001b[0;34m\u001b[0m\u001b[0m\n\u001b[0;32m----> 8\u001b[0;31m                         \u001b[0mtopic_word_distrib\u001b[0m\u001b[0;34m=\u001b[0m\u001b[0mlda_model\u001b[0m\u001b[0;34m.\u001b[0m\u001b[0mcomponents_\u001b[0m\u001b[0;34m,\u001b[0m\u001b[0;34m\u001b[0m\u001b[0;34m\u001b[0m\u001b[0m\n\u001b[0m\u001b[1;32m      9\u001b[0m                         \u001b[0mdtm\u001b[0m\u001b[0;34m=\u001b[0m\u001b[0mdtm_tf\u001b[0m\u001b[0;34m,\u001b[0m\u001b[0;34m\u001b[0m\u001b[0;34m\u001b[0m\u001b[0m\n\u001b[1;32m     10\u001b[0m                         \u001b[0mvocab\u001b[0m\u001b[0;34m=\u001b[0m\u001b[0mnp\u001b[0m\u001b[0;34m.\u001b[0m\u001b[0marray\u001b[0m\u001b[0;34m(\u001b[0m\u001b[0;34m[\u001b[0m\u001b[0mx\u001b[0m \u001b[0;32mfor\u001b[0m \u001b[0mx\u001b[0m \u001b[0;32min\u001b[0m \u001b[0mvect\u001b[0m\u001b[0;34m.\u001b[0m\u001b[0mvocabulary_\u001b[0m\u001b[0;34m.\u001b[0m\u001b[0mkeys\u001b[0m\u001b[0;34m(\u001b[0m\u001b[0;34m)\u001b[0m\u001b[0;34m]\u001b[0m\u001b[0;34m)\u001b[0m\u001b[0;34m,\u001b[0m\u001b[0;34m\u001b[0m\u001b[0;34m\u001b[0m\u001b[0m\n",
      "\u001b[0;31mNameError\u001b[0m: name 'lda_model' is not defined"
     ]
    }
   ],
   "source": [
    "from tmtoolkit.topicmod.evaluate import metric_coherence_gensim\n",
    "\n",
    "# lda_model - LatentDirichletAllocation()\n",
    "# vect - CountVectorizer()\n",
    "# texts - the list of tokenized words\n",
    "metric_coherence_gensim(measure='c_v', \n",
    "                        top_n=25, \n",
    "                        topic_word_distrib=lda_model.components_, \n",
    "                        dtm=dtm_tf, \n",
    "                        vocab=np.array([x for x in vect.vocabulary_.keys()]), \n",
    "                        texts=train['cleaned_NOUN'].values)"
   ]
  },
  {
   "cell_type": "code",
   "execution_count": null,
   "id": "5625fffb",
   "metadata": {},
   "outputs": [],
   "source": []
  }
 ],
 "metadata": {
  "kernelspec": {
   "display_name": "Python 3 (ipykernel)",
   "language": "python",
   "name": "python3"
  },
  "language_info": {
   "codemirror_mode": {
    "name": "ipython",
    "version": 3
   },
   "file_extension": ".py",
   "mimetype": "text/x-python",
   "name": "python",
   "nbconvert_exporter": "python",
   "pygments_lexer": "ipython3",
   "version": "3.9.7"
  }
 },
 "nbformat": 4,
 "nbformat_minor": 5
}
