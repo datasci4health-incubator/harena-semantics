{
 "cells": [
  {
   "cell_type": "code",
   "execution_count": 1,
   "metadata": {},
   "outputs": [
    {
     "data": {
      "text/plain": [
       "'{\\n  \"responseHeader\":{\\n    \"zkConnected\":null,\\n    \"status\":0,\\n    \"QTime\":4,\\n    \"params\":{\\n      \"q\":\"{!lucene}*:*\",\\n      \"distrib\":\"false\",\\n      \"df\":\"_text_\",\\n      \"rows\":\"10\",\\n      \"echoParams\":\"all\"}},\\n  \"status\":\"OK\"}\\n'"
      ]
     },
     "execution_count": 1,
     "metadata": {},
     "output_type": "execute_result"
    }
   ],
   "source": [
    "import pysolr, os\n",
    "import pandas as pd\n",
    "\n",
    "SOLR_URL = 'http://' + os.environ['SOLR_HOST'] + ':8983/solr/mesh'\n",
    "# SOLR_URL = 'http://solr:8983/solr/pmc'\n",
    "\n",
    "# Create a client instance. The timeout and authentication options are not required.\n",
    "solr = pysolr.Solr(SOLR_URL, always_commit=False)\n",
    "\n",
    "# Do a health check.\n",
    "solr.ping()"
   ]
  },
  {
   "cell_type": "code",
   "execution_count": 2,
   "metadata": {},
   "outputs": [
    {
     "name": "stdout",
     "output_type": "stream",
     "text": [
      "Collecting pysolr\n",
      "  Downloading pysolr-3.9.0.tar.gz (55 kB)\n",
      "\u001b[K     |████████████████████████████████| 55 kB 386 kB/s eta 0:00:01\n",
      "\u001b[?25hRequirement already satisfied: requests>=2.9.1 in /opt/conda/lib/python3.8/site-packages (from pysolr) (2.24.0)\n",
      "Requirement already satisfied: idna<3,>=2.5 in /opt/conda/lib/python3.8/site-packages (from requests>=2.9.1->pysolr) (2.10)\n",
      "Requirement already satisfied: chardet<4,>=3.0.2 in /opt/conda/lib/python3.8/site-packages (from requests>=2.9.1->pysolr) (3.0.4)\n",
      "Requirement already satisfied: certifi>=2017.4.17 in /opt/conda/lib/python3.8/site-packages (from requests>=2.9.1->pysolr) (2020.6.20)\n",
      "Requirement already satisfied: urllib3!=1.25.0,!=1.25.1,<1.26,>=1.21.1 in /opt/conda/lib/python3.8/site-packages (from requests>=2.9.1->pysolr) (1.25.11)\n",
      "Building wheels for collected packages: pysolr\n",
      "  Building wheel for pysolr (setup.py) ... \u001b[?25ldone\n",
      "\u001b[?25h  Created wheel for pysolr: filename=pysolr-3.9.0-py2.py3-none-any.whl size=19670 sha256=1945eaa8864f3ff6cf1023f62fcd7adbd7a2297f2ff4dc5b6b06989b592c8eb1\n",
      "  Stored in directory: /home/jovyan/.cache/pip/wheels/19/d3/2f/18f69b6c70a9566d95cdd031d2bae62232f9e9e552d2d6bcd9\n",
      "Successfully built pysolr\n",
      "Installing collected packages: pysolr\n",
      "Successfully installed pysolr-3.9.0\n",
      "Note: you may need to restart the kernel to use updated packages.\n"
     ]
    }
   ],
   "source": [
    "pip install pysolr"
   ]
  },
  {
   "cell_type": "code",
   "execution_count": null,
   "metadata": {},
   "outputs": [],
   "source": [
    "# Later, searching is easy. In the simple case, just a plain Lucene-style\n",
    "# query is fine.\n",
    "# for i in \n",
    "\n",
    "labels = []\n",
    "sentences = []\n",
    "i=0\n",
    "nrows = 1000\n",
    "numFound=0\n",
    "while i*nrows <= numFound:\n",
    "    results = solr.search('*:*', rows=1000, start=i*nrows)\n",
    "    \n",
    "#     print(results.raw_response['response'])\n",
    "    numFound = results.raw_response['response']['numFound']\n",
    "    i = i+1\n",
    "    \n",
    "    for result in results:\n",
    "        sentence = ''\n",
    "        for et in result['EntryTerm']:\n",
    "            sentence = sentence + et + ' '\n",
    "        sentences.append(sentence)\n",
    "        labels.append(result['ConceptName'][0])\n"
   ]
  },
  {
   "cell_type": "code",
   "execution_count": null,
   "metadata": {},
   "outputs": [],
   "source": [
    "d = {'Sentences':sentences,'Label':labels}\n",
    "df = pd.DataFrame(d)\n",
    "\n",
    "df.to_csv('mesh.csv')"
   ]
  }
 ],
 "metadata": {
  "kernelspec": {
   "display_name": "Python 3",
   "language": "python",
   "name": "python3"
  },
  "language_info": {
   "codemirror_mode": {
    "name": "ipython",
    "version": 3
   },
   "file_extension": ".py",
   "mimetype": "text/x-python",
   "name": "python",
   "nbconvert_exporter": "python",
   "pygments_lexer": "ipython3",
   "version": "3.8.6"
  }
 },
 "nbformat": 4,
 "nbformat_minor": 4
}
