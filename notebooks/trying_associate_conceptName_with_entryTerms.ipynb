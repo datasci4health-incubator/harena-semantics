{
 "cells": [
  {
   "cell_type": "code",
   "execution_count": null,
   "metadata": {},
   "outputs": [],
   "source": [
    "import pysolr, os\n",
    "import pandas as pd\n",
    "\n",
    "SOLR_URL = 'http://' + os.environ['SOLR_HOST'] + ':8983/solr/mesh'\n",
    "\n",
    "# Create a client instance. The timeout and authentication options are not required.\n",
    "solr = pysolr.Solr(SOLR_URL, always_commit=False)\n",
    "\n",
    "# Do a health check.\n",
    "solr.ping()"
   ]
  },
  {
   "cell_type": "code",
   "execution_count": null,
   "metadata": {},
   "outputs": [],
   "source": [
    "# Later, searching is easy. In the simple case, just a plain Lucene-style\n",
    "# query is fine.\n",
    "# for i in \n",
    "\n",
    "labels = []\n",
    "sentences = []\n",
    "i=0\n",
    "nrows = 1000\n",
    "numFound=0\n",
    "while i*nrows <= numFound:\n",
    "    results = solr.search('*:*', rows=1000, start=i*nrows)\n",
    "    \n",
    "#     print(results.raw_response['response'])\n",
    "    numFound = results.raw_response['response']['numFound']\n",
    "    i = i+1\n",
    "    \n",
    "    for result in results:\n",
    "        sentence = ''\n",
    "        for et in result['EntryTerm']:\n",
    "            sentence = sentence + et + ' '\n",
    "        sentences.append(sentence)\n",
    "        labels.append(result['ConceptName'][0])\n"
   ]
  },
  {
   "cell_type": "code",
   "execution_count": null,
   "metadata": {},
   "outputs": [],
   "source": [
    "d = {'Sentences':sentences,'Label':labels}\n",
    "df = pd.DataFrame(d)\n",
    "\n",
    "df.to_csv('mesh.csv')"
   ]
  }
 ],
 "metadata": {
  "kernelspec": {
   "display_name": "Python 3",
   "language": "python",
   "name": "python3"
  },
  "language_info": {
   "codemirror_mode": {
    "name": "ipython",
    "version": 3
   },
   "file_extension": ".py",
   "mimetype": "text/x-python",
   "name": "python",
   "nbconvert_exporter": "python",
   "pygments_lexer": "ipython3",
   "version": "3.8.6"
  }
 },
 "nbformat": 4,
 "nbformat_minor": 4
}
