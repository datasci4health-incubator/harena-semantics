{
 "cells": [
  {
   "cell_type": "code",
   "execution_count": null,
   "id": "4b235a8a",
   "metadata": {},
   "outputs": [],
   "source": [
    "pip install wordcloud"
   ]
  },
  {
   "cell_type": "code",
   "execution_count": null,
   "id": "c5b35a37",
   "metadata": {},
   "outputs": [],
   "source": [
    "from wordcloud import WordCloud \n",
    "import matplotlib.pyplot as plt\n",
    "\n",
    "text = 'Lorem ipsum dolor sit amet, consectetur adipiscing elit. Quisque feugiat dignissim ligula sed feugiat.'\n",
    "text2 = 'Fusce congue tincidunt risus, et maximus elit egestas non. In quis massa dapibus, bibendum magna sed, pellentesque risus.'\n",
    "text3 = 'Quisque a tincidunt urna, quis pulvinar felis. Praesent est lacus, malesuada nec quam at, tincidunt laoreet felis. Sed.'\n",
    "\n",
    "wordcloud = WordCloud(background_color=\"white\", max_words=50).generate(text)\n",
    "\n",
    "fig = plt.figure(1, figsize=(10, 8))\n",
    "\n",
    "ax = fig.add_axes([0, 0, 1, 1])\n",
    "ax.axis('off')\n",
    "\n",
    "fig.patch.set_visible(False)\n",
    "plt.imshow(wordcloud)"
   ]
  },
  {
   "cell_type": "code",
   "execution_count": null,
   "id": "6bb021aa",
   "metadata": {},
   "outputs": [],
   "source": [
    "wordcloud2 = WordCloud(background_color=\"white\", max_words=50).generate(text2)\n",
    "\n",
    "fig = plt.figure(1, figsize=(10, 8))\n",
    "\n",
    "ax = fig.add_axes([0, 0, 1, 1])\n",
    "ax.axis('off')\n",
    "\n",
    "\n",
    "plt.imshow(wordcloud2)"
   ]
  },
  {
   "cell_type": "code",
   "execution_count": null,
   "id": "31dfed2e",
   "metadata": {},
   "outputs": [],
   "source": [
    "wordcloud3 = WordCloud(background_color=\"white\", max_words=50).generate(text3)\n",
    "\n",
    "fig = plt.figure(1, figsize=(10, 8))\n",
    "\n",
    "ax = fig.add_axes([0, 0, 1, 1])\n",
    "ax.axis('off')\n",
    "\n",
    "\n",
    "plt.imshow(wordcloud3)"
   ]
  }
 ],
 "metadata": {
  "kernelspec": {
   "display_name": "Python 3 (ipykernel)",
   "language": "python",
   "name": "python3"
  },
  "language_info": {
   "codemirror_mode": {
    "name": "ipython",
    "version": 3
   },
   "file_extension": ".py",
   "mimetype": "text/x-python",
   "name": "python",
   "nbconvert_exporter": "python",
   "pygments_lexer": "ipython3",
   "version": "3.9.7"
  }
 },
 "nbformat": 4,
 "nbformat_minor": 5
}
